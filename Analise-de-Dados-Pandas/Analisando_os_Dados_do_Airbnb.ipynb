{
  "nbformat": 4,
  "nbformat_minor": 0,
  "metadata": {
    "colab": {
      "provenance": []
    },
    "kernelspec": {
      "name": "python3",
      "display_name": "Python 3"
    }
  },
  "cells": [
    {
      "cell_type": "markdown",
      "metadata": {
        "id": "kLI0gJtzDGuQ"
      },
      "source": [
        "<img alt=\"Colaboratory logo\" width=\"15%\" src=\"https://raw.githubusercontent.com/carlosfab/escola-data-science/master/img/novo_logo_bg_claro.png\">\n",
        "\n",
        "#### **Data Science na Prática 3.0**\n",
        "*by [sigmoidal.ai](https://sigmoidal.ai)*\n",
        "\n",
        "---\n",
        "\n",
        "# Análise dos Dados do Airbnb - *Lisboa - Portugal*\n",
        "\n",
        "O [Airbnb](https://www.airbnb.com.br/) já é considerado como sendo a **maior empresa hoteleira da atualidade**. Ah, o detalhe é que ele **não possui nenhum hotel**!\n",
        "\n",
        "Conectando pessoas que querem viajar (e se hospedar) com anfitriões que querem alugar seus imóveis de maneira prática, o Airbnb fornece uma plataforma inovadora para tornar essa hospedagem alternativa.\n",
        "\n",
        "No final de 2018, a Startup fundada 10 anos atrás, já havia **hospedado mais de 300 milhões** de pessoas ao redor de todo o mundo, desafiando as redes hoteleiras tradicionais.\n",
        "\n",
        "Uma das iniciativas do Airbnb é disponibilizar dados do site, para algumas das principais cidades do mundo. Por meio do portal [Inside Airbnb](http://insideairbnb.com/get-the-data.html), é possível baixar uma grande quantidade de dados para desenvolver projetos e soluções de *Data Science*.\n",
        "\n",
        "<center><img alt=\"Analisando Airbnb\" width=\"10%\" src=\"https://www.area360.com.au/wp-content/uploads/2017/09/airbnb-logo.jpg\"></center>\n",
        "\n",
        "**Neste *notebook*, iremos analisar os dados referentes à cidade de Lisboa em Portugal, e ver quais insights podem ser extraídos a partir de dados brutos.**"
      ]
    },
    {
      "cell_type": "markdown",
      "metadata": {
        "id": "0zxQHhIUDF_2"
      },
      "source": [
        "## Obtenção dos Dados\n"
      ]
    },
    {
      "cell_type": "code",
      "metadata": {
        "id": "Vhp2wMPgJ6zX"
      },
      "source": [
        "# importar os pacotes necessarios\n",
        "import pandas as pd\n",
        "import seaborn as sns\n",
        "import matplotlib.pyplot as plt\n",
        "\n",
        "%matplotlib inline"
      ],
      "execution_count": 1,
      "outputs": []
    },
    {
      "cell_type": "code",
      "metadata": {
        "id": "tUmoAT8DLQ5T"
      },
      "source": [
        "# importar o arquivo listings.csv para um DataFrame\n",
        "df = pd.read_csv('http://data.insideairbnb.com/portugal/lisbon/lisbon/2022-09-13/visualisations/listings.csv')"
      ],
      "execution_count": 2,
      "outputs": []
    },
    {
      "cell_type": "markdown",
      "metadata": {
        "id": "qb5By2nIMS6m"
      },
      "source": [
        "## Análise dos Dados\n"
      ]
    },
    {
      "cell_type": "markdown",
      "metadata": {
        "id": "RYgvuebKNg8-"
      },
      "source": [
        "Abaixo segue a definição de cada uma das 18 variáveis desse conjunto de dados\n",
        "\n",
        "&nbsp;\n",
        "\n",
        "| **Variáveis** | **Definição** |\n",
        "|---|---|\n",
        "|* **id**|Numeração única de identificação de cada imóvel|\n",
        "|* **name**|Nome do imóvel que foi anunciado|\n",
        "|* **host_id**|Numeração única de identificação do proprietário (anfitrião) de cada imóvel|\n",
        "|* **host_name**|Nome do proprietário (anfitrião)|\n",
        "|* **neighbourhood_group**|Numeração única de identificação de cada imóvel|\n",
        "|* **neighbourhood**|Nome do bairro|\n",
        "|* **latitude**|Coordenada Latitude|\n",
        "|* **longitude**|Coordenada Longitude|\n",
        "|* **room_type**|Tipo de quarto anunciado|\n",
        "|* **price**|Preço de aluguel|\n",
        "|* **minimum_nights**|Quantidade mínima de noites para efetuar a reserva|\n",
        "|* **number_of_reviews**|Número de comentários que o imóvel possui|\n",
        "|* **last_review**|Data do último comentário do imóvel|\n",
        "|* **reviews_per_month**|Quantidade de comentários mensais do imóvel|\n",
        "|* **calculated_host_listings_count**|Quantidade de imóveis do mesmo proprietário (anfitrião)|\n",
        "|* **availability_365**|Numeros de dias disponíveis para os próximos 365 dias|\n",
        "|* **number_of_reviews_ltm**|Quantidade de comentários do imóvel nos últimos 12 meses|\n",
        "|* **licence**|Número de licença/autorização/registro do imóvel|\n",
        "\n",
        "&nbsp;\n",
        "\n",
        "Antes de iniciar qualquer análise, vamos verificar a cara do nosso *dataset*, analisando as 5 primeiras entradas."
      ]
    },
    {
      "cell_type": "code",
      "metadata": {
        "id": "2iS_dae7YQtO",
        "colab": {
          "base_uri": "https://localhost:8080/",
          "height": 600
        },
        "outputId": "2d4c2f67-e085-431d-f0f6-49ada2804856"
      },
      "source": [
        "# mostrar as 5 primeiras entradas\n",
        "df.head()"
      ],
      "execution_count": 3,
      "outputs": [
        {
          "output_type": "execute_result",
          "data": {
            "text/plain": [
              "         id                                               name    host_id  \\\n",
              "0      6499               Belém 1 Bedroom Historical Apartment      14455   \n",
              "1  36664873  Casa Ferry Holiday House Lisbon 15min & Beach ...  275575455   \n",
              "2  25345952       La maison de la plage, et de la tranquillité  175971197   \n",
              "3     25659   Heart of Alfama Lisbon Center - Cœur de l'Alfama     107347   \n",
              "4  28283003     Apartamento no Coração da Aldeia/ Flat to Rent  213594711   \n",
              "\n",
              "  host_name neighbourhood_group      neighbourhood   latitude  longitude  \\\n",
              "0     Bruno              Lisboa               Belm  38.697500  -9.197680   \n",
              "1     Joana              Lisboa               Belm  38.671280  -9.230640   \n",
              "2    Ramiro             Lourinh  Lourinh e Atalaia  39.306640  -9.337600   \n",
              "3     Ellie              Lisboa  Santa Maria Maior  38.712410  -9.127060   \n",
              "4     Jorge             Lourinh  Lourinh e Atalaia  39.308548  -9.338993   \n",
              "\n",
              "         room_type  price  minimum_nights  number_of_reviews last_review  \\\n",
              "0  Entire home/apt     69               3                 44  2022-08-09   \n",
              "1  Entire home/apt     95               2                 21  2022-09-03   \n",
              "2  Entire home/apt     65               5                 37  2022-08-18   \n",
              "3  Entire home/apt     54               2                166  2022-09-11   \n",
              "4  Entire home/apt     59               3                 12  2022-08-29   \n",
              "\n",
              "   reviews_per_month  calculated_host_listings_count  availability_365  \\\n",
              "0               0.45                               1               195   \n",
              "1               0.56                               1                72   \n",
              "2               0.89                               2               269   \n",
              "3               1.62                               1               304   \n",
              "4               0.27                               3               170   \n",
              "\n",
              "   number_of_reviews_ltm    license  \n",
              "0                     15        NaN  \n",
              "1                      8   42622/AL  \n",
              "2                     16     Exempt  \n",
              "3                     45  56539/AL.  \n",
              "4                      5   84329/AL  "
            ],
            "text/html": [
              "\n",
              "  <div id=\"df-a9805cf9-aaa1-4ea8-8208-239173b8770c\">\n",
              "    <div class=\"colab-df-container\">\n",
              "      <div>\n",
              "<style scoped>\n",
              "    .dataframe tbody tr th:only-of-type {\n",
              "        vertical-align: middle;\n",
              "    }\n",
              "\n",
              "    .dataframe tbody tr th {\n",
              "        vertical-align: top;\n",
              "    }\n",
              "\n",
              "    .dataframe thead th {\n",
              "        text-align: right;\n",
              "    }\n",
              "</style>\n",
              "<table border=\"1\" class=\"dataframe\">\n",
              "  <thead>\n",
              "    <tr style=\"text-align: right;\">\n",
              "      <th></th>\n",
              "      <th>id</th>\n",
              "      <th>name</th>\n",
              "      <th>host_id</th>\n",
              "      <th>host_name</th>\n",
              "      <th>neighbourhood_group</th>\n",
              "      <th>neighbourhood</th>\n",
              "      <th>latitude</th>\n",
              "      <th>longitude</th>\n",
              "      <th>room_type</th>\n",
              "      <th>price</th>\n",
              "      <th>minimum_nights</th>\n",
              "      <th>number_of_reviews</th>\n",
              "      <th>last_review</th>\n",
              "      <th>reviews_per_month</th>\n",
              "      <th>calculated_host_listings_count</th>\n",
              "      <th>availability_365</th>\n",
              "      <th>number_of_reviews_ltm</th>\n",
              "      <th>license</th>\n",
              "    </tr>\n",
              "  </thead>\n",
              "  <tbody>\n",
              "    <tr>\n",
              "      <th>0</th>\n",
              "      <td>6499</td>\n",
              "      <td>Belém 1 Bedroom Historical Apartment</td>\n",
              "      <td>14455</td>\n",
              "      <td>Bruno</td>\n",
              "      <td>Lisboa</td>\n",
              "      <td>Belm</td>\n",
              "      <td>38.697500</td>\n",
              "      <td>-9.197680</td>\n",
              "      <td>Entire home/apt</td>\n",
              "      <td>69</td>\n",
              "      <td>3</td>\n",
              "      <td>44</td>\n",
              "      <td>2022-08-09</td>\n",
              "      <td>0.45</td>\n",
              "      <td>1</td>\n",
              "      <td>195</td>\n",
              "      <td>15</td>\n",
              "      <td>NaN</td>\n",
              "    </tr>\n",
              "    <tr>\n",
              "      <th>1</th>\n",
              "      <td>36664873</td>\n",
              "      <td>Casa Ferry Holiday House Lisbon 15min &amp; Beach ...</td>\n",
              "      <td>275575455</td>\n",
              "      <td>Joana</td>\n",
              "      <td>Lisboa</td>\n",
              "      <td>Belm</td>\n",
              "      <td>38.671280</td>\n",
              "      <td>-9.230640</td>\n",
              "      <td>Entire home/apt</td>\n",
              "      <td>95</td>\n",
              "      <td>2</td>\n",
              "      <td>21</td>\n",
              "      <td>2022-09-03</td>\n",
              "      <td>0.56</td>\n",
              "      <td>1</td>\n",
              "      <td>72</td>\n",
              "      <td>8</td>\n",
              "      <td>42622/AL</td>\n",
              "    </tr>\n",
              "    <tr>\n",
              "      <th>2</th>\n",
              "      <td>25345952</td>\n",
              "      <td>La maison de la plage, et de la tranquillité</td>\n",
              "      <td>175971197</td>\n",
              "      <td>Ramiro</td>\n",
              "      <td>Lourinh</td>\n",
              "      <td>Lourinh e Atalaia</td>\n",
              "      <td>39.306640</td>\n",
              "      <td>-9.337600</td>\n",
              "      <td>Entire home/apt</td>\n",
              "      <td>65</td>\n",
              "      <td>5</td>\n",
              "      <td>37</td>\n",
              "      <td>2022-08-18</td>\n",
              "      <td>0.89</td>\n",
              "      <td>2</td>\n",
              "      <td>269</td>\n",
              "      <td>16</td>\n",
              "      <td>Exempt</td>\n",
              "    </tr>\n",
              "    <tr>\n",
              "      <th>3</th>\n",
              "      <td>25659</td>\n",
              "      <td>Heart of Alfama Lisbon Center - Cœur de l'Alfama</td>\n",
              "      <td>107347</td>\n",
              "      <td>Ellie</td>\n",
              "      <td>Lisboa</td>\n",
              "      <td>Santa Maria Maior</td>\n",
              "      <td>38.712410</td>\n",
              "      <td>-9.127060</td>\n",
              "      <td>Entire home/apt</td>\n",
              "      <td>54</td>\n",
              "      <td>2</td>\n",
              "      <td>166</td>\n",
              "      <td>2022-09-11</td>\n",
              "      <td>1.62</td>\n",
              "      <td>1</td>\n",
              "      <td>304</td>\n",
              "      <td>45</td>\n",
              "      <td>56539/AL.</td>\n",
              "    </tr>\n",
              "    <tr>\n",
              "      <th>4</th>\n",
              "      <td>28283003</td>\n",
              "      <td>Apartamento no Coração da Aldeia/ Flat to Rent</td>\n",
              "      <td>213594711</td>\n",
              "      <td>Jorge</td>\n",
              "      <td>Lourinh</td>\n",
              "      <td>Lourinh e Atalaia</td>\n",
              "      <td>39.308548</td>\n",
              "      <td>-9.338993</td>\n",
              "      <td>Entire home/apt</td>\n",
              "      <td>59</td>\n",
              "      <td>3</td>\n",
              "      <td>12</td>\n",
              "      <td>2022-08-29</td>\n",
              "      <td>0.27</td>\n",
              "      <td>3</td>\n",
              "      <td>170</td>\n",
              "      <td>5</td>\n",
              "      <td>84329/AL</td>\n",
              "    </tr>\n",
              "  </tbody>\n",
              "</table>\n",
              "</div>\n",
              "      <button class=\"colab-df-convert\" onclick=\"convertToInteractive('df-a9805cf9-aaa1-4ea8-8208-239173b8770c')\"\n",
              "              title=\"Convert this dataframe to an interactive table.\"\n",
              "              style=\"display:none;\">\n",
              "        \n",
              "  <svg xmlns=\"http://www.w3.org/2000/svg\" height=\"24px\"viewBox=\"0 0 24 24\"\n",
              "       width=\"24px\">\n",
              "    <path d=\"M0 0h24v24H0V0z\" fill=\"none\"/>\n",
              "    <path d=\"M18.56 5.44l.94 2.06.94-2.06 2.06-.94-2.06-.94-.94-2.06-.94 2.06-2.06.94zm-11 1L8.5 8.5l.94-2.06 2.06-.94-2.06-.94L8.5 2.5l-.94 2.06-2.06.94zm10 10l.94 2.06.94-2.06 2.06-.94-2.06-.94-.94-2.06-.94 2.06-2.06.94z\"/><path d=\"M17.41 7.96l-1.37-1.37c-.4-.4-.92-.59-1.43-.59-.52 0-1.04.2-1.43.59L10.3 9.45l-7.72 7.72c-.78.78-.78 2.05 0 2.83L4 21.41c.39.39.9.59 1.41.59.51 0 1.02-.2 1.41-.59l7.78-7.78 2.81-2.81c.8-.78.8-2.07 0-2.86zM5.41 20L4 18.59l7.72-7.72 1.47 1.35L5.41 20z\"/>\n",
              "  </svg>\n",
              "      </button>\n",
              "      \n",
              "  <style>\n",
              "    .colab-df-container {\n",
              "      display:flex;\n",
              "      flex-wrap:wrap;\n",
              "      gap: 12px;\n",
              "    }\n",
              "\n",
              "    .colab-df-convert {\n",
              "      background-color: #E8F0FE;\n",
              "      border: none;\n",
              "      border-radius: 50%;\n",
              "      cursor: pointer;\n",
              "      display: none;\n",
              "      fill: #1967D2;\n",
              "      height: 32px;\n",
              "      padding: 0 0 0 0;\n",
              "      width: 32px;\n",
              "    }\n",
              "\n",
              "    .colab-df-convert:hover {\n",
              "      background-color: #E2EBFA;\n",
              "      box-shadow: 0px 1px 2px rgba(60, 64, 67, 0.3), 0px 1px 3px 1px rgba(60, 64, 67, 0.15);\n",
              "      fill: #174EA6;\n",
              "    }\n",
              "\n",
              "    [theme=dark] .colab-df-convert {\n",
              "      background-color: #3B4455;\n",
              "      fill: #D2E3FC;\n",
              "    }\n",
              "\n",
              "    [theme=dark] .colab-df-convert:hover {\n",
              "      background-color: #434B5C;\n",
              "      box-shadow: 0px 1px 3px 1px rgba(0, 0, 0, 0.15);\n",
              "      filter: drop-shadow(0px 1px 2px rgba(0, 0, 0, 0.3));\n",
              "      fill: #FFFFFF;\n",
              "    }\n",
              "  </style>\n",
              "\n",
              "      <script>\n",
              "        const buttonEl =\n",
              "          document.querySelector('#df-a9805cf9-aaa1-4ea8-8208-239173b8770c button.colab-df-convert');\n",
              "        buttonEl.style.display =\n",
              "          google.colab.kernel.accessAllowed ? 'block' : 'none';\n",
              "\n",
              "        async function convertToInteractive(key) {\n",
              "          const element = document.querySelector('#df-a9805cf9-aaa1-4ea8-8208-239173b8770c');\n",
              "          const dataTable =\n",
              "            await google.colab.kernel.invokeFunction('convertToInteractive',\n",
              "                                                     [key], {});\n",
              "          if (!dataTable) return;\n",
              "\n",
              "          const docLinkHtml = 'Like what you see? Visit the ' +\n",
              "            '<a target=\"_blank\" href=https://colab.research.google.com/notebooks/data_table.ipynb>data table notebook</a>'\n",
              "            + ' to learn more about interactive tables.';\n",
              "          element.innerHTML = '';\n",
              "          dataTable['output_type'] = 'display_data';\n",
              "          await google.colab.output.renderOutput(dataTable, element);\n",
              "          const docLink = document.createElement('div');\n",
              "          docLink.innerHTML = docLinkHtml;\n",
              "          element.appendChild(docLink);\n",
              "        }\n",
              "      </script>\n",
              "    </div>\n",
              "  </div>\n",
              "  "
            ]
          },
          "metadata": {},
          "execution_count": 3
        }
      ]
    },
    {
      "cell_type": "markdown",
      "metadata": {
        "id": "6-B_qtEaYEd-"
      },
      "source": [
        "### **Q1. Quantos atributos (variáveis) e quantas entradas o nosso conjunto de dados possui? Quais os tipos das variáveis?**"
      ]
    },
    {
      "cell_type": "markdown",
      "source": [
        "Em seguida, vamos identificar qual o tamanho do nosso dataset, observando o número de variáveis, número de entradas e até os tipos de variáveis. \n",
        "\n",
        "Além disso, vale mencionar que o conjunto de dados sendo utilizado é uma versão \"resumida\" do Airbnb. Na mesma página em que baixamos o arquivo `listings.csv`, estão disponíveis conjuntos mais completos, como o `listings.csv.gz`. \n",
        "\n",
        "Apesar disso, o dataset utilizado supre completamente a análise exploratória realizada aqui."
      ],
      "metadata": {
        "id": "ZLYHQEmHBUcl"
      }
    },
    {
      "cell_type": "code",
      "metadata": {
        "id": "TFRK0tniLV-G",
        "colab": {
          "base_uri": "https://localhost:8080/"
        },
        "outputId": "09284b85-1ace-48ed-d80c-afda1a667970"
      },
      "source": [
        "# identificar o volume de dados do DataFrame\n",
        "print(f\"Quantidade de Entradas: {df.shape[0]}\")\n",
        "print(f\"Quantidade de Atributos: {df.shape[1]}\\n\")\n",
        "\n",
        "# verificar os tipos de atributos\n",
        "df.dtypes"
      ],
      "execution_count": 4,
      "outputs": [
        {
          "output_type": "stream",
          "name": "stdout",
          "text": [
            "Quantidade de Entradas: 19651\n",
            "Quantidade de Atributos: 18\n",
            "\n"
          ]
        },
        {
          "output_type": "execute_result",
          "data": {
            "text/plain": [
              "id                                  int64\n",
              "name                               object\n",
              "host_id                             int64\n",
              "host_name                          object\n",
              "neighbourhood_group                object\n",
              "neighbourhood                      object\n",
              "latitude                          float64\n",
              "longitude                         float64\n",
              "room_type                          object\n",
              "price                               int64\n",
              "minimum_nights                      int64\n",
              "number_of_reviews                   int64\n",
              "last_review                        object\n",
              "reviews_per_month                 float64\n",
              "calculated_host_listings_count      int64\n",
              "availability_365                    int64\n",
              "number_of_reviews_ltm               int64\n",
              "license                            object\n",
              "dtype: object"
            ]
          },
          "metadata": {},
          "execution_count": 4
        }
      ]
    },
    {
      "cell_type": "markdown",
      "metadata": {
        "id": "yz1urSUGW9iE"
      },
      "source": [
        "### **Q2. Qual a porcentagem de valores ausentes no *dataset*?**"
      ]
    },
    {
      "cell_type": "markdown",
      "source": [
        "É **importantíssimo** tratar os valores ausentes em nosso dataset, estando eles diretamente relacionados com a qualidade de nosso conjunto de dados. \n",
        "\n",
        "Vamos tentar entender logo de cara qual é a relevância percentual desses valores ausentes se comparados ao total de entradas.\n",
        "\n",
        "Com isso, foi possível notar que:\n",
        "\n",
        "* As variáveis `reviews_per_month` e `last_review` possuem praticamente 10% de entradas ausentes.\n",
        "* A coluna `licence` possui praticamente 7% de entradas ausentes.\n",
        "* A coluna `name` possui cerca de 0.05% de entradas ausentes."
      ],
      "metadata": {
        "id": "Xxv0q2MOCeyk"
      }
    },
    {
      "cell_type": "code",
      "metadata": {
        "id": "plk2FjbCXOqP",
        "colab": {
          "base_uri": "https://localhost:8080/"
        },
        "outputId": "1e1c3c80-7826-474c-b286-eaa0bf1b8073"
      },
      "source": [
        "# ordenar em ordem decrescente as variáveis por seus valores ausentes\n",
        "round((df.isnull().sum().sort_values(ascending = False) / df.shape[0] * 100 ), 3)"
      ],
      "execution_count": 5,
      "outputs": [
        {
          "output_type": "execute_result",
          "data": {
            "text/plain": [
              "reviews_per_month                 9.842\n",
              "last_review                       9.842\n",
              "license                           6.931\n",
              "name                              0.041\n",
              "number_of_reviews_ltm             0.000\n",
              "availability_365                  0.000\n",
              "calculated_host_listings_count    0.000\n",
              "number_of_reviews                 0.000\n",
              "minimum_nights                    0.000\n",
              "id                                0.000\n",
              "room_type                         0.000\n",
              "longitude                         0.000\n",
              "latitude                          0.000\n",
              "neighbourhood                     0.000\n",
              "neighbourhood_group               0.000\n",
              "host_name                         0.000\n",
              "host_id                           0.000\n",
              "price                             0.000\n",
              "dtype: float64"
            ]
          },
          "metadata": {},
          "execution_count": 5
        }
      ]
    },
    {
      "cell_type": "markdown",
      "metadata": {
        "id": "iHXvvHIxaoNc"
      },
      "source": [
        "### **Q3. Qual o tipo de distribuição das variáveis?** "
      ]
    },
    {
      "cell_type": "markdown",
      "source": [
        "Uma ferramenta gráfica que ilustra bem a distribuição de um conjunto de dados é o histograma. Vamos plotar essas distribuições para cada uma de nossa variáveis numéricas."
      ],
      "metadata": {
        "id": "RfKNIxQ0D8iQ"
      }
    },
    {
      "cell_type": "code",
      "metadata": {
        "id": "q2wWSfeRbmBo",
        "colab": {
          "base_uri": "https://localhost:8080/",
          "height": 607
        },
        "outputId": "b8f13cd2-3dea-4dd5-a7de-a7ba8933f43c"
      },
      "source": [
        "# plotar o histograma das variáveis numéricas\n",
        "df.hist(bins=20, figsize=(15,10), color='g');"
      ],
      "execution_count": 6,
      "outputs": [
        {
          "output_type": "display_data",
          "data": {
            "text/plain": [
              "<Figure size 1080x720 with 12 Axes>"
            ],
            "image/png": "[encoded data removed]"
          },
          "metadata": {
            "needs_background": "light"
          }
        }
      ]
    },
    {
      "cell_type": "markdown",
      "source": [
        "#### Existem ouliers presentes?\n",
        "\n",
        "A partir dos histogramas acima, podemos notar ocorrências de valores muito discrepantes em nossa distribuição, podendo assim indicar que estamos lidando com outliers. Existem formas rápidas para detectar esses dados. Como por exemplo:\n",
        "\n",
        "* Resumo estatístico pelo método describe().\n",
        "* Plotar boxplots para as variáveis investigadas."
      ],
      "metadata": {
        "id": "MiBcfYBmEHak"
      }
    },
    {
      "cell_type": "markdown",
      "source": [
        "#### Utilizando o método describe()"
      ],
      "metadata": {
        "id": "igDBCywpEeaK"
      }
    },
    {
      "cell_type": "code",
      "source": [
        "df[['price', 'minimum_nights', 'number_of_reviews', 'reviews_per_month', \n",
        "    'calculated_host_listings_count', 'availability_365']].describe()"
      ],
      "metadata": {
        "colab": {
          "base_uri": "https://localhost:8080/",
          "height": 300
        },
        "id": "HDGx5-5azvnL",
        "outputId": "ce555515-0abf-4014-defa-b9e2cce996a4"
      },
      "execution_count": 7,
      "outputs": [
        {
          "output_type": "execute_result",
          "data": {
            "text/plain": [
              "              price  minimum_nights  number_of_reviews  reviews_per_month  \\\n",
              "count  19651.000000    19651.000000       19651.000000       17717.000000   \n",
              "mean     142.822197        3.979899          54.666124           1.507802   \n",
              "std      298.507221       15.534765          82.187743           1.515960   \n",
              "min        0.000000        1.000000           0.000000           0.010000   \n",
              "25%       69.000000        1.000000           5.000000           0.430000   \n",
              "50%      100.000000        2.000000          21.000000           1.070000   \n",
              "75%      152.000000        3.000000          69.000000           2.170000   \n",
              "max    22000.000000     1000.000000        1961.000000          60.390000   \n",
              "\n",
              "       calculated_host_listings_count  availability_365  \n",
              "count                    19651.000000      19651.000000  \n",
              "mean                        16.245229        211.683070  \n",
              "std                         41.784592        124.981629  \n",
              "min                          1.000000          0.000000  \n",
              "25%                          1.000000         96.000000  \n",
              "50%                          4.000000        255.000000  \n",
              "75%                         13.000000        323.000000  \n",
              "max                        292.000000        365.000000  "
            ],
            "text/html": [
              "\n",
              "  <div id=\"df-9d10e985-e2a3-4f53-9495-d079de797bf5\">\n",
              "    <div class=\"colab-df-container\">\n",
              "      <div>\n",
              "<style scoped>\n",
              "    .dataframe tbody tr th:only-of-type {\n",
              "        vertical-align: middle;\n",
              "    }\n",
              "\n",
              "    .dataframe tbody tr th {\n",
              "        vertical-align: top;\n",
              "    }\n",
              "\n",
              "    .dataframe thead th {\n",
              "        text-align: right;\n",
              "    }\n",
              "</style>\n",
              "<table border=\"1\" class=\"dataframe\">\n",
              "  <thead>\n",
              "    <tr style=\"text-align: right;\">\n",
              "      <th></th>\n",
              "      <th>price</th>\n",
              "      <th>minimum_nights</th>\n",
              "      <th>number_of_reviews</th>\n",
              "      <th>reviews_per_month</th>\n",
              "      <th>calculated_host_listings_count</th>\n",
              "      <th>availability_365</th>\n",
              "    </tr>\n",
              "  </thead>\n",
              "  <tbody>\n",
              "    <tr>\n",
              "      <th>count</th>\n",
              "      <td>19651.000000</td>\n",
              "      <td>19651.000000</td>\n",
              "      <td>19651.000000</td>\n",
              "      <td>17717.000000</td>\n",
              "      <td>19651.000000</td>\n",
              "      <td>19651.000000</td>\n",
              "    </tr>\n",
              "    <tr>\n",
              "      <th>mean</th>\n",
              "      <td>142.822197</td>\n",
              "      <td>3.979899</td>\n",
              "      <td>54.666124</td>\n",
              "      <td>1.507802</td>\n",
              "      <td>16.245229</td>\n",
              "      <td>211.683070</td>\n",
              "    </tr>\n",
              "    <tr>\n",
              "      <th>std</th>\n",
              "      <td>298.507221</td>\n",
              "      <td>15.534765</td>\n",
              "      <td>82.187743</td>\n",
              "      <td>1.515960</td>\n",
              "      <td>41.784592</td>\n",
              "      <td>124.981629</td>\n",
              "    </tr>\n",
              "    <tr>\n",
              "      <th>min</th>\n",
              "      <td>0.000000</td>\n",
              "      <td>1.000000</td>\n",
              "      <td>0.000000</td>\n",
              "      <td>0.010000</td>\n",
              "      <td>1.000000</td>\n",
              "      <td>0.000000</td>\n",
              "    </tr>\n",
              "    <tr>\n",
              "      <th>25%</th>\n",
              "      <td>69.000000</td>\n",
              "      <td>1.000000</td>\n",
              "      <td>5.000000</td>\n",
              "      <td>0.430000</td>\n",
              "      <td>1.000000</td>\n",
              "      <td>96.000000</td>\n",
              "    </tr>\n",
              "    <tr>\n",
              "      <th>50%</th>\n",
              "      <td>100.000000</td>\n",
              "      <td>2.000000</td>\n",
              "      <td>21.000000</td>\n",
              "      <td>1.070000</td>\n",
              "      <td>4.000000</td>\n",
              "      <td>255.000000</td>\n",
              "    </tr>\n",
              "    <tr>\n",
              "      <th>75%</th>\n",
              "      <td>152.000000</td>\n",
              "      <td>3.000000</td>\n",
              "      <td>69.000000</td>\n",
              "      <td>2.170000</td>\n",
              "      <td>13.000000</td>\n",
              "      <td>323.000000</td>\n",
              "    </tr>\n",
              "    <tr>\n",
              "      <th>max</th>\n",
              "      <td>22000.000000</td>\n",
              "      <td>1000.000000</td>\n",
              "      <td>1961.000000</td>\n",
              "      <td>60.390000</td>\n",
              "      <td>292.000000</td>\n",
              "      <td>365.000000</td>\n",
              "    </tr>\n",
              "  </tbody>\n",
              "</table>\n",
              "</div>\n",
              "      <button class=\"colab-df-convert\" onclick=\"convertToInteractive('df-9d10e985-e2a3-4f53-9495-d079de797bf5')\"\n",
              "              title=\"Convert this dataframe to an interactive table.\"\n",
              "              style=\"display:none;\">\n",
              "        \n",
              "  <svg xmlns=\"http://www.w3.org/2000/svg\" height=\"24px\"viewBox=\"0 0 24 24\"\n",
              "       width=\"24px\">\n",
              "    <path d=\"M0 0h24v24H0V0z\" fill=\"none\"/>\n",
              "    <path d=\"M18.56 5.44l.94 2.06.94-2.06 2.06-.94-2.06-.94-.94-2.06-.94 2.06-2.06.94zm-11 1L8.5 8.5l.94-2.06 2.06-.94-2.06-.94L8.5 2.5l-.94 2.06-2.06.94zm10 10l.94 2.06.94-2.06 2.06-.94-2.06-.94-.94-2.06-.94 2.06-2.06.94z\"/><path d=\"M17.41 7.96l-1.37-1.37c-.4-.4-.92-.59-1.43-.59-.52 0-1.04.2-1.43.59L10.3 9.45l-7.72 7.72c-.78.78-.78 2.05 0 2.83L4 21.41c.39.39.9.59 1.41.59.51 0 1.02-.2 1.41-.59l7.78-7.78 2.81-2.81c.8-.78.8-2.07 0-2.86zM5.41 20L4 18.59l7.72-7.72 1.47 1.35L5.41 20z\"/>\n",
              "  </svg>\n",
              "      </button>\n",
              "      \n",
              "  <style>\n",
              "    .colab-df-container {\n",
              "      display:flex;\n",
              "      flex-wrap:wrap;\n",
              "      gap: 12px;\n",
              "    }\n",
              "\n",
              "    .colab-df-convert {\n",
              "      background-color: #E8F0FE;\n",
              "      border: none;\n",
              "      border-radius: 50%;\n",
              "      cursor: pointer;\n",
              "      display: none;\n",
              "      fill: #1967D2;\n",
              "      height: 32px;\n",
              "      padding: 0 0 0 0;\n",
              "      width: 32px;\n",
              "    }\n",
              "\n",
              "    .colab-df-convert:hover {\n",
              "      background-color: #E2EBFA;\n",
              "      box-shadow: 0px 1px 2px rgba(60, 64, 67, 0.3), 0px 1px 3px 1px rgba(60, 64, 67, 0.15);\n",
              "      fill: #174EA6;\n",
              "    }\n",
              "\n",
              "    [theme=dark] .colab-df-convert {\n",
              "      background-color: #3B4455;\n",
              "      fill: #D2E3FC;\n",
              "    }\n",
              "\n",
              "    [theme=dark] .colab-df-convert:hover {\n",
              "      background-color: #434B5C;\n",
              "      box-shadow: 0px 1px 3px 1px rgba(0, 0, 0, 0.15);\n",
              "      filter: drop-shadow(0px 1px 2px rgba(0, 0, 0, 0.3));\n",
              "      fill: #FFFFFF;\n",
              "    }\n",
              "  </style>\n",
              "\n",
              "      <script>\n",
              "        const buttonEl =\n",
              "          document.querySelector('#df-9d10e985-e2a3-4f53-9495-d079de797bf5 button.colab-df-convert');\n",
              "        buttonEl.style.display =\n",
              "          google.colab.kernel.accessAllowed ? 'block' : 'none';\n",
              "\n",
              "        async function convertToInteractive(key) {\n",
              "          const element = document.querySelector('#df-9d10e985-e2a3-4f53-9495-d079de797bf5');\n",
              "          const dataTable =\n",
              "            await google.colab.kernel.invokeFunction('convertToInteractive',\n",
              "                                                     [key], {});\n",
              "          if (!dataTable) return;\n",
              "\n",
              "          const docLinkHtml = 'Like what you see? Visit the ' +\n",
              "            '<a target=\"_blank\" href=https://colab.research.google.com/notebooks/data_table.ipynb>data table notebook</a>'\n",
              "            + ' to learn more about interactive tables.';\n",
              "          element.innerHTML = '';\n",
              "          dataTable['output_type'] = 'display_data';\n",
              "          await google.colab.output.renderOutput(dataTable, element);\n",
              "          const docLink = document.createElement('div');\n",
              "          docLink.innerHTML = docLinkHtml;\n",
              "          element.appendChild(docLink);\n",
              "        }\n",
              "      </script>\n",
              "    </div>\n",
              "  </div>\n",
              "  "
            ]
          },
          "metadata": {},
          "execution_count": 7
        }
      ]
    },
    {
      "cell_type": "markdown",
      "source": [
        "A partir do resumo estatístico acima, podemos confirmar a nossa suspeita sobre a presença de outliers, como por exemplo:\n",
        "\n",
        "* A variável `price` possui um valor nulo para o aluguel, o que não faz sentido do ponto de vista de negócio. Além disso, o valor máximo está muito elevado em relação à mediana, o que pode ser um indicativo que estamos lidando com um outlier que, se não tratado, poderá enviesar drasticamente nossa análise.\n",
        "* A variável `minimum_nights` possui valor superior aos 365 dias do ano.\n",
        "\n",
        "##### **Mas...como reconhecer objetivamente um outlier?**\n",
        "\n",
        "É de grande importância identificar/classificar e limpar esses pontos discrepantes, visto que eles podem mostrar conclusões equivocadas e enviesadas sobre o nosso conjunto de dados. Por isso, apesar da visualização estatística dos dados com o método `describe()` e da visualização gráfica das variáveis com os histogramas serem úteis, se fazem necessárias estratégias com maior embasamento técnico e com maior objetividade, como por exemplo:\n",
        "\n",
        "- IQR Score\n",
        "- Boxplots\n",
        "- Scatter Plots\n",
        "- Z-Score\n",
        "\n",
        "Utilizaremos aqui as duas primeiras técnicas para tratar nossos outliers."
      ],
      "metadata": {
        "id": "s7dxuFVcEuOk"
      }
    },
    {
      "cell_type": "markdown",
      "source": [
        "### Utilizando o IQR Score\n",
        "\n",
        "Vamos lembrar o que é o IQR. Basicamente, IQR (do inglês, Interquartile Range) corresponde à distância entre o Terceiro Quartil (75%) e Primeiro Quartil (25%). Portanto, IQR = Q3 - Q1.\n",
        "\n",
        "Além disso, os limiares seguem as expressões a seguir:\n",
        "\n",
        "* \"Limiar Máximo\" = Q3 + 1.5 * IQR\n",
        "* \"Limiar Mínimo\" = Q1 - 1.5 * IQR\n",
        "\n",
        "Logo, seguiremos a seguinte sequência de etapas:\n",
        "\n",
        "* Definir o Q1 e Q3 para as variáveis que serão limpas.\n",
        "* Calcular o IQR para as variáveis.\n",
        "* Definir o limite superior e inferior para cortar os outliers.\n",
        "* Remover os outliers."
      ],
      "metadata": {
        "id": "CCi5bB1EFiRC"
      }
    },
    {
      "cell_type": "markdown",
      "source": [
        "### Identificando ouliers para variável `price`"
      ],
      "metadata": {
        "id": "FWT1QfGGFxg7"
      }
    },
    {
      "cell_type": "code",
      "source": [
        "# identificando os outliers para a variável price\n",
        "q1_price = df.price.quantile(.25)\n",
        "q3_price = df.price.quantile(.75)\n",
        "IQR_price = q3_price - q1_price\n",
        "print('IQR da variável price: ', IQR_price)\n",
        "\n",
        "# definindo os limites                                       \n",
        "sup_price = q3_price + 1.5 * IQR_price\n",
        "inf_price = q1_price - 1.5 * IQR_price\n",
        "\n",
        "print('Limite superior de price: ', sup_price)\n",
        "print('Limite inferior de price: ', inf_price)"
      ],
      "metadata": {
        "colab": {
          "base_uri": "https://localhost:8080/"
        },
        "id": "HE3Gwa7v1en4",
        "outputId": "349045b9-b0f3-4575-bef7-44855368155b"
      },
      "execution_count": 8,
      "outputs": [
        {
          "output_type": "stream",
          "name": "stdout",
          "text": [
            "IQR da variável price:  83.0\n",
            "Limite superior de price:  276.5\n",
            "Limite inferior de price:  -55.5\n"
          ]
        }
      ]
    },
    {
      "cell_type": "code",
      "source": [
        "df.boxplot(column='price', vert=False, figsize=(15,3));"
      ],
      "metadata": {
        "colab": {
          "base_uri": "https://localhost:8080/",
          "height": 211
        },
        "id": "dTmyDpOD1emL",
        "outputId": "f7ebe85b-39cf-40b8-e37b-8dd00636638f"
      },
      "execution_count": 9,
      "outputs": [
        {
          "output_type": "display_data",
          "data": {
            "text/plain": [
              "<Figure size 1080x216 with 1 Axes>"
            ],
            "image/png": "[encoded data removed]"
          },
          "metadata": {
            "needs_background": "light"
          }
        }
      ]
    },
    {
      "cell_type": "code",
      "source": [
        "# constatando relevância percentual dos valores acima de nosso limiar superior\n",
        "num_out = df[df.price > sup_price].shape[0]\n",
        "print(f\"Temos {num_out} entradas com valores acima de {sup_price}.\")\n",
        "print(f\"Percentualmente, valendo {(num_out/df.shape[0])*100}%\")"
      ],
      "metadata": {
        "colab": {
          "base_uri": "https://localhost:8080/"
        },
        "id": "68aT2e6M1ekN",
        "outputId": "4b79f514-d0b7-4f80-8579-ef7ef4248aca"
      },
      "execution_count": 10,
      "outputs": [
        {
          "output_type": "stream",
          "name": "stdout",
          "text": [
            "Temos 1442 entradas com valores acima de 276.5.\n",
            "Percentualmente, valendo 7.338048954251692%\n"
          ]
        }
      ]
    },
    {
      "cell_type": "markdown",
      "source": [
        "### Identificando ouliers para variável `minimum_nights`"
      ],
      "metadata": {
        "id": "PSbM6WDHF-Ly"
      }
    },
    {
      "cell_type": "code",
      "source": [
        "# identificando os outliers para a variável minimum_nights\n",
        "q1_minimum_nights = df.minimum_nights.quantile(.25)\n",
        "q3_minimum_nights = df.minimum_nights.quantile(.75)\n",
        "IQR_minimum_nights = q3_minimum_nights - q1_minimum_nights\n",
        "print('IQR da variável minimum_nights: ', IQR_minimum_nights)\n",
        "\n",
        "# definindo os limites                                       \n",
        "sup_minimum_nights = q3_minimum_nights + 1.5 * IQR_minimum_nights\n",
        "inf_minimum_nights = q1_minimum_nights - 1.5 * IQR_minimum_nights\n",
        "\n",
        "print('Limite superior de minimum_nights: ', sup_minimum_nights)\n",
        "print('Limite inferior de minimum_nights: ', inf_minimum_nights)"
      ],
      "metadata": {
        "colab": {
          "base_uri": "https://localhost:8080/"
        },
        "id": "uKhNg8bk1eUb",
        "outputId": "3bffe3b7-2db1-4719-9bf6-0f29b8d71677"
      },
      "execution_count": 11,
      "outputs": [
        {
          "output_type": "stream",
          "name": "stdout",
          "text": [
            "IQR da variável minimum_nights:  2.0\n",
            "Limite superior de minimum_nights:  6.0\n",
            "Limite inferior de minimum_nights:  -2.0\n"
          ]
        }
      ]
    },
    {
      "cell_type": "code",
      "source": [
        "df.boxplot(column='minimum_nights',vert=False, figsize=(15,3));"
      ],
      "metadata": {
        "colab": {
          "base_uri": "https://localhost:8080/",
          "height": 211
        },
        "id": "xEgy9GSg1vk_",
        "outputId": "979027b7-6b5e-4d9e-e980-16efe5b110e9"
      },
      "execution_count": 12,
      "outputs": [
        {
          "output_type": "display_data",
          "data": {
            "text/plain": [
              "<Figure size 1080x216 with 1 Axes>"
            ],
            "image/png": "[encoded data removed]"
          },
          "metadata": {
            "needs_background": "light"
          }
        }
      ]
    },
    {
      "cell_type": "code",
      "source": [
        "# constatando relevância percentual dos valores acima de nosso limiar superior\n",
        "num_out = df[df.minimum_nights > sup_minimum_nights].shape[0]\n",
        "print(f\"Temos {num_out} entradas com valores acima de {sup_minimum_nights}.\")\n",
        "print(f\"Percentualmente, valendo {(num_out/df.shape[0])*100}%\")"
      ],
      "metadata": {
        "colab": {
          "base_uri": "https://localhost:8080/"
        },
        "id": "woz0ImdL1vgu",
        "outputId": "dbcabc9b-1c81-43ce-8c2e-d52939da70ee"
      },
      "execution_count": 13,
      "outputs": [
        {
          "output_type": "stream",
          "name": "stdout",
          "text": [
            "Temos 1334 entradas com valores acima de 6.0.\n",
            "Percentualmente, valendo 6.788458602615643%\n"
          ]
        }
      ]
    },
    {
      "cell_type": "markdown",
      "source": [
        "### Histogramas sem outliers\n",
        "\n",
        "Já que identificamos outliers nas variáveis `price` e `minimum_nights`, vamos agora limpar o DataFrame delas e plotar novamente o histograma."
      ],
      "metadata": {
        "id": "2-ryfQygGPyc"
      }
    },
    {
      "cell_type": "code",
      "source": [
        "# remover outliers do nosso DataFrame e alocar dados filtrados em outro DataFrame\n",
        "df_clean = df.copy()\n",
        "\n",
        "df_clean.drop(df_clean[df_clean.price > sup_price].index, axis = 0, inplace = True)\n",
        "df_clean.drop(df_clean[df_clean.minimum_nights > sup_minimum_nights].index, axis = 0, inplace = True)\n",
        "\n",
        "# vamos conferir a nova dimensionalidade do nosso DataFrame\n",
        "print(f\" O DataFrame antigo possui dimensões: {df.shape}\")\n",
        "print(f\" O nosso DataFrame filtrado possui dimensões: {df_clean.shape}\")"
      ],
      "metadata": {
        "colab": {
          "base_uri": "https://localhost:8080/"
        },
        "id": "qH_mjEim1vZR",
        "outputId": "7d72b708-78e2-4989-c4ad-308aa90c0ac3"
      },
      "execution_count": 14,
      "outputs": [
        {
          "output_type": "stream",
          "name": "stdout",
          "text": [
            " O DataFrame antigo possui dimensões: (19651, 18)\n",
            " O nosso DataFrame filtrado possui dimensões: (16977, 18)\n"
          ]
        }
      ]
    },
    {
      "cell_type": "code",
      "source": [
        "# vamos plotar histogrmas sem outliers\n",
        "df_clean.hist(bins=20, figsize=(15,10), color='g');"
      ],
      "metadata": {
        "colab": {
          "base_uri": "https://localhost:8080/",
          "height": 607
        },
        "id": "cH-6hyjz13MH",
        "outputId": "6e5f24b6-7320-44c3-95fd-0d424bfaf94e"
      },
      "execution_count": 15,
      "outputs": [
        {
          "output_type": "display_data",
          "data": {
            "text/plain": [
              "<Figure size 1080x720 with 12 Axes>"
            ],
            "image/png": "[encoded data removed]"
          },
          "metadata": {
            "needs_background": "light"
          }
        }
      ]
    },
    {
      "cell_type": "markdown",
      "metadata": {
        "id": "7x4aw1j5wNmn"
      },
      "source": [
        "### **Q4. Qual a média dos preços de aluguel?**"
      ]
    },
    {
      "cell_type": "markdown",
      "source": [
        "Agora vamos falar de algo bem relevante: **preços**. Mais precisamente, vamos ver qual é a media do preço de aluguel de imóveis em Lisboa.\n",
        "\n",
        "A média da coluna price aponta um valor médio de € 108.11 por aluguel!"
      ],
      "metadata": {
        "id": "d-QLAhOqGx8f"
      }
    },
    {
      "cell_type": "code",
      "metadata": {
        "id": "ff-8gUahLk-C",
        "colab": {
          "base_uri": "https://localhost:8080/"
        },
        "outputId": "106fffab-4fec-422c-f7ae-8eaf18436ce6"
      },
      "source": [
        "# ver a média da coluna `price``\n",
        "round(df_clean.price.mean() , 2)"
      ],
      "execution_count": 16,
      "outputs": [
        {
          "output_type": "execute_result",
          "data": {
            "text/plain": [
              "108.11"
            ]
          },
          "metadata": {},
          "execution_count": 16
        }
      ]
    },
    {
      "cell_type": "markdown",
      "metadata": {
        "id": "IXn2oIo5qx-w"
      },
      "source": [
        "### **Q4. Qual a correlação existente entre as variáveis**"
      ]
    },
    {
      "cell_type": "markdown",
      "source": [
        "Correlação pode ser entendida como uma métrica para a relação entre coisas. Nessa análise, vamos verificar as relações entre duas variáveis.\n",
        "\n",
        "Para quantificar essa correlação, podemos usar o coeficiente de correlação, que é um parâmetro com valor absoluto limitado entre 0 (indicando nenhuma correlação) e 1 (indicando máxima correlação).\n",
        "\n",
        "Para melhorar a visualização sobre esse coeficiente, usarei das seguintes ferramentas:\n",
        "\n",
        "- Criar uma matriz de correlação\n",
        "- Gerar um *heatmap* a partir dessa matriz, usando a biblioteca `seaborn`."
      ],
      "metadata": {
        "id": "h-T1lZpqHKCO"
      }
    },
    {
      "cell_type": "code",
      "metadata": {
        "id": "x2ayzBajqxyd",
        "colab": {
          "base_uri": "https://localhost:8080/",
          "height": 237
        },
        "outputId": "1101ed6a-ff46-4724-9610-7c5095227608"
      },
      "source": [
        "# criar uma matriz de correlação\n",
        "correlation = df_clean[['price','minimum_nights','number_of_reviews', 'reviews_per_month', 'availability_365','number_of_reviews_ltm']].corr()\n",
        "\n",
        "# mostrar a matriz de correlação\n",
        "correlation\n"
      ],
      "execution_count": 17,
      "outputs": [
        {
          "output_type": "execute_result",
          "data": {
            "text/plain": [
              "                          price  minimum_nights  number_of_reviews  \\\n",
              "price                  1.000000        0.022828          -0.063968   \n",
              "minimum_nights         0.022828        1.000000          -0.006455   \n",
              "number_of_reviews     -0.063968       -0.006455           1.000000   \n",
              "reviews_per_month     -0.032194       -0.184707           0.530790   \n",
              "availability_365       0.131814       -0.129982          -0.000414   \n",
              "number_of_reviews_ltm  0.012040       -0.116175           0.687195   \n",
              "\n",
              "                       reviews_per_month  availability_365  \\\n",
              "price                          -0.032194          0.131814   \n",
              "minimum_nights                 -0.184707         -0.129982   \n",
              "number_of_reviews               0.530790         -0.000414   \n",
              "reviews_per_month               1.000000          0.106094   \n",
              "availability_365                0.106094          1.000000   \n",
              "number_of_reviews_ltm           0.675320          0.100709   \n",
              "\n",
              "                       number_of_reviews_ltm  \n",
              "price                               0.012040  \n",
              "minimum_nights                     -0.116175  \n",
              "number_of_reviews                   0.687195  \n",
              "reviews_per_month                   0.675320  \n",
              "availability_365                    0.100709  \n",
              "number_of_reviews_ltm               1.000000  "
            ],
            "text/html": [
              "\n",
              "  <div id=\"df-52a37b15-d23c-4780-b61e-b0e72b1787b9\">\n",
              "    <div class=\"colab-df-container\">\n",
              "      <div>\n",
              "<style scoped>\n",
              "    .dataframe tbody tr th:only-of-type {\n",
              "        vertical-align: middle;\n",
              "    }\n",
              "\n",
              "    .dataframe tbody tr th {\n",
              "        vertical-align: top;\n",
              "    }\n",
              "\n",
              "    .dataframe thead th {\n",
              "        text-align: right;\n",
              "    }\n",
              "</style>\n",
              "<table border=\"1\" class=\"dataframe\">\n",
              "  <thead>\n",
              "    <tr style=\"text-align: right;\">\n",
              "      <th></th>\n",
              "      <th>price</th>\n",
              "      <th>minimum_nights</th>\n",
              "      <th>number_of_reviews</th>\n",
              "      <th>reviews_per_month</th>\n",
              "      <th>availability_365</th>\n",
              "      <th>number_of_reviews_ltm</th>\n",
              "    </tr>\n",
              "  </thead>\n",
              "  <tbody>\n",
              "    <tr>\n",
              "      <th>price</th>\n",
              "      <td>1.000000</td>\n",
              "      <td>0.022828</td>\n",
              "      <td>-0.063968</td>\n",
              "      <td>-0.032194</td>\n",
              "      <td>0.131814</td>\n",
              "      <td>0.012040</td>\n",
              "    </tr>\n",
              "    <tr>\n",
              "      <th>minimum_nights</th>\n",
              "      <td>0.022828</td>\n",
              "      <td>1.000000</td>\n",
              "      <td>-0.006455</td>\n",
              "      <td>-0.184707</td>\n",
              "      <td>-0.129982</td>\n",
              "      <td>-0.116175</td>\n",
              "    </tr>\n",
              "    <tr>\n",
              "      <th>number_of_reviews</th>\n",
              "      <td>-0.063968</td>\n",
              "      <td>-0.006455</td>\n",
              "      <td>1.000000</td>\n",
              "      <td>0.530790</td>\n",
              "      <td>-0.000414</td>\n",
              "      <td>0.687195</td>\n",
              "    </tr>\n",
              "    <tr>\n",
              "      <th>reviews_per_month</th>\n",
              "      <td>-0.032194</td>\n",
              "      <td>-0.184707</td>\n",
              "      <td>0.530790</td>\n",
              "      <td>1.000000</td>\n",
              "      <td>0.106094</td>\n",
              "      <td>0.675320</td>\n",
              "    </tr>\n",
              "    <tr>\n",
              "      <th>availability_365</th>\n",
              "      <td>0.131814</td>\n",
              "      <td>-0.129982</td>\n",
              "      <td>-0.000414</td>\n",
              "      <td>0.106094</td>\n",
              "      <td>1.000000</td>\n",
              "      <td>0.100709</td>\n",
              "    </tr>\n",
              "    <tr>\n",
              "      <th>number_of_reviews_ltm</th>\n",
              "      <td>0.012040</td>\n",
              "      <td>-0.116175</td>\n",
              "      <td>0.687195</td>\n",
              "      <td>0.675320</td>\n",
              "      <td>0.100709</td>\n",
              "      <td>1.000000</td>\n",
              "    </tr>\n",
              "  </tbody>\n",
              "</table>\n",
              "</div>\n",
              "      <button class=\"colab-df-convert\" onclick=\"convertToInteractive('df-52a37b15-d23c-4780-b61e-b0e72b1787b9')\"\n",
              "              title=\"Convert this dataframe to an interactive table.\"\n",
              "              style=\"display:none;\">\n",
              "        \n",
              "  <svg xmlns=\"http://www.w3.org/2000/svg\" height=\"24px\"viewBox=\"0 0 24 24\"\n",
              "       width=\"24px\">\n",
              "    <path d=\"M0 0h24v24H0V0z\" fill=\"none\"/>\n",
              "    <path d=\"M18.56 5.44l.94 2.06.94-2.06 2.06-.94-2.06-.94-.94-2.06-.94 2.06-2.06.94zm-11 1L8.5 8.5l.94-2.06 2.06-.94-2.06-.94L8.5 2.5l-.94 2.06-2.06.94zm10 10l.94 2.06.94-2.06 2.06-.94-2.06-.94-.94-2.06-.94 2.06-2.06.94z\"/><path d=\"M17.41 7.96l-1.37-1.37c-.4-.4-.92-.59-1.43-.59-.52 0-1.04.2-1.43.59L10.3 9.45l-7.72 7.72c-.78.78-.78 2.05 0 2.83L4 21.41c.39.39.9.59 1.41.59.51 0 1.02-.2 1.41-.59l7.78-7.78 2.81-2.81c.8-.78.8-2.07 0-2.86zM5.41 20L4 18.59l7.72-7.72 1.47 1.35L5.41 20z\"/>\n",
              "  </svg>\n",
              "      </button>\n",
              "      \n",
              "  <style>\n",
              "    .colab-df-container {\n",
              "      display:flex;\n",
              "      flex-wrap:wrap;\n",
              "      gap: 12px;\n",
              "    }\n",
              "\n",
              "    .colab-df-convert {\n",
              "      background-color: #E8F0FE;\n",
              "      border: none;\n",
              "      border-radius: 50%;\n",
              "      cursor: pointer;\n",
              "      display: none;\n",
              "      fill: #1967D2;\n",
              "      height: 32px;\n",
              "      padding: 0 0 0 0;\n",
              "      width: 32px;\n",
              "    }\n",
              "\n",
              "    .colab-df-convert:hover {\n",
              "      background-color: #E2EBFA;\n",
              "      box-shadow: 0px 1px 2px rgba(60, 64, 67, 0.3), 0px 1px 3px 1px rgba(60, 64, 67, 0.15);\n",
              "      fill: #174EA6;\n",
              "    }\n",
              "\n",
              "    [theme=dark] .colab-df-convert {\n",
              "      background-color: #3B4455;\n",
              "      fill: #D2E3FC;\n",
              "    }\n",
              "\n",
              "    [theme=dark] .colab-df-convert:hover {\n",
              "      background-color: #434B5C;\n",
              "      box-shadow: 0px 1px 3px 1px rgba(0, 0, 0, 0.15);\n",
              "      filter: drop-shadow(0px 1px 2px rgba(0, 0, 0, 0.3));\n",
              "      fill: #FFFFFF;\n",
              "    }\n",
              "  </style>\n",
              "\n",
              "      <script>\n",
              "        const buttonEl =\n",
              "          document.querySelector('#df-52a37b15-d23c-4780-b61e-b0e72b1787b9 button.colab-df-convert');\n",
              "        buttonEl.style.display =\n",
              "          google.colab.kernel.accessAllowed ? 'block' : 'none';\n",
              "\n",
              "        async function convertToInteractive(key) {\n",
              "          const element = document.querySelector('#df-52a37b15-d23c-4780-b61e-b0e72b1787b9');\n",
              "          const dataTable =\n",
              "            await google.colab.kernel.invokeFunction('convertToInteractive',\n",
              "                                                     [key], {});\n",
              "          if (!dataTable) return;\n",
              "\n",
              "          const docLinkHtml = 'Like what you see? Visit the ' +\n",
              "            '<a target=\"_blank\" href=https://colab.research.google.com/notebooks/data_table.ipynb>data table notebook</a>'\n",
              "            + ' to learn more about interactive tables.';\n",
              "          element.innerHTML = '';\n",
              "          dataTable['output_type'] = 'display_data';\n",
              "          await google.colab.output.renderOutput(dataTable, element);\n",
              "          const docLink = document.createElement('div');\n",
              "          docLink.innerHTML = docLinkHtml;\n",
              "          element.appendChild(docLink);\n",
              "        }\n",
              "      </script>\n",
              "    </div>\n",
              "  </div>\n",
              "  "
            ]
          },
          "metadata": {},
          "execution_count": 17
        }
      ]
    },
    {
      "cell_type": "code",
      "metadata": {
        "id": "91UujDr6ueqE",
        "colab": {
          "base_uri": "https://localhost:8080/",
          "height": 377
        },
        "outputId": "d8db859f-6346-40ad-d4a7-64a686609939"
      },
      "source": [
        "# plotar um heatmap a partir das correlações\n",
        "sns.heatmap(correlation, cmap='RdBu',fmt='.1f', annot=True);"
      ],
      "execution_count": 18,
      "outputs": [
        {
          "output_type": "display_data",
          "data": {
            "text/plain": [
              "<Figure size 432x288 with 2 Axes>"
            ],
            "image/png": "[encoded data removed]"
          },
          "metadata": {
            "needs_background": "light"
          }
        }
      ]
    },
    {
      "cell_type": "markdown",
      "metadata": {
        "id": "7b6RMWpuHKN-"
      },
      "source": [
        "### **Q5. Qual o tipo de imóvel mais alugado no Airbnb?**"
      ]
    },
    {
      "cell_type": "markdown",
      "source": [
        "A coluna `room_type()` em nosso dataset representa o tipo de imóvel alugado. \n",
        "Quem já alugou no site, sabe que existem opções de apartamentos/casas inteiras, apenas o aluguel de um quarto ou mesmo dividir o quarto com outras pessoas, e ainda a opção de alugar um quarto de hotel.\n",
        "\n",
        "Vamos investigar quais os valores e as relevâncias percentuais de cada um desses tipos. Para isso vamos contar a quantidade de ocorrências de cada tipo de aluguel, usando o método `value_counts()`\n",
        "\n"
      ],
      "metadata": {
        "id": "e8_LnFPNIRuH"
      }
    },
    {
      "cell_type": "code",
      "metadata": {
        "id": "ueLPNWvPHgfB",
        "colab": {
          "base_uri": "https://localhost:8080/"
        },
        "outputId": "099b5718-0677-4a16-bf51-413636be094b"
      },
      "source": [
        "# mostrar a quantidade de cada tipo de imóvel disponível\n",
        "df.room_type.value_counts()"
      ],
      "execution_count": 19,
      "outputs": [
        {
          "output_type": "execute_result",
          "data": {
            "text/plain": [
              "Entire home/apt    15096\n",
              "Private room        4074\n",
              "Hotel room           252\n",
              "Shared room          229\n",
              "Name: room_type, dtype: int64"
            ]
          },
          "metadata": {},
          "execution_count": 19
        }
      ]
    },
    {
      "cell_type": "code",
      "metadata": {
        "id": "EvwoO-XAHhIm",
        "colab": {
          "base_uri": "https://localhost:8080/"
        },
        "outputId": "35c60c8c-da9a-42aa-99fc-8c9556df4943"
      },
      "source": [
        "# mostrar a porcentagem de cada tipo de imóvel disponível\n",
        "round((df.room_type.value_counts()/df.shape[0] * 100) , 3)"
      ],
      "execution_count": 20,
      "outputs": [
        {
          "output_type": "execute_result",
          "data": {
            "text/plain": [
              "Entire home/apt    76.821\n",
              "Private room       20.732\n",
              "Hotel room          1.282\n",
              "Shared room         1.165\n",
              "Name: room_type, dtype: float64"
            ]
          },
          "metadata": {},
          "execution_count": 20
        }
      ]
    },
    {
      "cell_type": "markdown",
      "source": [
        "Em primeiro lugar, com esmagadores 76.82%, os apartamentos/casas inteiras são o tipo de imóvel mais alugado em Lisboa. \n",
        "\n",
        "Em segundo lugar, temos os quartos privados, com 20.73%, em terceiro lugar temos os quartos de hotel com 1.28%, e por fim os quartos compartilhados é o tipo menos oferecidos para aluguel."
      ],
      "metadata": {
        "id": "XXHF4NwRJM2U"
      }
    },
    {
      "cell_type": "markdown",
      "metadata": {
        "id": "MFa5NbnLJMcd"
      },
      "source": [
        "### **Q6. Qual a localidade mais cara do dataset?**\n",
        "\n"
      ]
    },
    {
      "cell_type": "markdown",
      "source": [
        "Uma forma de agrupar entradas do mesma coluna é utilizando o método `groupby()`. Com isso, podemos aqui comparar os preços médios dos imóveis por bairro."
      ],
      "metadata": {
        "id": "bL0KiikAJ4t-"
      }
    },
    {
      "cell_type": "code",
      "metadata": {
        "id": "MD_xa143JZpi",
        "colab": {
          "base_uri": "https://localhost:8080/"
        },
        "outputId": "f22a9a85-2432-4e2d-d419-1cba7fafdd72"
      },
      "source": [
        "# ver preços por bairros, na média\n",
        "round(df_clean.groupby(['neighbourhood']).price.mean().sort_values(ascending=False).head(10) , 2)"
      ],
      "execution_count": 21,
      "outputs": [
        {
          "output_type": "execute_result",
          "data": {
            "text/plain": [
              "neighbourhood\n",
              "Aveiras de Baixo                              270.00\n",
              "Vale do Paraso                                260.00\n",
              "Vermelha                                      192.25\n",
              "Aldeia Galega da Merceana e Aldeia Gavinha    175.33\n",
              "Turcifal                                      162.60\n",
              "Painho e Figueiros                            161.00\n",
              "Bucelas                                       159.00\n",
              "Santa Brbara                                  154.56\n",
              "Arranh                                        150.00\n",
              "Ribamar                                       149.20\n",
              "Name: price, dtype: float64"
            ]
          },
          "metadata": {},
          "execution_count": 21
        }
      ]
    },
    {
      "cell_type": "markdown",
      "source": [
        "Como são fornecidas as Latitudes e Longitudes para os imóveis, é possível plotar cada ponto. Para isso, considera-se `x=longitude` e `y=latitude`."
      ],
      "metadata": {
        "id": "qyurKUlJKy4m"
      }
    },
    {
      "cell_type": "code",
      "metadata": {
        "id": "UxVJqJ_3W59I",
        "colab": {
          "base_uri": "https://localhost:8080/",
          "height": 472
        },
        "outputId": "3d68be1f-4d31-4dba-faf9-d1869e43abf9"
      },
      "source": [
        "# plotar os imóveis pela latitude e longitude\n",
        "df_clean.plot.scatter(x = 'longitude', y = 'latitude', alpha = 0.3, s=8,\n",
        "                      c = df_clean.price, colormap ='jet',figsize=(12,8));"
      ],
      "execution_count": 22,
      "outputs": [
        {
          "output_type": "display_data",
          "data": {
            "text/plain": [
              "<Figure size 864x576 with 2 Axes>"
            ],
            "image/png": "[encoded data removed]"
          },
          "metadata": {
            "needs_background": "light"
          }
        }
      ]
    },
    {
      "cell_type": "markdown",
      "metadata": {
        "id": "vTneAMRUYvr1"
      },
      "source": [
        "### **Q7. Qual é a média do mínimo de noites para aluguel (minimum_nights)?**"
      ]
    },
    {
      "cell_type": "markdown",
      "source": [
        "Podemos também extrair do nosso dataset a média do número mínimo de noites para reserva, através da inspeção da média da coluna `minimum_nights`."
      ],
      "metadata": {
        "id": "kHD_4Z4rLE1U"
      }
    },
    {
      "cell_type": "code",
      "metadata": {
        "id": "_VzNhrEgY82N",
        "colab": {
          "base_uri": "https://localhost:8080/"
        },
        "outputId": "c61d1fca-2608-4754-93cc-6f693a52e1b2"
      },
      "source": [
        "# ver a média da coluna `minimum_nights\n",
        "round((df_clean.minimum_nights.mean()), 3)"
      ],
      "execution_count": 23,
      "outputs": [
        {
          "output_type": "execute_result",
          "data": {
            "text/plain": [
              "2.31"
            ]
          },
          "metadata": {},
          "execution_count": 23
        }
      ]
    },
    {
      "cell_type": "markdown",
      "metadata": {
        "id": "GkvAg623RjoR"
      },
      "source": [
        "## Conclusões\n"
      ]
    },
    {
      "cell_type": "markdown",
      "metadata": {
        "id": "rbZ3Hsy9Ypw8"
      },
      "source": [
        "A **análise dos dados do Airbnb** foi realiazada para as cidades da região metropolitana de Lisboa.\n",
        "\n",
        "- O dataset da região metropolitana de Lisboa é bem extenso e possui alguns dados que indicam conter outliers;\n",
        "- É possível verificar que a maior parte dos imóveis possuem boa taxa de disponibilidade para o próximo ano;\n",
        "- O dataset possui vários outliers que altera o resultado correto dos dados;\n",
        "- A região metropolitana de Lisboa é uma região onde a grande maioria de locaçÕes pelo Airbnb é de casa ou apartamentos completos e quartos privados;"
      ]
    }
  ]
}