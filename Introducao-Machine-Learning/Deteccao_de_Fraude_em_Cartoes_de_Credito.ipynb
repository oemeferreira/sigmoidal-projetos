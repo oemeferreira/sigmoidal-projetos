{
  "nbformat": 4,
  "nbformat_minor": 0,
  "metadata": {
    "colab": {
      "provenance": []
    },
    "kernelspec": {
      "name": "python3",
      "display_name": "Python 3"
    }
  },
  "cells": [
    {
      "cell_type": "markdown",
      "metadata": {
        "id": "sC2BFMOKN1M7"
      },
      "source": [
        "---\n",
        "<img alt=\"Colaboratory logo\" width=\"15%\" src=\"https://raw.githubusercontent.com/carlosfab/escola-data-science/master/img/novo_logo_bg_claro.png\">\n",
        "\n",
        "#### **Data Science na Prática 3.0**\n",
        "*by [sigmoidal.ai](https://sigmoidal.ai)*  \n",
        "\n",
        "---"
      ]
    },
    {
      "cell_type": "markdown",
      "metadata": {
        "id": "IR56trFcPcC1"
      },
      "source": [
        "# **Detecção de Fraudes em Cartões de Crédito**\n",
        "\n",
        "Neste projeto, iremos abordar o **problema das fraudes em cartões de crédito**, uma das principais preocupações das instituições financeiras como bancos e *fintechs*. Apenas no Brasil, cerca de 12,1 milhões de pessoas já foram vítimas de algum tipo de fraude financeira no último ano. Traduzindo em valores, os golpes financeiros ultrapassaram a cifra de R$ 1,8 bilhão de prejuízo por ano para os últimos 12 meses.\n",
        "\n",
        "<p align=center>\n",
        "<img src=\"https://c.pxhere.com/images/66/ab/1a22a11f23f4a32d21b10fcd0164-1449185.jpg!d\" width=\"60%\"></p>\n",
        "\n",
        "A detecção de fraudes em cartões de crédito é um problema crescente em todo o mundo. Com o aumento da utilização de cartões de crédito e débito, também aumentou o número de fraudes relacionadas a esses meios de pagamento. \n",
        "\n",
        "Isso pode causar sérios problemas para os consumidores, já que muitas vezes eles são os responsáveis pelo pagamento de qualquer valor fraudulento. A\n",
        "\n",
        "lém disso, as fraudes em cartões de crédito também **podem afetar negativamente as instituições financeiras**, que podem sofrer perdas significativas devido a essas atividades ilegais. \n",
        "\n",
        "Dentra essas fraudes, aquelas envolvendo cartões de crédito são de grande relevância uma vez que a sua não-detecção acaretará em prejuízos consideráveis, tanto para o consumidor quanto para a instituição financeira.\n",
        "\n",
        "Um outro fator a ser considerado é a quantidade de falsos positivos, ou seja, aquelas vezes em que você tentou fazer uma compra e teve seu cartão bloqueado preventivamente - o que provavelmente gerou estresse e constrangimento.\n",
        "\n",
        "Por todos esses motivos, o investimento na área de **detecção de fraudes por meio de Inteligência Artificial** vem crescendo a cada ano, representando uma grande oportunidade em *Data Science*. \n",
        "\n",
        "Dispondo de grandes volumes de dados como base histórica, um algoritmo de machine learning apenas um pouco melhor que os anteriores já representa uma economia de milhões de Reais. \n",
        "\n",
        "E esse é o **desafio**, aprimorar cada vez mais o uso de algoritmos visando **inibir ou evitar transações fraudulentas**."
      ]
    },
    {
      "cell_type": "markdown",
      "metadata": {
        "id": "0HVmpIxQWT4Y"
      },
      "source": [
        "## **Importando os Dados**\n",
        "\n",
        "Os dados que usaremos neste projeto foram disponibilizados por algumas empresas européias de cartão de crédito. O *dataset* representa as operações financeiras que aconteceram no período de dois dias, onde foram classificadas **492 fraudes** em meio a quase **290 mil transações**.\n",
        "\n",
        "Como você pode notar, este é um conjunto de dados extremamente desbalanceado, onde as fraudes representam apenas 0,17% do total.\n",
        "\n",
        "Outro detalhe interessante é que as *features* são todas numéricas, e foram descaracterizadas (por problemas ligados à privacidade e segurança). Assim, os nomes das colunas são representados por $[V1, V2, V3 \\dots, V28]$ \n",
        "\n",
        "<p align=center>\n",
        "<img src=\"https://c.pxhere.com/photos/f7/8a/bank_banking_blue_business_businessman_buy_card_cash-912978.jpg!d\" width=\"50%\"></p>\n",
        "\n",
        "[Na página original dos dados](https://www.kaggle.com/mlg-ulb/creditcardfraud), também é informado que as variáveis passaram por uma transformação conhecida como **Análise de Componentes Principais (*Principal Component Analysis* - PCA).**\n",
        "\n",
        "A PCA permite a redução da dimensionalidade enquanto mantém o maior número possível de informações. Para conseguir isso, o algoritmo encontra um conjunto novo de recursos - os chamados **componentes**.\n",
        "\n",
        "Esses componentes são em número menor or igual às variáveis originais. No caso deste projeto, os componentes achados pela transformação da PCA são as próprias colunas $[V1, V2, V3 \\dots, V28]$."
      ]
    },
    {
      "cell_type": "code",
      "source": [
        "#pip install scikit-plot"
      ],
      "metadata": {
        "id": "hMgb6lgZgvDA"
      },
      "execution_count": 1,
      "outputs": []
    },
    {
      "cell_type": "code",
      "metadata": {
        "id": "oQ4bNy7udtEE"
      },
      "source": [
        "# importar os pacotes necessários\n",
        "import pandas as pd\n",
        "import seaborn as sns\n",
        "import matplotlib.pyplot as plt\n",
        "import numpy as np\n",
        "\n",
        "# Importando os pacotes auxiliares de Machine Learning para tratamento dos dados\n",
        "from sklearn.preprocessing import StandardScaler\n",
        "from sklearn.model_selection import train_test_split\n",
        "from imblearn.under_sampling import RandomUnderSampler\n",
        "\n",
        "# Importando os pacotes de modelos de Machine learning\n",
        "from sklearn.linear_model import LogisticRegression\n",
        "from sklearn.tree import DecisionTreeClassifier\n",
        "from sklearn.ensemble import RandomForestClassifier\n",
        "import scikitplot as skplt\n",
        "\n",
        "# Importando os pacotes de avaliação dos modelos\n",
        "from sklearn.metrics import confusion_matrix\n",
        "from sklearn.metrics import classification_report\n",
        "from sklearn.metrics import roc_auc_score, roc_curve, accuracy_score, recall_score\n",
        "\n",
        "import warnings\n",
        "warnings.simplefilter(action='ignore', category=FutureWarning)"
      ],
      "execution_count": 2,
      "outputs": []
    },
    {
      "cell_type": "markdown",
      "metadata": {
        "id": "g5XDTWW5LRVe"
      },
      "source": [
        "Para facilitar a aquisição dos dados, criei um *link* com acesso direto ao `csv`. Com isso, basta importar o conjunto de dados usando o método `pd.read_csv()`."
      ]
    },
    {
      "cell_type": "code",
      "metadata": {
        "id": "4NxUOfDOj2j8",
        "colab": {
          "base_uri": "https://localhost:8080/"
        },
        "outputId": "17f453e2-3e85-4b87-af82-2ece0ea79f80"
      },
      "source": [
        "file_path = \"https://www.dropbox.com/s/b44o3t3ehmnx2b7/creditcard.csv?dl=1\"\n",
        "\n",
        "# importar os dados para um dataframe\n",
        "df = pd.read_csv(file_path)\n",
        "\n",
        "# estrutura do conjunto original\n",
        "print(\"Estrutura do Conjunto Original: \", df.shape)\n",
        "\n",
        "# criando o conjunto de teste\n",
        "test = df.sample(frac=0.15, random_state=0)\n",
        "\n",
        "# drop das linhas de teste\n",
        "df = df.drop(test.index)\n",
        "\n",
        "# verificando o conjunto\n",
        "print(\"Estrutura do Conjunto de Teste: \", test.shape)\n",
        "print(\"Estrutura do Conjunto de Treino: \", df.shape)"
      ],
      "execution_count": 3,
      "outputs": [
        {
          "output_type": "stream",
          "name": "stdout",
          "text": [
            "Estrutura do Conjunto Original:  (284807, 31)\n",
            "Estrutura do Conjunto de Teste:  (42721, 31)\n",
            "Estrutura do Conjunto de Treino:  (242086, 31)\n"
          ]
        }
      ]
    },
    {
      "cell_type": "markdown",
      "metadata": {
        "id": "7nF_Dhd81Cvq"
      },
      "source": [
        "Com os dados importados para dentro de uma estrutura *Dataframe* - e não havendo a necessidade de mais nenhum ajuste ou configuração nesta etapa, pode-se iniciar uma análise exploratória dos dados a fim de preparar um modelo de *Machine Learning*.\n",
        "\n",
        "Feito isso, vamos à Análise Exploratória."
      ]
    },
    {
      "cell_type": "markdown",
      "metadata": {
        "id": "8UtXyZ6stlSM"
      },
      "source": [
        "## **Análise Exploratória**\n",
        "\n",
        "A análise exploratória de dados é importante para entender o conjunto de dados e identificar padrões ou anormalidades que podem ser sinais de atividades fraudulentas. Ela também ajuda a planejar os próximos passos e a criar um modelo de detecção de fraudes mais eficiente.\n",
        "\n",
        "Nesta etapa abordaremos os tópicos/informações como:\n"
      ]
    },
    {
      "cell_type": "markdown",
      "source": [
        "### **Ver as 5 primeiras entradas**\n",
        "\n",
        "Exibindo as 5 primeras entradas do Dataset podemos verificar que realmente as colunas foram anonimizadas através do PCA para preservar as informações iniciais. \n",
        "\n",
        "Os únicos dados que estão de forma ‘original’ é a coluna Time (Tempo entre a primeira transação do dateset e próxima), Amout (Valor da transação) e Class (Flag para definir o que é fraude)"
      ],
      "metadata": {
        "id": "HZng8MqhGdOV"
      }
    },
    {
      "cell_type": "code",
      "source": [
        "# verificando as 5 primeiras entradas do nosso dataset\n",
        "df.head()"
      ],
      "metadata": {
        "colab": {
          "base_uri": "https://localhost:8080/",
          "height": 236
        },
        "id": "Dhs2eSQYGbXd",
        "outputId": "fd79ee5d-f825-400b-e894-49f92772b460"
      },
      "execution_count": 4,
      "outputs": [
        {
          "output_type": "execute_result",
          "data": {
            "text/plain": [
              "   Time        V1        V2        V3        V4        V5        V6        V7  \\\n",
              "0   0.0 -1.359807 -0.072781  2.536347  1.378155 -0.338321  0.462388  0.239599   \n",
              "1   0.0  1.191857  0.266151  0.166480  0.448154  0.060018 -0.082361 -0.078803   \n",
              "2   1.0 -1.358354 -1.340163  1.773209  0.379780 -0.503198  1.800499  0.791461   \n",
              "3   1.0 -0.966272 -0.185226  1.792993 -0.863291 -0.010309  1.247203  0.237609   \n",
              "4   2.0 -1.158233  0.877737  1.548718  0.403034 -0.407193  0.095921  0.592941   \n",
              "\n",
              "         V8        V9  ...       V21       V22       V23       V24       V25  \\\n",
              "0  0.098698  0.363787  ... -0.018307  0.277838 -0.110474  0.066928  0.128539   \n",
              "1  0.085102 -0.255425  ... -0.225775 -0.638672  0.101288 -0.339846  0.167170   \n",
              "2  0.247676 -1.514654  ...  0.247998  0.771679  0.909412 -0.689281 -0.327642   \n",
              "3  0.377436 -1.387024  ... -0.108300  0.005274 -0.190321 -1.175575  0.647376   \n",
              "4 -0.270533  0.817739  ... -0.009431  0.798278 -0.137458  0.141267 -0.206010   \n",
              "\n",
              "        V26       V27       V28  Amount  Class  \n",
              "0 -0.189115  0.133558 -0.021053  149.62      0  \n",
              "1  0.125895 -0.008983  0.014724    2.69      0  \n",
              "2 -0.139097 -0.055353 -0.059752  378.66      0  \n",
              "3 -0.221929  0.062723  0.061458  123.50      0  \n",
              "4  0.502292  0.219422  0.215153   69.99      0  \n",
              "\n",
              "[5 rows x 31 columns]"
            ],
            "text/html": [
              "\n",
              "  <div id=\"df-b973e937-a98d-4ce6-acf9-fdcb495d0e1c\">\n",
              "    <div class=\"colab-df-container\">\n",
              "      <div>\n",
              "<style scoped>\n",
              "    .dataframe tbody tr th:only-of-type {\n",
              "        vertical-align: middle;\n",
              "    }\n",
              "\n",
              "    .dataframe tbody tr th {\n",
              "        vertical-align: top;\n",
              "    }\n",
              "\n",
              "    .dataframe thead th {\n",
              "        text-align: right;\n",
              "    }\n",
              "</style>\n",
              "<table border=\"1\" class=\"dataframe\">\n",
              "  <thead>\n",
              "    <tr style=\"text-align: right;\">\n",
              "      <th></th>\n",
              "      <th>Time</th>\n",
              "      <th>V1</th>\n",
              "      <th>V2</th>\n",
              "      <th>V3</th>\n",
              "      <th>V4</th>\n",
              "      <th>V5</th>\n",
              "      <th>V6</th>\n",
              "      <th>V7</th>\n",
              "      <th>V8</th>\n",
              "      <th>V9</th>\n",
              "      <th>...</th>\n",
              "      <th>V21</th>\n",
              "      <th>V22</th>\n",
              "      <th>V23</th>\n",
              "      <th>V24</th>\n",
              "      <th>V25</th>\n",
              "      <th>V26</th>\n",
              "      <th>V27</th>\n",
              "      <th>V28</th>\n",
              "      <th>Amount</th>\n",
              "      <th>Class</th>\n",
              "    </tr>\n",
              "  </thead>\n",
              "  <tbody>\n",
              "    <tr>\n",
              "      <th>0</th>\n",
              "      <td>0.0</td>\n",
              "      <td>-1.359807</td>\n",
              "      <td>-0.072781</td>\n",
              "      <td>2.536347</td>\n",
              "      <td>1.378155</td>\n",
              "      <td>-0.338321</td>\n",
              "      <td>0.462388</td>\n",
              "      <td>0.239599</td>\n",
              "      <td>0.098698</td>\n",
              "      <td>0.363787</td>\n",
              "      <td>...</td>\n",
              "      <td>-0.018307</td>\n",
              "      <td>0.277838</td>\n",
              "      <td>-0.110474</td>\n",
              "      <td>0.066928</td>\n",
              "      <td>0.128539</td>\n",
              "      <td>-0.189115</td>\n",
              "      <td>0.133558</td>\n",
              "      <td>-0.021053</td>\n",
              "      <td>149.62</td>\n",
              "      <td>0</td>\n",
              "    </tr>\n",
              "    <tr>\n",
              "      <th>1</th>\n",
              "      <td>0.0</td>\n",
              "      <td>1.191857</td>\n",
              "      <td>0.266151</td>\n",
              "      <td>0.166480</td>\n",
              "      <td>0.448154</td>\n",
              "      <td>0.060018</td>\n",
              "      <td>-0.082361</td>\n",
              "      <td>-0.078803</td>\n",
              "      <td>0.085102</td>\n",
              "      <td>-0.255425</td>\n",
              "      <td>...</td>\n",
              "      <td>-0.225775</td>\n",
              "      <td>-0.638672</td>\n",
              "      <td>0.101288</td>\n",
              "      <td>-0.339846</td>\n",
              "      <td>0.167170</td>\n",
              "      <td>0.125895</td>\n",
              "      <td>-0.008983</td>\n",
              "      <td>0.014724</td>\n",
              "      <td>2.69</td>\n",
              "      <td>0</td>\n",
              "    </tr>\n",
              "    <tr>\n",
              "      <th>2</th>\n",
              "      <td>1.0</td>\n",
              "      <td>-1.358354</td>\n",
              "      <td>-1.340163</td>\n",
              "      <td>1.773209</td>\n",
              "      <td>0.379780</td>\n",
              "      <td>-0.503198</td>\n",
              "      <td>1.800499</td>\n",
              "      <td>0.791461</td>\n",
              "      <td>0.247676</td>\n",
              "      <td>-1.514654</td>\n",
              "      <td>...</td>\n",
              "      <td>0.247998</td>\n",
              "      <td>0.771679</td>\n",
              "      <td>0.909412</td>\n",
              "      <td>-0.689281</td>\n",
              "      <td>-0.327642</td>\n",
              "      <td>-0.139097</td>\n",
              "      <td>-0.055353</td>\n",
              "      <td>-0.059752</td>\n",
              "      <td>378.66</td>\n",
              "      <td>0</td>\n",
              "    </tr>\n",
              "    <tr>\n",
              "      <th>3</th>\n",
              "      <td>1.0</td>\n",
              "      <td>-0.966272</td>\n",
              "      <td>-0.185226</td>\n",
              "      <td>1.792993</td>\n",
              "      <td>-0.863291</td>\n",
              "      <td>-0.010309</td>\n",
              "      <td>1.247203</td>\n",
              "      <td>0.237609</td>\n",
              "      <td>0.377436</td>\n",
              "      <td>-1.387024</td>\n",
              "      <td>...</td>\n",
              "      <td>-0.108300</td>\n",
              "      <td>0.005274</td>\n",
              "      <td>-0.190321</td>\n",
              "      <td>-1.175575</td>\n",
              "      <td>0.647376</td>\n",
              "      <td>-0.221929</td>\n",
              "      <td>0.062723</td>\n",
              "      <td>0.061458</td>\n",
              "      <td>123.50</td>\n",
              "      <td>0</td>\n",
              "    </tr>\n",
              "    <tr>\n",
              "      <th>4</th>\n",
              "      <td>2.0</td>\n",
              "      <td>-1.158233</td>\n",
              "      <td>0.877737</td>\n",
              "      <td>1.548718</td>\n",
              "      <td>0.403034</td>\n",
              "      <td>-0.407193</td>\n",
              "      <td>0.095921</td>\n",
              "      <td>0.592941</td>\n",
              "      <td>-0.270533</td>\n",
              "      <td>0.817739</td>\n",
              "      <td>...</td>\n",
              "      <td>-0.009431</td>\n",
              "      <td>0.798278</td>\n",
              "      <td>-0.137458</td>\n",
              "      <td>0.141267</td>\n",
              "      <td>-0.206010</td>\n",
              "      <td>0.502292</td>\n",
              "      <td>0.219422</td>\n",
              "      <td>0.215153</td>\n",
              "      <td>69.99</td>\n",
              "      <td>0</td>\n",
              "    </tr>\n",
              "  </tbody>\n",
              "</table>\n",
              "<p>5 rows × 31 columns</p>\n",
              "</div>\n",
              "      <button class=\"colab-df-convert\" onclick=\"convertToInteractive('df-b973e937-a98d-4ce6-acf9-fdcb495d0e1c')\"\n",
              "              title=\"Convert this dataframe to an interactive table.\"\n",
              "              style=\"display:none;\">\n",
              "        \n",
              "  <svg xmlns=\"http://www.w3.org/2000/svg\" height=\"24px\"viewBox=\"0 0 24 24\"\n",
              "       width=\"24px\">\n",
              "    <path d=\"M0 0h24v24H0V0z\" fill=\"none\"/>\n",
              "    <path d=\"M18.56 5.44l.94 2.06.94-2.06 2.06-.94-2.06-.94-.94-2.06-.94 2.06-2.06.94zm-11 1L8.5 8.5l.94-2.06 2.06-.94-2.06-.94L8.5 2.5l-.94 2.06-2.06.94zm10 10l.94 2.06.94-2.06 2.06-.94-2.06-.94-.94-2.06-.94 2.06-2.06.94z\"/><path d=\"M17.41 7.96l-1.37-1.37c-.4-.4-.92-.59-1.43-.59-.52 0-1.04.2-1.43.59L10.3 9.45l-7.72 7.72c-.78.78-.78 2.05 0 2.83L4 21.41c.39.39.9.59 1.41.59.51 0 1.02-.2 1.41-.59l7.78-7.78 2.81-2.81c.8-.78.8-2.07 0-2.86zM5.41 20L4 18.59l7.72-7.72 1.47 1.35L5.41 20z\"/>\n",
              "  </svg>\n",
              "      </button>\n",
              "      \n",
              "  <style>\n",
              "    .colab-df-container {\n",
              "      display:flex;\n",
              "      flex-wrap:wrap;\n",
              "      gap: 12px;\n",
              "    }\n",
              "\n",
              "    .colab-df-convert {\n",
              "      background-color: #E8F0FE;\n",
              "      border: none;\n",
              "      border-radius: 50%;\n",
              "      cursor: pointer;\n",
              "      display: none;\n",
              "      fill: #1967D2;\n",
              "      height: 32px;\n",
              "      padding: 0 0 0 0;\n",
              "      width: 32px;\n",
              "    }\n",
              "\n",
              "    .colab-df-convert:hover {\n",
              "      background-color: #E2EBFA;\n",
              "      box-shadow: 0px 1px 2px rgba(60, 64, 67, 0.3), 0px 1px 3px 1px rgba(60, 64, 67, 0.15);\n",
              "      fill: #174EA6;\n",
              "    }\n",
              "\n",
              "    [theme=dark] .colab-df-convert {\n",
              "      background-color: #3B4455;\n",
              "      fill: #D2E3FC;\n",
              "    }\n",
              "\n",
              "    [theme=dark] .colab-df-convert:hover {\n",
              "      background-color: #434B5C;\n",
              "      box-shadow: 0px 1px 3px 1px rgba(0, 0, 0, 0.15);\n",
              "      filter: drop-shadow(0px 1px 2px rgba(0, 0, 0, 0.3));\n",
              "      fill: #FFFFFF;\n",
              "    }\n",
              "  </style>\n",
              "\n",
              "      <script>\n",
              "        const buttonEl =\n",
              "          document.querySelector('#df-b973e937-a98d-4ce6-acf9-fdcb495d0e1c button.colab-df-convert');\n",
              "        buttonEl.style.display =\n",
              "          google.colab.kernel.accessAllowed ? 'block' : 'none';\n",
              "\n",
              "        async function convertToInteractive(key) {\n",
              "          const element = document.querySelector('#df-b973e937-a98d-4ce6-acf9-fdcb495d0e1c');\n",
              "          const dataTable =\n",
              "            await google.colab.kernel.invokeFunction('convertToInteractive',\n",
              "                                                     [key], {});\n",
              "          if (!dataTable) return;\n",
              "\n",
              "          const docLinkHtml = 'Like what you see? Visit the ' +\n",
              "            '<a target=\"_blank\" href=https://colab.research.google.com/notebooks/data_table.ipynb>data table notebook</a>'\n",
              "            + ' to learn more about interactive tables.';\n",
              "          element.innerHTML = '';\n",
              "          dataTable['output_type'] = 'display_data';\n",
              "          await google.colab.output.renderOutput(dataTable, element);\n",
              "          const docLink = document.createElement('div');\n",
              "          docLink.innerHTML = docLinkHtml;\n",
              "          element.appendChild(docLink);\n",
              "        }\n",
              "      </script>\n",
              "    </div>\n",
              "  </div>\n",
              "  "
            ]
          },
          "metadata": {},
          "execution_count": 4
        }
      ]
    },
    {
      "cell_type": "markdown",
      "source": [
        "### **Ver o resumo estatístico do dataframe**\n",
        "\n",
        "Aqui, vamos analisar os dados através de algumas medidas da estatística descritiva.\n",
        "\n",
        "Observe as medidas básicas de cada variável, como média, desvio padrão, os maiores e menores valores. Isso nos dá uma noção inicial de como são os dados."
      ],
      "metadata": {
        "id": "awgGkfNhHUR1"
      }
    },
    {
      "cell_type": "code",
      "source": [
        "# ver o resumo estatístico\n",
        "df.describe()"
      ],
      "metadata": {
        "colab": {
          "base_uri": "https://localhost:8080/",
          "height": 330
        },
        "id": "_9pJFNVUHVEC",
        "outputId": "2b2cc779-b759-4b07-9241-028e5c774cd0"
      },
      "execution_count": 5,
      "outputs": [
        {
          "output_type": "execute_result",
          "data": {
            "text/plain": [
              "                Time             V1             V2             V3  \\\n",
              "count  242086.000000  242086.000000  242086.000000  242086.000000   \n",
              "mean    94857.597379       0.001456      -0.000800      -0.001004   \n",
              "std     47490.660832       1.956513       1.654883       1.514580   \n",
              "min         0.000000     -56.407510     -72.715728     -33.680984   \n",
              "25%     54234.000000      -0.920406      -0.598659      -0.893374   \n",
              "50%     84747.000000       0.019230       0.064567       0.177607   \n",
              "75%    139362.000000       1.316034       0.803174       1.026561   \n",
              "max    172792.000000       2.451888      22.057729       9.382558   \n",
              "\n",
              "                  V4             V5             V6             V7  \\\n",
              "count  242086.000000  242086.000000  242086.000000  242086.000000   \n",
              "mean        0.000647      -0.000986      -0.001196      -0.000033   \n",
              "std         1.417228       1.366284       1.326879       1.223095   \n",
              "min        -5.683171     -42.147898     -26.160506     -43.557242   \n",
              "25%        -0.848236      -0.693615      -0.769025      -0.553805   \n",
              "50%        -0.018959      -0.054544      -0.274310       0.040344   \n",
              "75%         0.743691       0.611455       0.397688       0.570104   \n",
              "max        16.875344      34.801666      23.917837      44.054461   \n",
              "\n",
              "                  V8             V9  ...            V21            V22  \\\n",
              "count  242086.000000  242086.000000  ...  242086.000000  242086.000000   \n",
              "mean       -0.000416      -0.000725  ...      -0.000015       0.000606   \n",
              "std         1.199718       1.099350  ...       0.734189       0.726284   \n",
              "min       -73.216718     -13.434066  ...     -34.830382     -10.933144   \n",
              "25%        -0.208857      -0.645058  ...      -0.228492      -0.542962   \n",
              "50%         0.022160      -0.051370  ...      -0.028987       0.007162   \n",
              "75%         0.327186       0.597195  ...       0.187064       0.529814   \n",
              "max        20.007208      15.594995  ...      27.202839      10.503090   \n",
              "\n",
              "                 V23            V24            V25            V26  \\\n",
              "count  242086.000000  242086.000000  242086.000000  242086.000000   \n",
              "mean       -0.000482       0.000199       0.000048      -0.000269   \n",
              "std         0.629651       0.605150       0.521574       0.482084   \n",
              "min       -44.807735      -2.822684     -10.295397      -2.604551   \n",
              "25%        -0.161941      -0.354494      -0.316853      -0.327387   \n",
              "50%        -0.011175       0.040764       0.017175      -0.052337   \n",
              "75%         0.147358       0.439320       0.350795       0.241214   \n",
              "max        22.528412       4.022866       7.519589       3.517346   \n",
              "\n",
              "                 V27            V28         Amount          Class  \n",
              "count  242086.000000  242086.000000  242086.000000  242086.000000  \n",
              "mean       -0.000727       0.000065      88.612429       0.001727  \n",
              "std         0.401490       0.327734     247.655020       0.041517  \n",
              "min       -22.565679     -11.710896       0.000000       0.000000  \n",
              "25%        -0.070744      -0.052903       5.662500       0.000000  \n",
              "50%         0.001131       0.011209      22.000000       0.000000  \n",
              "75%         0.090776       0.078234      77.580000       0.000000  \n",
              "max        12.152401      33.847808   19656.530000       1.000000  \n",
              "\n",
              "[8 rows x 31 columns]"
            ],
            "text/html": [
              "\n",
              "  <div id=\"df-295f5539-b627-4b43-ab2b-d27c0862cb43\">\n",
              "    <div class=\"colab-df-container\">\n",
              "      <div>\n",
              "<style scoped>\n",
              "    .dataframe tbody tr th:only-of-type {\n",
              "        vertical-align: middle;\n",
              "    }\n",
              "\n",
              "    .dataframe tbody tr th {\n",
              "        vertical-align: top;\n",
              "    }\n",
              "\n",
              "    .dataframe thead th {\n",
              "        text-align: right;\n",
              "    }\n",
              "</style>\n",
              "<table border=\"1\" class=\"dataframe\">\n",
              "  <thead>\n",
              "    <tr style=\"text-align: right;\">\n",
              "      <th></th>\n",
              "      <th>Time</th>\n",
              "      <th>V1</th>\n",
              "      <th>V2</th>\n",
              "      <th>V3</th>\n",
              "      <th>V4</th>\n",
              "      <th>V5</th>\n",
              "      <th>V6</th>\n",
              "      <th>V7</th>\n",
              "      <th>V8</th>\n",
              "      <th>V9</th>\n",
              "      <th>...</th>\n",
              "      <th>V21</th>\n",
              "      <th>V22</th>\n",
              "      <th>V23</th>\n",
              "      <th>V24</th>\n",
              "      <th>V25</th>\n",
              "      <th>V26</th>\n",
              "      <th>V27</th>\n",
              "      <th>V28</th>\n",
              "      <th>Amount</th>\n",
              "      <th>Class</th>\n",
              "    </tr>\n",
              "  </thead>\n",
              "  <tbody>\n",
              "    <tr>\n",
              "      <th>count</th>\n",
              "      <td>242086.000000</td>\n",
              "      <td>242086.000000</td>\n",
              "      <td>242086.000000</td>\n",
              "      <td>242086.000000</td>\n",
              "      <td>242086.000000</td>\n",
              "      <td>242086.000000</td>\n",
              "      <td>242086.000000</td>\n",
              "      <td>242086.000000</td>\n",
              "      <td>242086.000000</td>\n",
              "      <td>242086.000000</td>\n",
              "      <td>...</td>\n",
              "      <td>242086.000000</td>\n",
              "      <td>242086.000000</td>\n",
              "      <td>242086.000000</td>\n",
              "      <td>242086.000000</td>\n",
              "      <td>242086.000000</td>\n",
              "      <td>242086.000000</td>\n",
              "      <td>242086.000000</td>\n",
              "      <td>242086.000000</td>\n",
              "      <td>242086.000000</td>\n",
              "      <td>242086.000000</td>\n",
              "    </tr>\n",
              "    <tr>\n",
              "      <th>mean</th>\n",
              "      <td>94857.597379</td>\n",
              "      <td>0.001456</td>\n",
              "      <td>-0.000800</td>\n",
              "      <td>-0.001004</td>\n",
              "      <td>0.000647</td>\n",
              "      <td>-0.000986</td>\n",
              "      <td>-0.001196</td>\n",
              "      <td>-0.000033</td>\n",
              "      <td>-0.000416</td>\n",
              "      <td>-0.000725</td>\n",
              "      <td>...</td>\n",
              "      <td>-0.000015</td>\n",
              "      <td>0.000606</td>\n",
              "      <td>-0.000482</td>\n",
              "      <td>0.000199</td>\n",
              "      <td>0.000048</td>\n",
              "      <td>-0.000269</td>\n",
              "      <td>-0.000727</td>\n",
              "      <td>0.000065</td>\n",
              "      <td>88.612429</td>\n",
              "      <td>0.001727</td>\n",
              "    </tr>\n",
              "    <tr>\n",
              "      <th>std</th>\n",
              "      <td>47490.660832</td>\n",
              "      <td>1.956513</td>\n",
              "      <td>1.654883</td>\n",
              "      <td>1.514580</td>\n",
              "      <td>1.417228</td>\n",
              "      <td>1.366284</td>\n",
              "      <td>1.326879</td>\n",
              "      <td>1.223095</td>\n",
              "      <td>1.199718</td>\n",
              "      <td>1.099350</td>\n",
              "      <td>...</td>\n",
              "      <td>0.734189</td>\n",
              "      <td>0.726284</td>\n",
              "      <td>0.629651</td>\n",
              "      <td>0.605150</td>\n",
              "      <td>0.521574</td>\n",
              "      <td>0.482084</td>\n",
              "      <td>0.401490</td>\n",
              "      <td>0.327734</td>\n",
              "      <td>247.655020</td>\n",
              "      <td>0.041517</td>\n",
              "    </tr>\n",
              "    <tr>\n",
              "      <th>min</th>\n",
              "      <td>0.000000</td>\n",
              "      <td>-56.407510</td>\n",
              "      <td>-72.715728</td>\n",
              "      <td>-33.680984</td>\n",
              "      <td>-5.683171</td>\n",
              "      <td>-42.147898</td>\n",
              "      <td>-26.160506</td>\n",
              "      <td>-43.557242</td>\n",
              "      <td>-73.216718</td>\n",
              "      <td>-13.434066</td>\n",
              "      <td>...</td>\n",
              "      <td>-34.830382</td>\n",
              "      <td>-10.933144</td>\n",
              "      <td>-44.807735</td>\n",
              "      <td>-2.822684</td>\n",
              "      <td>-10.295397</td>\n",
              "      <td>-2.604551</td>\n",
              "      <td>-22.565679</td>\n",
              "      <td>-11.710896</td>\n",
              "      <td>0.000000</td>\n",
              "      <td>0.000000</td>\n",
              "    </tr>\n",
              "    <tr>\n",
              "      <th>25%</th>\n",
              "      <td>54234.000000</td>\n",
              "      <td>-0.920406</td>\n",
              "      <td>-0.598659</td>\n",
              "      <td>-0.893374</td>\n",
              "      <td>-0.848236</td>\n",
              "      <td>-0.693615</td>\n",
              "      <td>-0.769025</td>\n",
              "      <td>-0.553805</td>\n",
              "      <td>-0.208857</td>\n",
              "      <td>-0.645058</td>\n",
              "      <td>...</td>\n",
              "      <td>-0.228492</td>\n",
              "      <td>-0.542962</td>\n",
              "      <td>-0.161941</td>\n",
              "      <td>-0.354494</td>\n",
              "      <td>-0.316853</td>\n",
              "      <td>-0.327387</td>\n",
              "      <td>-0.070744</td>\n",
              "      <td>-0.052903</td>\n",
              "      <td>5.662500</td>\n",
              "      <td>0.000000</td>\n",
              "    </tr>\n",
              "    <tr>\n",
              "      <th>50%</th>\n",
              "      <td>84747.000000</td>\n",
              "      <td>0.019230</td>\n",
              "      <td>0.064567</td>\n",
              "      <td>0.177607</td>\n",
              "      <td>-0.018959</td>\n",
              "      <td>-0.054544</td>\n",
              "      <td>-0.274310</td>\n",
              "      <td>0.040344</td>\n",
              "      <td>0.022160</td>\n",
              "      <td>-0.051370</td>\n",
              "      <td>...</td>\n",
              "      <td>-0.028987</td>\n",
              "      <td>0.007162</td>\n",
              "      <td>-0.011175</td>\n",
              "      <td>0.040764</td>\n",
              "      <td>0.017175</td>\n",
              "      <td>-0.052337</td>\n",
              "      <td>0.001131</td>\n",
              "      <td>0.011209</td>\n",
              "      <td>22.000000</td>\n",
              "      <td>0.000000</td>\n",
              "    </tr>\n",
              "    <tr>\n",
              "      <th>75%</th>\n",
              "      <td>139362.000000</td>\n",
              "      <td>1.316034</td>\n",
              "      <td>0.803174</td>\n",
              "      <td>1.026561</td>\n",
              "      <td>0.743691</td>\n",
              "      <td>0.611455</td>\n",
              "      <td>0.397688</td>\n",
              "      <td>0.570104</td>\n",
              "      <td>0.327186</td>\n",
              "      <td>0.597195</td>\n",
              "      <td>...</td>\n",
              "      <td>0.187064</td>\n",
              "      <td>0.529814</td>\n",
              "      <td>0.147358</td>\n",
              "      <td>0.439320</td>\n",
              "      <td>0.350795</td>\n",
              "      <td>0.241214</td>\n",
              "      <td>0.090776</td>\n",
              "      <td>0.078234</td>\n",
              "      <td>77.580000</td>\n",
              "      <td>0.000000</td>\n",
              "    </tr>\n",
              "    <tr>\n",
              "      <th>max</th>\n",
              "      <td>172792.000000</td>\n",
              "      <td>2.451888</td>\n",
              "      <td>22.057729</td>\n",
              "      <td>9.382558</td>\n",
              "      <td>16.875344</td>\n",
              "      <td>34.801666</td>\n",
              "      <td>23.917837</td>\n",
              "      <td>44.054461</td>\n",
              "      <td>20.007208</td>\n",
              "      <td>15.594995</td>\n",
              "      <td>...</td>\n",
              "      <td>27.202839</td>\n",
              "      <td>10.503090</td>\n",
              "      <td>22.528412</td>\n",
              "      <td>4.022866</td>\n",
              "      <td>7.519589</td>\n",
              "      <td>3.517346</td>\n",
              "      <td>12.152401</td>\n",
              "      <td>33.847808</td>\n",
              "      <td>19656.530000</td>\n",
              "      <td>1.000000</td>\n",
              "    </tr>\n",
              "  </tbody>\n",
              "</table>\n",
              "<p>8 rows × 31 columns</p>\n",
              "</div>\n",
              "      <button class=\"colab-df-convert\" onclick=\"convertToInteractive('df-295f5539-b627-4b43-ab2b-d27c0862cb43')\"\n",
              "              title=\"Convert this dataframe to an interactive table.\"\n",
              "              style=\"display:none;\">\n",
              "        \n",
              "  <svg xmlns=\"http://www.w3.org/2000/svg\" height=\"24px\"viewBox=\"0 0 24 24\"\n",
              "       width=\"24px\">\n",
              "    <path d=\"M0 0h24v24H0V0z\" fill=\"none\"/>\n",
              "    <path d=\"M18.56 5.44l.94 2.06.94-2.06 2.06-.94-2.06-.94-.94-2.06-.94 2.06-2.06.94zm-11 1L8.5 8.5l.94-2.06 2.06-.94-2.06-.94L8.5 2.5l-.94 2.06-2.06.94zm10 10l.94 2.06.94-2.06 2.06-.94-2.06-.94-.94-2.06-.94 2.06-2.06.94z\"/><path d=\"M17.41 7.96l-1.37-1.37c-.4-.4-.92-.59-1.43-.59-.52 0-1.04.2-1.43.59L10.3 9.45l-7.72 7.72c-.78.78-.78 2.05 0 2.83L4 21.41c.39.39.9.59 1.41.59.51 0 1.02-.2 1.41-.59l7.78-7.78 2.81-2.81c.8-.78.8-2.07 0-2.86zM5.41 20L4 18.59l7.72-7.72 1.47 1.35L5.41 20z\"/>\n",
              "  </svg>\n",
              "      </button>\n",
              "      \n",
              "  <style>\n",
              "    .colab-df-container {\n",
              "      display:flex;\n",
              "      flex-wrap:wrap;\n",
              "      gap: 12px;\n",
              "    }\n",
              "\n",
              "    .colab-df-convert {\n",
              "      background-color: #E8F0FE;\n",
              "      border: none;\n",
              "      border-radius: 50%;\n",
              "      cursor: pointer;\n",
              "      display: none;\n",
              "      fill: #1967D2;\n",
              "      height: 32px;\n",
              "      padding: 0 0 0 0;\n",
              "      width: 32px;\n",
              "    }\n",
              "\n",
              "    .colab-df-convert:hover {\n",
              "      background-color: #E2EBFA;\n",
              "      box-shadow: 0px 1px 2px rgba(60, 64, 67, 0.3), 0px 1px 3px 1px rgba(60, 64, 67, 0.15);\n",
              "      fill: #174EA6;\n",
              "    }\n",
              "\n",
              "    [theme=dark] .colab-df-convert {\n",
              "      background-color: #3B4455;\n",
              "      fill: #D2E3FC;\n",
              "    }\n",
              "\n",
              "    [theme=dark] .colab-df-convert:hover {\n",
              "      background-color: #434B5C;\n",
              "      box-shadow: 0px 1px 3px 1px rgba(0, 0, 0, 0.15);\n",
              "      filter: drop-shadow(0px 1px 2px rgba(0, 0, 0, 0.3));\n",
              "      fill: #FFFFFF;\n",
              "    }\n",
              "  </style>\n",
              "\n",
              "      <script>\n",
              "        const buttonEl =\n",
              "          document.querySelector('#df-295f5539-b627-4b43-ab2b-d27c0862cb43 button.colab-df-convert');\n",
              "        buttonEl.style.display =\n",
              "          google.colab.kernel.accessAllowed ? 'block' : 'none';\n",
              "\n",
              "        async function convertToInteractive(key) {\n",
              "          const element = document.querySelector('#df-295f5539-b627-4b43-ab2b-d27c0862cb43');\n",
              "          const dataTable =\n",
              "            await google.colab.kernel.invokeFunction('convertToInteractive',\n",
              "                                                     [key], {});\n",
              "          if (!dataTable) return;\n",
              "\n",
              "          const docLinkHtml = 'Like what you see? Visit the ' +\n",
              "            '<a target=\"_blank\" href=https://colab.research.google.com/notebooks/data_table.ipynb>data table notebook</a>'\n",
              "            + ' to learn more about interactive tables.';\n",
              "          element.innerHTML = '';\n",
              "          dataTable['output_type'] = 'display_data';\n",
              "          await google.colab.output.renderOutput(dataTable, element);\n",
              "          const docLink = document.createElement('div');\n",
              "          docLink.innerHTML = docLinkHtml;\n",
              "          element.appendChild(docLink);\n",
              "        }\n",
              "      </script>\n",
              "    </div>\n",
              "  </div>\n",
              "  "
            ]
          },
          "metadata": {},
          "execution_count": 5
        }
      ]
    },
    {
      "cell_type": "markdown",
      "source": [
        "### **Verificar se há valores ausentes**\n",
        "Não foram encontrados valores ausentes ou que necessitassem ser limpos no dataset em questão. Isso pode ser verificado na função a seguir, onde o maior valor de valores nulos por coluna é zero, o que indica a ausência de valores faltantes."
      ],
      "metadata": {
        "id": "_i0A4Ta-IGmZ"
      }
    },
    {
      "cell_type": "code",
      "source": [
        "# Buscando valores nulos\n",
        "df.isnull().sum().max()"
      ],
      "metadata": {
        "colab": {
          "base_uri": "https://localhost:8080/"
        },
        "id": "CX7k9_HZIG_M",
        "outputId": "e80197e6-9dab-49f9-c4ab-236a3750b575"
      },
      "execution_count": 6,
      "outputs": [
        {
          "output_type": "execute_result",
          "data": {
            "text/plain": [
              "0"
            ]
          },
          "metadata": {},
          "execution_count": 6
        }
      ]
    },
    {
      "cell_type": "markdown",
      "source": [
        "### **Plotar um gráfico de barras (ou countplot) para ver o balanceamento do dataset**\n",
        "os dados do dataset estão bastante desbalanceados, e com o gráfico abaixo vamos perceber isso nitidamente. Essa discrepância nos dados atrapalhará o modelo e precisará ser tratada."
      ],
      "metadata": {
        "id": "ZtMmD7Y7I970"
      }
    },
    {
      "cell_type": "code",
      "source": [
        "# Exibindo as informações estatísiticas\n",
        "print(\"---Contagem dos valores da variável Class.---\\n\")\n",
        "print(\"0 = Transações autênticas  1 = Transações fraudulentas\\n\")\n",
        "print(df.Class.value_counts())\n",
        "print(\"\\nTransações fraudulentas representam apenas {:.3%}\".format(((df.Class ==1 ).sum()) / (df.shape[0])), \"dos dados\\n.\")\n",
        "\n",
        "# Plotando o gráfico do balanceamento do dataset\n",
        "\n",
        "# criando axis\n",
        "altura = df.groupby('Class')['Class'].count().values\n",
        "barras = df.groupby('Class')['Class'].count().index\n",
        "y_pos = np.arange(len(barras))\n",
        "\n",
        "# criando as barras\n",
        "plt.bar(y_pos, altura)\n",
        "\n",
        "# criando os textos\n",
        "for i in range(0, len(y_pos)):\n",
        "  plt.text(x = i - 0.05 , y = altura[i] , s = altura[i] , size = 10)\n",
        "\n",
        "# criando nomes nos x-axis\n",
        "plt.xticks(y_pos, barras, fontweight='bold', fontsize='10')\n",
        "\n",
        "# plotar grafico\n",
        "plt.show()\n"
      ],
      "metadata": {
        "colab": {
          "base_uri": "https://localhost:8080/",
          "height": 460
        },
        "id": "qMyloeO6I-R5",
        "outputId": "a1604157-c601-4796-acae-b6cbe81fe3a4"
      },
      "execution_count": 7,
      "outputs": [
        {
          "output_type": "stream",
          "name": "stdout",
          "text": [
            "---Contagem dos valores da variável Class.---\n",
            "\n",
            "0 = Transações autênticas  1 = Transações fraudulentas\n",
            "\n",
            "0    241668\n",
            "1       418\n",
            "Name: Class, dtype: int64\n",
            "\n",
            "Transações fraudulentas representam apenas 0.173% dos dados\n",
            ".\n"
          ]
        },
        {
          "output_type": "display_data",
          "data": {
            "text/plain": [
              "<Figure size 432x288 with 1 Axes>"
            ],
            "image/png": "[encoded data removed]"
          },
          "metadata": {
            "needs_background": "light"
          }
        }
      ]
    },
    {
      "cell_type": "markdown",
      "source": [
        "### **Plotar um histograma para variável `Time`**\n",
        "Plotamos também dois gráficos a fim de comparar as distribuições das 2 classes ao longo da dimensão tempo (Time). No entanto, não foi identificada nenhum informação a partir das distribuições de frequência abaixo."
      ],
      "metadata": {
        "id": "q_sviV7pNkPx"
      }
    },
    {
      "cell_type": "code",
      "source": [
        "fig, ax = plt.subplots(nrows=2, ncols=1, figsize=(12,6))\n",
        "\n",
        "num_bins = 40\n",
        "\n",
        "ax[0].hist(df.Time[df.Class == 0], bins=num_bins)\n",
        "ax[0].set_title('Normal')\n",
        "\n",
        "ax[1].hist(df.Time[df.Class == 1], bins=num_bins)\n",
        "ax[1].set_title('Fraude')\n",
        "\n",
        "plt.xlabel('Tempo (segundos)')\n",
        "plt.ylabel('Transações')\n",
        "plt.tight_layout()"
      ],
      "metadata": {
        "colab": {
          "base_uri": "https://localhost:8080/",
          "height": 441
        },
        "id": "HvifLpmRNkyd",
        "outputId": "4319de48-c4d3-4440-fb6c-2b09f519695b"
      },
      "execution_count": 8,
      "outputs": [
        {
          "output_type": "display_data",
          "data": {
            "text/plain": [
              "<Figure size 864x432 with 2 Axes>"
            ],
            "image/png": "[encoded data removed]"
          },
          "metadata": {
            "needs_background": "light"
          }
        }
      ]
    },
    {
      "cell_type": "markdown",
      "source": [
        "### **Plotar um `boxplot` para a variável `Amount` e `Time`**\n",
        "\n",
        "Vejamos agora se encontramos outliers nos dados. Para isso verificaremos apenas as variáveis que conhecemos: `Time` e `Amount`, ambas em relação à nossa variável alvo `Class`.\n",
        "\n",
        "Vamos perceber que a variável `Amount` possui uma grande quantidade de outliers, situação muito diferente da variável `Time`, que não possui nenhum."
      ],
      "metadata": {
        "id": "3Y9kvgJ_Nmjg"
      }
    },
    {
      "cell_type": "code",
      "source": [
        "# Alterando o estilo do seaborn\n",
        "sns.set_style(\"white\")\n",
        "\n",
        "# Criando a figura\n",
        "fig, ax = plt.subplots(figsize=(10,6), ncols=2)\n",
        "sns.despine(top=True, right=True)\n",
        "\n",
        "# Plotando a variável Amount\n",
        "sns.boxplot(x=df.Class, y=df.Amount, ax=ax[0], linewidth=.9, palette=\"coolwarm\")\n",
        "ax[0].set_title(\"Variável Amount\", size='14')\n",
        "\n",
        "# Plotando a variável Time\n",
        "sns.boxplot(x=df.Class, y=df.Time,ax=ax[1], linewidth=.9, palette=\"coolwarm\")\n",
        "ax[1].set_title(\"Variável Time\", size='14')\n",
        "\n",
        "# Exibindo\n",
        "plt.tight_layout()"
      ],
      "metadata": {
        "colab": {
          "base_uri": "https://localhost:8080/",
          "height": 441
        },
        "id": "lSPupe4oNnAy",
        "outputId": "c9979fb4-17c3-45c7-e97d-647c7bb8ab9c"
      },
      "execution_count": 9,
      "outputs": [
        {
          "output_type": "display_data",
          "data": {
            "text/plain": [
              "<Figure size 720x432 with 2 Axes>"
            ],
            "image/png": "[encoded data removed]"
          },
          "metadata": {}
        }
      ]
    },
    {
      "cell_type": "markdown",
      "source": [
        "### **Plotar uma matriz de correlação**\n",
        "\n",
        "A matriz de correlação não nos dá quase nenhuma informação, isso pode ser devido ao alto desbalanceamento presente nos dados, como vimos anteriormente.\n",
        "\n",
        "Com isso podemos passar para a etapa de tratamento e preparação dos dados para serem utilizados em nosso modelo de classificação."
      ],
      "metadata": {
        "id": "wo075lvfNncM"
      }
    },
    {
      "cell_type": "code",
      "source": [
        "# Plotando a matriz de correlação\n",
        "fig, ax = plt.subplots(figsize=(8,6))\n",
        "\n",
        "sns.heatmap(df.corr(), linewidth=.05, cmap=\"coolwarm\", ax=ax)\n",
        "ax.set_title(\"Matriz de correlação\", size=14)\n",
        "\n",
        "plt.tight_layout()"
      ],
      "metadata": {
        "colab": {
          "base_uri": "https://localhost:8080/",
          "height": 441
        },
        "id": "gTsuaErcNnyy",
        "outputId": "2a44aa17-1119-4c89-f520-8bbca66350fa"
      },
      "execution_count": 10,
      "outputs": [
        {
          "output_type": "display_data",
          "data": {
            "text/plain": [
              "<Figure size 576x432 with 2 Axes>"
            ],
            "image/png": "[encoded data removed]"
          },
          "metadata": {}
        }
      ]
    },
    {
      "cell_type": "markdown",
      "source": [
        "Em resumo, as principais observações obtidas na análise exploratória foram:\n",
        "\n",
        "1. O dataset é muito desbalanceado, já que as transações fraudulentas representam apenas 0,17% das entradas totais.\n",
        "2. Não há valores ausentes ou nulos no conjunto de dados.\n",
        "3. As features originais foram padronizadas, o que é importante de se considerar pois foi aplicado o metodo PCA.\n",
        "4. As colunas `Time` e `Amount` não estão normalizadas."
      ],
      "metadata": {
        "id": "t4vHSQHjPodv"
      }
    },
    {
      "cell_type": "markdown",
      "metadata": {
        "id": "ULe7z0jZt0EH"
      },
      "source": [
        "## **Preparação dos Dados**\n",
        "\n",
        "Nessa etapa iremos tratar os problemas que encontramos na etapa de análise de modo a preparar os dados da melhor maneira para serem utilizados pelo algoritmo de machine learning e alcançarmos um bom desempenho na previsão das transações. Para isso, precisaremos:\n",
        "\n",
        "* Normalizar os dados que ainda não haviam sido pré-processados (Time e Amount);\n",
        "* Buscar e tratar os outliers;\n",
        "* Dividir o conjunto de dados entre treino e teste para serem utilizados no modelo.\n",
        "* Balancear o conjunto de dados;\n",
        "* Avaliar a qualidade dos dados após os tratamentos realizados;"
      ]
    },
    {
      "cell_type": "markdown",
      "source": [
        "### **Normalizando as variáveis Time e Amount**"
      ],
      "metadata": {
        "id": "rgQOlUPNWaNU"
      }
    },
    {
      "cell_type": "code",
      "metadata": {
        "id": "IqfjG_SUSTi-",
        "colab": {
          "base_uri": "https://localhost:8080/",
          "height": 236
        },
        "outputId": "3f2c6e77-1302-4ccd-c7ed-2e670b5e7679"
      },
      "source": [
        "# Copiando o dataframe para um novo\n",
        "df_norm = df.copy()\n",
        "\n",
        "# Instanciando o StandardScaler\n",
        "std_scaler = StandardScaler()\n",
        "\n",
        "# Normalizando\n",
        "df_norm[\"TimeNorm\"] = std_scaler.fit_transform(df.Time.values.reshape(-1,1))\n",
        "df_norm[\"AmountNorm\"] = std_scaler.fit_transform(df.Amount.values.reshape(-1,1))\n",
        "\n",
        "# Excluir as variáveis não normalizadas do DataFrame\n",
        "df_norm.drop([\"Time\", \"Amount\"], axis=1, inplace=True)\n",
        "\n",
        "# Exibindo o DataFrame com as variáveis normalizadas\n",
        "df_norm.head()"
      ],
      "execution_count": 11,
      "outputs": [
        {
          "output_type": "execute_result",
          "data": {
            "text/plain": [
              "         V1        V2        V3        V4        V5        V6        V7  \\\n",
              "0 -1.359807 -0.072781  2.536347  1.378155 -0.338321  0.462388  0.239599   \n",
              "1  1.191857  0.266151  0.166480  0.448154  0.060018 -0.082361 -0.078803   \n",
              "2 -1.358354 -1.340163  1.773209  0.379780 -0.503198  1.800499  0.791461   \n",
              "3 -0.966272 -0.185226  1.792993 -0.863291 -0.010309  1.247203  0.237609   \n",
              "4 -1.158233  0.877737  1.548718  0.403034 -0.407193  0.095921  0.592941   \n",
              "\n",
              "         V8        V9       V10  ...       V22       V23       V24       V25  \\\n",
              "0  0.098698  0.363787  0.090794  ...  0.277838 -0.110474  0.066928  0.128539   \n",
              "1  0.085102 -0.255425 -0.166974  ... -0.638672  0.101288 -0.339846  0.167170   \n",
              "2  0.247676 -1.514654  0.207643  ...  0.771679  0.909412 -0.689281 -0.327642   \n",
              "3  0.377436 -1.387024 -0.054952  ...  0.005274 -0.190321 -1.175575  0.647376   \n",
              "4 -0.270533  0.817739  0.753074  ...  0.798278 -0.137458  0.141267 -0.206010   \n",
              "\n",
              "        V26       V27       V28  Class  TimeNorm  AmountNorm  \n",
              "0 -0.189115  0.133558 -0.021053      0 -1.997399    0.246341  \n",
              "1  0.125895 -0.008983  0.014724      0 -1.997399   -0.346945  \n",
              "2 -0.139097 -0.055353 -0.059752      0 -1.997378    1.171178  \n",
              "3 -0.221929  0.062723  0.061458      0 -1.997378    0.140872  \n",
              "4  0.502292  0.219422  0.215153      0 -1.997357   -0.075195  \n",
              "\n",
              "[5 rows x 31 columns]"
            ],
            "text/html": [
              "\n",
              "  <div id=\"df-849bed5e-342e-4e8b-86de-10766445b38e\">\n",
              "    <div class=\"colab-df-container\">\n",
              "      <div>\n",
              "<style scoped>\n",
              "    .dataframe tbody tr th:only-of-type {\n",
              "        vertical-align: middle;\n",
              "    }\n",
              "\n",
              "    .dataframe tbody tr th {\n",
              "        vertical-align: top;\n",
              "    }\n",
              "\n",
              "    .dataframe thead th {\n",
              "        text-align: right;\n",
              "    }\n",
              "</style>\n",
              "<table border=\"1\" class=\"dataframe\">\n",
              "  <thead>\n",
              "    <tr style=\"text-align: right;\">\n",
              "      <th></th>\n",
              "      <th>V1</th>\n",
              "      <th>V2</th>\n",
              "      <th>V3</th>\n",
              "      <th>V4</th>\n",
              "      <th>V5</th>\n",
              "      <th>V6</th>\n",
              "      <th>V7</th>\n",
              "      <th>V8</th>\n",
              "      <th>V9</th>\n",
              "      <th>V10</th>\n",
              "      <th>...</th>\n",
              "      <th>V22</th>\n",
              "      <th>V23</th>\n",
              "      <th>V24</th>\n",
              "      <th>V25</th>\n",
              "      <th>V26</th>\n",
              "      <th>V27</th>\n",
              "      <th>V28</th>\n",
              "      <th>Class</th>\n",
              "      <th>TimeNorm</th>\n",
              "      <th>AmountNorm</th>\n",
              "    </tr>\n",
              "  </thead>\n",
              "  <tbody>\n",
              "    <tr>\n",
              "      <th>0</th>\n",
              "      <td>-1.359807</td>\n",
              "      <td>-0.072781</td>\n",
              "      <td>2.536347</td>\n",
              "      <td>1.378155</td>\n",
              "      <td>-0.338321</td>\n",
              "      <td>0.462388</td>\n",
              "      <td>0.239599</td>\n",
              "      <td>0.098698</td>\n",
              "      <td>0.363787</td>\n",
              "      <td>0.090794</td>\n",
              "      <td>...</td>\n",
              "      <td>0.277838</td>\n",
              "      <td>-0.110474</td>\n",
              "      <td>0.066928</td>\n",
              "      <td>0.128539</td>\n",
              "      <td>-0.189115</td>\n",
              "      <td>0.133558</td>\n",
              "      <td>-0.021053</td>\n",
              "      <td>0</td>\n",
              "      <td>-1.997399</td>\n",
              "      <td>0.246341</td>\n",
              "    </tr>\n",
              "    <tr>\n",
              "      <th>1</th>\n",
              "      <td>1.191857</td>\n",
              "      <td>0.266151</td>\n",
              "      <td>0.166480</td>\n",
              "      <td>0.448154</td>\n",
              "      <td>0.060018</td>\n",
              "      <td>-0.082361</td>\n",
              "      <td>-0.078803</td>\n",
              "      <td>0.085102</td>\n",
              "      <td>-0.255425</td>\n",
              "      <td>-0.166974</td>\n",
              "      <td>...</td>\n",
              "      <td>-0.638672</td>\n",
              "      <td>0.101288</td>\n",
              "      <td>-0.339846</td>\n",
              "      <td>0.167170</td>\n",
              "      <td>0.125895</td>\n",
              "      <td>-0.008983</td>\n",
              "      <td>0.014724</td>\n",
              "      <td>0</td>\n",
              "      <td>-1.997399</td>\n",
              "      <td>-0.346945</td>\n",
              "    </tr>\n",
              "    <tr>\n",
              "      <th>2</th>\n",
              "      <td>-1.358354</td>\n",
              "      <td>-1.340163</td>\n",
              "      <td>1.773209</td>\n",
              "      <td>0.379780</td>\n",
              "      <td>-0.503198</td>\n",
              "      <td>1.800499</td>\n",
              "      <td>0.791461</td>\n",
              "      <td>0.247676</td>\n",
              "      <td>-1.514654</td>\n",
              "      <td>0.207643</td>\n",
              "      <td>...</td>\n",
              "      <td>0.771679</td>\n",
              "      <td>0.909412</td>\n",
              "      <td>-0.689281</td>\n",
              "      <td>-0.327642</td>\n",
              "      <td>-0.139097</td>\n",
              "      <td>-0.055353</td>\n",
              "      <td>-0.059752</td>\n",
              "      <td>0</td>\n",
              "      <td>-1.997378</td>\n",
              "      <td>1.171178</td>\n",
              "    </tr>\n",
              "    <tr>\n",
              "      <th>3</th>\n",
              "      <td>-0.966272</td>\n",
              "      <td>-0.185226</td>\n",
              "      <td>1.792993</td>\n",
              "      <td>-0.863291</td>\n",
              "      <td>-0.010309</td>\n",
              "      <td>1.247203</td>\n",
              "      <td>0.237609</td>\n",
              "      <td>0.377436</td>\n",
              "      <td>-1.387024</td>\n",
              "      <td>-0.054952</td>\n",
              "      <td>...</td>\n",
              "      <td>0.005274</td>\n",
              "      <td>-0.190321</td>\n",
              "      <td>-1.175575</td>\n",
              "      <td>0.647376</td>\n",
              "      <td>-0.221929</td>\n",
              "      <td>0.062723</td>\n",
              "      <td>0.061458</td>\n",
              "      <td>0</td>\n",
              "      <td>-1.997378</td>\n",
              "      <td>0.140872</td>\n",
              "    </tr>\n",
              "    <tr>\n",
              "      <th>4</th>\n",
              "      <td>-1.158233</td>\n",
              "      <td>0.877737</td>\n",
              "      <td>1.548718</td>\n",
              "      <td>0.403034</td>\n",
              "      <td>-0.407193</td>\n",
              "      <td>0.095921</td>\n",
              "      <td>0.592941</td>\n",
              "      <td>-0.270533</td>\n",
              "      <td>0.817739</td>\n",
              "      <td>0.753074</td>\n",
              "      <td>...</td>\n",
              "      <td>0.798278</td>\n",
              "      <td>-0.137458</td>\n",
              "      <td>0.141267</td>\n",
              "      <td>-0.206010</td>\n",
              "      <td>0.502292</td>\n",
              "      <td>0.219422</td>\n",
              "      <td>0.215153</td>\n",
              "      <td>0</td>\n",
              "      <td>-1.997357</td>\n",
              "      <td>-0.075195</td>\n",
              "    </tr>\n",
              "  </tbody>\n",
              "</table>\n",
              "<p>5 rows × 31 columns</p>\n",
              "</div>\n",
              "      <button class=\"colab-df-convert\" onclick=\"convertToInteractive('df-849bed5e-342e-4e8b-86de-10766445b38e')\"\n",
              "              title=\"Convert this dataframe to an interactive table.\"\n",
              "              style=\"display:none;\">\n",
              "        \n",
              "  <svg xmlns=\"http://www.w3.org/2000/svg\" height=\"24px\"viewBox=\"0 0 24 24\"\n",
              "       width=\"24px\">\n",
              "    <path d=\"M0 0h24v24H0V0z\" fill=\"none\"/>\n",
              "    <path d=\"M18.56 5.44l.94 2.06.94-2.06 2.06-.94-2.06-.94-.94-2.06-.94 2.06-2.06.94zm-11 1L8.5 8.5l.94-2.06 2.06-.94-2.06-.94L8.5 2.5l-.94 2.06-2.06.94zm10 10l.94 2.06.94-2.06 2.06-.94-2.06-.94-.94-2.06-.94 2.06-2.06.94z\"/><path d=\"M17.41 7.96l-1.37-1.37c-.4-.4-.92-.59-1.43-.59-.52 0-1.04.2-1.43.59L10.3 9.45l-7.72 7.72c-.78.78-.78 2.05 0 2.83L4 21.41c.39.39.9.59 1.41.59.51 0 1.02-.2 1.41-.59l7.78-7.78 2.81-2.81c.8-.78.8-2.07 0-2.86zM5.41 20L4 18.59l7.72-7.72 1.47 1.35L5.41 20z\"/>\n",
              "  </svg>\n",
              "      </button>\n",
              "      \n",
              "  <style>\n",
              "    .colab-df-container {\n",
              "      display:flex;\n",
              "      flex-wrap:wrap;\n",
              "      gap: 12px;\n",
              "    }\n",
              "\n",
              "    .colab-df-convert {\n",
              "      background-color: #E8F0FE;\n",
              "      border: none;\n",
              "      border-radius: 50%;\n",
              "      cursor: pointer;\n",
              "      display: none;\n",
              "      fill: #1967D2;\n",
              "      height: 32px;\n",
              "      padding: 0 0 0 0;\n",
              "      width: 32px;\n",
              "    }\n",
              "\n",
              "    .colab-df-convert:hover {\n",
              "      background-color: #E2EBFA;\n",
              "      box-shadow: 0px 1px 2px rgba(60, 64, 67, 0.3), 0px 1px 3px 1px rgba(60, 64, 67, 0.15);\n",
              "      fill: #174EA6;\n",
              "    }\n",
              "\n",
              "    [theme=dark] .colab-df-convert {\n",
              "      background-color: #3B4455;\n",
              "      fill: #D2E3FC;\n",
              "    }\n",
              "\n",
              "    [theme=dark] .colab-df-convert:hover {\n",
              "      background-color: #434B5C;\n",
              "      box-shadow: 0px 1px 3px 1px rgba(0, 0, 0, 0.15);\n",
              "      filter: drop-shadow(0px 1px 2px rgba(0, 0, 0, 0.3));\n",
              "      fill: #FFFFFF;\n",
              "    }\n",
              "  </style>\n",
              "\n",
              "      <script>\n",
              "        const buttonEl =\n",
              "          document.querySelector('#df-849bed5e-342e-4e8b-86de-10766445b38e button.colab-df-convert');\n",
              "        buttonEl.style.display =\n",
              "          google.colab.kernel.accessAllowed ? 'block' : 'none';\n",
              "\n",
              "        async function convertToInteractive(key) {\n",
              "          const element = document.querySelector('#df-849bed5e-342e-4e8b-86de-10766445b38e');\n",
              "          const dataTable =\n",
              "            await google.colab.kernel.invokeFunction('convertToInteractive',\n",
              "                                                     [key], {});\n",
              "          if (!dataTable) return;\n",
              "\n",
              "          const docLinkHtml = 'Like what you see? Visit the ' +\n",
              "            '<a target=\"_blank\" href=https://colab.research.google.com/notebooks/data_table.ipynb>data table notebook</a>'\n",
              "            + ' to learn more about interactive tables.';\n",
              "          element.innerHTML = '';\n",
              "          dataTable['output_type'] = 'display_data';\n",
              "          await google.colab.output.renderOutput(dataTable, element);\n",
              "          const docLink = document.createElement('div');\n",
              "          docLink.innerHTML = docLinkHtml;\n",
              "          element.appendChild(docLink);\n",
              "        }\n",
              "      </script>\n",
              "    </div>\n",
              "  </div>\n",
              "  "
            ]
          },
          "metadata": {},
          "execution_count": 11
        }
      ]
    },
    {
      "cell_type": "markdown",
      "source": [
        "O código acima aplica a normalização às variáveis `Time` e `Amount` e armazena os valores normalizados em duas novas variáveis chamadas `TimeNorm` e `AmountNorm`. Isso evita que o algoritmo atribua pesos incorretos às colunas devido a diferenças de escala, pois a normalização coloca os valores dessas colunas em uma escala comum com o restante dos dados, sem perder as informações presentes."
      ],
      "metadata": {
        "id": "imuDCxEPTvrg"
      }
    },
    {
      "cell_type": "markdown",
      "source": [
        "### **Análise e tratamento de *outliers***\n",
        "\n",
        "Passaremos agora para a análise e tratamento dos outliers. Trataremos apenas a variável `Amount`, que agora é `AmountNorm`, já que não identificamos outliers na variável `Time`. Para a limpeza utilizaremos a regra do [IQR Score.](https://estatsite.com.br/2018/12/01/localizando-outliers-atraves-do-intervalo-interquartil-boxplot-codigo-sas)"
      ],
      "metadata": {
        "id": "SRUBAgBQWKyg"
      }
    },
    {
      "cell_type": "code",
      "source": [
        "# Calculando o Q1 e o Q3\n",
        "q1 = df_norm.AmountNorm.quantile(.25)\n",
        "q3 = df_norm.AmountNorm.quantile(.75)\n",
        "\n",
        "# Calculando o IQR\n",
        "IQR = q3 - q1\n",
        "\n",
        "# Definindo os limites superior e inferior\n",
        "sup = q3 + 1.5 * IQR\n",
        "inf = q1 - 1.5 * IQR\n",
        "\n",
        "# Limpando os outliers\n",
        "df_clean = df_norm.copy()\n",
        "df_clean.drop(df_clean[df_clean.AmountNorm > sup].index, axis=0, inplace=True)\n",
        "df_clean.drop(df_clean[df_clean.AmountNorm < inf].index, axis=0, inplace=True)"
      ],
      "metadata": {
        "id": "P0AHGKavVQgn"
      },
      "execution_count": 12,
      "outputs": []
    },
    {
      "cell_type": "code",
      "source": [
        "# Criando a figura\n",
        "fig, ax = plt.subplots(figsize=(10,6), ncols=2)\n",
        "sns.despine(top=True, right=True)\n",
        "\n",
        "# Plotando a variável Amount antes da limpeza dos outliers\n",
        "sns.boxplot(x=df_norm.Class, y=df_norm.AmountNorm, ax=ax[0], linewidth=.9, palette=\"coolwarm\")\n",
        "ax[0].set_title(\"Variável Amount antes da limpeza dos outliers\", size='14')\n",
        "\n",
        "# Plotando a variável Amount depois da limpeza dos outliers\n",
        "sns.boxplot(x=df_clean.Class, y=df_clean.AmountNorm, ax=ax[1], linewidth=.9, palette=\"coolwarm\")\n",
        "ax[1].set_title(\"Variável Amount depois da limpeza dos outliers\", size='14')\n",
        "\n",
        "# Exibindo\n",
        "plt.tight_layout()"
      ],
      "metadata": {
        "colab": {
          "base_uri": "https://localhost:8080/",
          "height": 441
        },
        "id": "XLY-CmkWVSC2",
        "outputId": "dc8028f3-d871-4f34-baf7-7082bab2d37d"
      },
      "execution_count": 13,
      "outputs": [
        {
          "output_type": "display_data",
          "data": {
            "text/plain": [
              "<Figure size 720x432 with 2 Axes>"
            ],
            "image/png": "[encoded data removed]"
          },
          "metadata": {}
        }
      ]
    },
    {
      "cell_type": "markdown",
      "source": [
        "Após a aplicação da técnica **IQR Score** para remover os outliers, é possível observar uma melhoria na qualidade dos dados. Isso fica evidente ao comparar o *boxplot* antes e depois da limpeza: os quartis e os limites superior e inferior tornam-se mais visíveis após a limpeza, enquanto as informações estatísticas apresentam um comportamento mais uniforme, um desvio padrão menor e valores de média e mediana mais próximos.\n"
      ],
      "metadata": {
        "id": "QZjcs_6DVoez"
      }
    },
    {
      "cell_type": "markdown",
      "source": [
        "### **Dividir entre conjuntos de Treino e Validação**\n",
        "\n",
        "Agora, dividiremos os dados entre conjuntos de treino e teste. Essa etapa é fundamental na criação de modelos de aprendizado de máquina, pois nos permite treinar o modelo com parte dos dados e avaliar seu desempenho com o restante, simulando como ele se comportaria com dados completamente novos. Além disso, também é necessário separar os dados em *matriz de features* (feature matrix) e *vetor alvo* (target vector).\n",
        "\n",
        "* **Feature matrix**: matriz com todas as variáveis que serão utilizadas pelo modelo para prever a variável alvo;\n",
        "* **Target vector**: vetor alvo (ou variável alvo), é a variável que desejamos que seja prevista corretamente pelo modelo."
      ],
      "metadata": {
        "id": "Rx34OCAFWj6a"
      }
    },
    {
      "cell_type": "code",
      "source": [
        "# Separando os dados entre feature matrix e target vector\n",
        "X = df_clean.drop(\"Class\", axis=1)\n",
        "y = df_clean.Class\n",
        "\n",
        "# Separar os dados entre treino e teste\n",
        "X_train, X_val, y_train, y_val = train_test_split(X, y, shuffle=True, stratify=y)"
      ],
      "metadata": {
        "id": "wW5W2TOeWtec"
      },
      "execution_count": 14,
      "outputs": []
    },
    {
      "cell_type": "markdown",
      "source": [
        "### **Balanceamento dos dados**\n",
        "\n",
        "Agora, aplicaremos a técnica de undersampling para balancear os dados. Essa técnica consiste em diminuir o número de observações da classe com maior quantidade, de modo a igualá-las. O *medium* do [Data Hackers](https://medium.com/data-hackers/como-lidar-com-dados-desbalanceados-em-problemas-de-classifica%C3%A7%C3%A3o-17c4d4357ef9) apresenta um ótimo artigo que explica diversas formas de balanceamento de dados, incluindo o undersampling, vale a pena dar uma olhada."
      ],
      "metadata": {
        "id": "5lokf9YmXGht"
      }
    },
    {
      "cell_type": "code",
      "source": [
        "# Instanciando o RandomUnderSampler\n",
        "rus = RandomUnderSampler()\n",
        "\n",
        "#Balanceando X_train e y_train\n",
        "X_train_rus, y_train_rus = rus.fit_resample(X_train, y_train)\n",
        "\n",
        "# Exibindo as informações estatísiticas após o balanceamento\n",
        "print(\"---Contagem dos valores da variável Class após o balanceamento.---\\n\")\n",
        "print(\"0 = Transações autênticas  1 = Transações fraudulentas\\n\")\n",
        "print(y_train_rus.value_counts())\n",
        "\n",
        "# Plotando o gráfico do balanceamento do dataset após o balanceamento\n",
        "fig, ax = plt.subplots(figsize=(7,5))\n",
        "sns.despine(top=True, right=True)\n",
        "sns.countplot(x=y_train_rus, palette=\"coolwarm\", ax=ax)\n",
        "ax.set_title(\"Balanceamento do dataset\", size=14)\n",
        "plt.tight_layout()"
      ],
      "metadata": {
        "colab": {
          "base_uri": "https://localhost:8080/",
          "height": 505
        },
        "id": "yaEX2MifXGrT",
        "outputId": "0b2f2af2-58c1-4b9e-c1f5-0091f68e6f28"
      },
      "execution_count": 15,
      "outputs": [
        {
          "output_type": "stream",
          "name": "stdout",
          "text": [
            "---Contagem dos valores da variável Class após o balanceamento.---\n",
            "\n",
            "0 = Transações autênticas  1 = Transações fraudulentas\n",
            "\n",
            "0    253\n",
            "1    253\n",
            "Name: Class, dtype: int64\n"
          ]
        },
        {
          "output_type": "display_data",
          "data": {
            "text/plain": [
              "<Figure size 504x360 with 1 Axes>"
            ],
            "image/png": "[encoded data removed]"
          },
          "metadata": {}
        }
      ]
    },
    {
      "cell_type": "markdown",
      "source": [
        "Uma vez que o dataset continha poucas observações para a classificação Class == 1, a técnica de *undersampling* foi utilizada para reduzir o número de observações da classificação majoritária Class == 0 e, dessa forma, balancear os dados.\n",
        "\n",
        "Agora que os dados foram tratados, normalizados, limpos de outliers e balanceados, poderemos avançar para a etapa de criação do modelo de aprendizado de máquina. O objetivo é construir um modelo capaz de **detectar transações fraudulentas em cartões de crédito.**"
      ],
      "metadata": {
        "id": "MhlPHGWoZCf3"
      }
    },
    {
      "cell_type": "markdown",
      "metadata": {
        "id": "wJNH5qcjRxfX"
      },
      "source": [
        "## **Modelo de Machine Learning**\n",
        "\n",
        "Neste problema, precisamos prever se uma transação é fraudulenta ou autêntica. \n",
        "\n",
        "Para isso, nossa variável alvo pode assumir dois valores distintos: 0 para transações autênticas e 1 para transações fraudulentas. Isso significa que a variável alvo é discreta, ou seja, pode assumir apenas valores discretos (0 ou 1), mas não pode assumir valores intermediários ou contínuos (como 0,01, 0,001, etc.). \n",
        "\n",
        "Portanto, utilizaremos modelos de classificação para resolver esse problema. Neste estudo, aplicaremos dois modelos de classificação: Regressão Logística (**Logistic Regression**), Árvore de Decisão (**Decision Tree**) e Floresta Aleatória (**Random Forest**), e compararemos qual deles teve o melhor desempenho."
      ]
    },
    {
      "cell_type": "markdown",
      "source": [
        "### **Criando o modelo de Regressão Logistica**"
      ],
      "metadata": {
        "id": "ZQn22ikPbVjb"
      }
    },
    {
      "cell_type": "code",
      "metadata": {
        "id": "lDySx8XUSMw_"
      },
      "source": [
        "# Instanciando o modelo\n",
        "np.random.seed(2)\n",
        "logistic_model = LogisticRegression(C=0.01)\n",
        "\n",
        "# Fit do modelo de Regressão\n",
        "logistic_model.fit(X_train_rus, y_train_rus)\n",
        "\n",
        "# Testando o modelo com os dados de teste\n",
        "logistic_y_pred = logistic_model.predict(X_val)"
      ],
      "execution_count": 16,
      "outputs": []
    },
    {
      "cell_type": "markdown",
      "source": [
        "### **Criando o modelo de Árvore de Decisão**"
      ],
      "metadata": {
        "id": "DX0QkJuybl5h"
      }
    },
    {
      "cell_type": "code",
      "source": [
        "# Instanciando o modelo\n",
        "np.random.seed(2)\n",
        "tree_model = DecisionTreeClassifier(criterion=\"entropy\",max_depth=6)\n",
        "\n",
        "# Fit do modelo de Árvore de Decisão\n",
        "tree_model.fit(X_train_rus, y_train_rus)\n",
        "\n",
        "# Testando o modelo com os dados de teste\n",
        "tree_y_pred = tree_model.predict(X_val)"
      ],
      "metadata": {
        "id": "vG9f9IadbmQI"
      },
      "execution_count": 17,
      "outputs": []
    },
    {
      "cell_type": "markdown",
      "source": [
        "### **Criando o modelo de Floresta Aleatória**"
      ],
      "metadata": {
        "id": "pgTQe6qFb0E8"
      }
    },
    {
      "cell_type": "code",
      "source": [
        "# Instanciando o modelo\n",
        "np.random.seed(2)\n",
        "forest_model = RandomForestClassifier(criterion=\"gini\",max_depth=6)\n",
        "\n",
        "# Fit do modelo de Floresta Aleatória\n",
        "forest_model.fit(X_train_rus, y_train_rus)\n",
        "\n",
        "# Testando o modelo com os dados de teste\n",
        "forest_y_pred = forest_model.predict(X_val)"
      ],
      "metadata": {
        "id": "TyClaXC4b0bn"
      },
      "execution_count": 18,
      "outputs": []
    },
    {
      "cell_type": "markdown",
      "metadata": {
        "id": "3e4ENOTYSUXi"
      },
      "source": [
        "## **Avaliar o desempenho do modelo**\n",
        "\n",
        "Existem diversas métricas e ferramentas que auxiliam na avaliação de um modelo de Machine Learning. Aqui, usaremos como ferramentas a *Confusion Matrix* e o *Classification Report* e como métricas utilizaremos principalmente a *Acurácia*, a *AUC* e o *Recall*.\n",
        "\n",
        "De maneira resumida, o funcionamento dessas ferramentas e métricas é o seguinte:\n",
        "\n",
        "* **Confusion Matrix:** plota uma matriz que possui, eu sei eixo Y, os valores verdadeiros (originais) dos dados de teste e no eixo X os valores previstos pelo algoritmo para cada classificação possível da variável alvo;\n",
        "* **Classification Report:** relatório com as principais métricas utilizadas divididas para cada classificação possível da variável alvo;\n",
        "* **Acurácia:** fração de predições corretas (no total). Pode ser resumida em \"Quanto o modelo está acertando?\". É preciso tomar cuidado com essa métrica, pois pode nos dar uma falsa sensação de bom desempenho, pois um modelo pode ter uma acurácia de 99% e acertar apenas 60% uma classificação específica (mais sobre aqui);\n",
        "* **AUC:** fornece uma medida agregada de desempenho em todos os limites de classificação possíveis. Uma maneira de interpretar AUC é como a probabilidade de que o modelo classifique um exemplo positivo aleatório mais alto do que um exemplo negativo aleatório. Quanto mais próximo de 1, melhor. Um modelo cujas previsões estão 100% erradas tem uma AUC de 0,0; aquele cujas previsões são 100% corretas tem uma AUC de 1,0 (mais sobre aqui);\n",
        "* **Recall:** qual a porcentagem de classificações positivas (em nosso exemplo: 1 - Fraudulentas) o modelo consegue prever. Pode ser resumida em: \"Dentre os positivos reais, qual a proporção de acerto?\"."
      ]
    },
    {
      "cell_type": "code",
      "metadata": {
        "id": "H1jEi7gkSe2r",
        "colab": {
          "base_uri": "https://localhost:8080/",
          "height": 789
        },
        "outputId": "e98a3118-36e5-45e4-c53f-704a80ec4900"
      },
      "source": [
        "print(\"---------------AVALIANDO O MODELO DE REGRESSÃO LOGÍSTICA---------------\")\n",
        "print(\"\\nRelatório de Classificação\\n\")\n",
        "# Imprimindo o classification report\n",
        "print(classification_report(y_val, logistic_y_pred))\n",
        "\n",
        "print(\"\\n--Métricas do modelo--\\n\")\n",
        "# Imprimindo as métricas\n",
        "print(\"Acurácia: {:.2%}\".format(accuracy_score(y_val, logistic_y_pred)))\n",
        "print(\"AUC: {:.2f}\".format(roc_auc_score(y_val, logistic_y_pred)))\n",
        "print(\"Recall: {:.2%}\".format(recall_score(y_val, logistic_y_pred)))\n",
        "\n",
        "print(\"\\nMatriz de Confusão\\n\")\n",
        "# Criando a figura\n",
        "fig, ax = plt.subplots(figsize=(5,5))\n",
        "\n",
        "# Plotando a matriz\n",
        "skplt.metrics.plot_confusion_matrix(y_val, logistic_y_pred, ax=ax, normalize=True, cmap=\"Greys\")\n",
        "ax.set_ylabel(\"Verdadeiro\")\n",
        "ax.set_xlabel(\"Previsto\")\n",
        "ax.set_title(\"Matriz de confusão - Regressão Logística\", size=\"14\")\n",
        "\n",
        "# Exibindo\n",
        "plt.tight_layout()"
      ],
      "execution_count": 19,
      "outputs": [
        {
          "output_type": "stream",
          "name": "stdout",
          "text": [
            "---------------AVALIANDO O MODELO DE REGRESSÃO LOGÍSTICA---------------\n",
            "\n",
            "Relatório de Classificação\n",
            "\n",
            "              precision    recall  f1-score   support\n",
            "\n",
            "           0       1.00      0.99      1.00     53672\n",
            "           1       0.14      0.94      0.24        84\n",
            "\n",
            "    accuracy                           0.99     53756\n",
            "   macro avg       0.57      0.97      0.62     53756\n",
            "weighted avg       1.00      0.99      0.99     53756\n",
            "\n",
            "\n",
            "--Métricas do modelo--\n",
            "\n",
            "Acurácia: 99.06%\n",
            "AUC: 0.97\n",
            "Recall: 94.05%\n",
            "\n",
            "Matriz de Confusão\n",
            "\n"
          ]
        },
        {
          "output_type": "display_data",
          "data": {
            "text/plain": [
              "<Figure size 360x360 with 2 Axes>"
            ],
            "image/png": "[encoded data removed]"
          },
          "metadata": {}
        }
      ]
    },
    {
      "cell_type": "code",
      "source": [
        "print(\"---------------AVALIANDO O MODELO DE ÁRVORE DE DECISÃO---------------\")\n",
        "print(\"\\nRelatório de Classificação\\n\")\n",
        "# Imprimindo o classification report\n",
        "print(classification_report(y_val, tree_y_pred))\n",
        "\n",
        "print(\"\\n--Métricas do modelo--\\n\")\n",
        "# Imprimindo as métricas\n",
        "print(\"Acurácia: {:.2%}\".format(accuracy_score(y_val, tree_y_pred)))\n",
        "print(\"AUC: {:.2f}\".format(roc_auc_score(y_val, tree_y_pred)))\n",
        "print(\"Recall: {:.2%}\".format(recall_score(y_val, tree_y_pred)))\n",
        "plt.tight_layout()\n",
        "\n",
        "print(\"\\nMatriz de Confusão\\n\")\n",
        "# Criando a figura\n",
        "fig, ax = plt.subplots(figsize=(5,5))\n",
        "\n",
        "# Plotando a matriz\n",
        "skplt.metrics.plot_confusion_matrix(y_val, tree_y_pred, ax=ax, normalize=True, cmap=\"Oranges\")\n",
        "ax.set_ylabel(\"Verdadeiro\")\n",
        "ax.set_xlabel(\"Previsto\")\n",
        "ax.set_title(\"Matriz de confusão - Árvore de Decisão\", size=\"14\")\n",
        "\n",
        "# Exibindo\n",
        "plt.tight_layout()"
      ],
      "metadata": {
        "colab": {
          "base_uri": "https://localhost:8080/",
          "height": 808
        },
        "id": "jgl_7XpoekxB",
        "outputId": "ac7f3179-5494-4507-f368-00e9fee253ee"
      },
      "execution_count": 20,
      "outputs": [
        {
          "output_type": "stream",
          "name": "stdout",
          "text": [
            "---------------AVALIANDO O MODELO DE ÁRVORE DE DECISÃO---------------\n",
            "\n",
            "Relatório de Classificação\n",
            "\n",
            "              precision    recall  f1-score   support\n",
            "\n",
            "           0       1.00      0.93      0.96     53672\n",
            "           1       0.02      0.93      0.04        84\n",
            "\n",
            "    accuracy                           0.93     53756\n",
            "   macro avg       0.51      0.93      0.50     53756\n",
            "weighted avg       1.00      0.93      0.96     53756\n",
            "\n",
            "\n",
            "--Métricas do modelo--\n",
            "\n",
            "Acurácia: 92.75%\n",
            "AUC: 0.93\n",
            "Recall: 92.86%\n",
            "\n",
            "Matriz de Confusão\n",
            "\n"
          ]
        },
        {
          "output_type": "display_data",
          "data": {
            "text/plain": [
              "<Figure size 432x288 with 0 Axes>"
            ]
          },
          "metadata": {}
        },
        {
          "output_type": "display_data",
          "data": {
            "text/plain": [
              "<Figure size 360x360 with 2 Axes>"
            ],
            "image/png": "[encoded data removed]"
          },
          "metadata": {}
        }
      ]
    },
    {
      "cell_type": "code",
      "source": [
        "print(\"---------------AVALIANDO O MODELO DE FLORESTA ALEATÓRIA---------------\")\n",
        "print(\"\\nRelatório de Classificação\\n\")\n",
        "# Imprimindo o classification report\n",
        "print(classification_report(y_val, forest_y_pred))\n",
        "\n",
        "print(\"\\n--Métricas do modelo--\\n\")\n",
        "# Imprimindo as métricas\n",
        "print(\"Acurácia: {:.2%}\".format(accuracy_score(y_val, forest_y_pred)))\n",
        "print(\"AUC: {:.2f}\".format(roc_auc_score(y_val, forest_y_pred)))\n",
        "print(\"Recall: {:.2%}\".format(recall_score(y_val, forest_y_pred)))\n",
        "plt.tight_layout()\n",
        "\n",
        "print(\"\\nMatriz de Confusão\\n\")\n",
        "# Criando a figura\n",
        "fig, ax = plt.subplots(figsize=(5,5))\n",
        "\n",
        "# Plotando a matriz\n",
        "skplt.metrics.plot_confusion_matrix(y_val, forest_y_pred, ax=ax, normalize=True, cmap=\"Greens\")\n",
        "ax.set_ylabel(\"Verdadeiro\")\n",
        "ax.set_xlabel(\"Previsto\")\n",
        "ax.set_title(\"Matriz de confusão - Floresta Aleatória\", size=\"14\")\n",
        "\n",
        "# Exibindo\n",
        "plt.tight_layout()"
      ],
      "metadata": {
        "colab": {
          "base_uri": "https://localhost:8080/",
          "height": 808
        },
        "id": "fFsXkpAXfy4b",
        "outputId": "82f291f7-f5dd-4bc2-b37f-84d2f5633161"
      },
      "execution_count": 21,
      "outputs": [
        {
          "output_type": "stream",
          "name": "stdout",
          "text": [
            "---------------AVALIANDO O MODELO DE FLORESTA ALEATÓRIA---------------\n",
            "\n",
            "Relatório de Classificação\n",
            "\n",
            "              precision    recall  f1-score   support\n",
            "\n",
            "           0       1.00      0.99      0.99     53672\n",
            "           1       0.10      0.95      0.18        84\n",
            "\n",
            "    accuracy                           0.99     53756\n",
            "   macro avg       0.55      0.97      0.58     53756\n",
            "weighted avg       1.00      0.99      0.99     53756\n",
            "\n",
            "\n",
            "--Métricas do modelo--\n",
            "\n",
            "Acurácia: 98.61%\n",
            "AUC: 0.97\n",
            "Recall: 95.24%\n",
            "\n",
            "Matriz de Confusão\n",
            "\n"
          ]
        },
        {
          "output_type": "display_data",
          "data": {
            "text/plain": [
              "<Figure size 432x288 with 0 Axes>"
            ]
          },
          "metadata": {}
        },
        {
          "output_type": "display_data",
          "data": {
            "text/plain": [
              "<Figure size 360x360 with 2 Axes>"
            ],
            "image/png": "[encoded data removed]"
          },
          "metadata": {}
        }
      ]
    },
    {
      "cell_type": "markdown",
      "source": [
        "Ao avaliarmos os modelos, percebemos que o modelo de Floresta Aleatória tem o melhor desempenho nos dados utilizados para a previsão das fraudes. Nas simulações feitas durante este estudo, o modelo conseguiu prever cerca de 95% das transações fraudulentas contra 94% de acerto no modelo de Regressão Logística e contra 93% de acerto no modelo de Árvore de Decisão."
      ],
      "metadata": {
        "id": "oEU4uPPoiu_5"
      }
    },
    {
      "cell_type": "markdown",
      "source": [
        "## **Fazendo Previsões no Conjunto de Teste**\n",
        "\n",
        "No início do projeto, dividimos os dados em três conjuntos: um para treinamento, um para validação e um para teste. \n",
        "\n",
        "Agora que já exploramos e preparamos os dados, instanciamos o modelo e fizemos previsões no conjunto de validação, é hora de avaliar o potencial desse modelo com o conjunto de teste.\n",
        "\n",
        "Para obter resultados precisos, precisamos preparar os novos dados de teste da mesma maneira que os dados de treinamento. \n",
        "\n",
        "Isso inclui padronizar as colunas Time e Amount, mas não balancear os dados, pois isso resultaria em perda de informação. \n",
        "\n",
        "O modelo deve ser tratado de maneira a poder fazer previsões em todas as linhas que receber.\n"
      ],
      "metadata": {
        "id": "YVf8yRnejm95"
      }
    },
    {
      "cell_type": "code",
      "source": [
        "# padronizar as colunas Time e Amount - Teste\n",
        "test_clean = test.copy()\n",
        "\n",
        "std_scaler = StandardScaler()\n",
        "test_clean['AmountNorm'] = std_scaler.fit_transform(test_clean['Amount'].values.reshape(-1, 1))\n",
        "test_clean['TimeNorm'] = std_scaler.fit_transform(test_clean['Time'].values.reshape(-1, 1))\n",
        "\n",
        "test_clean.drop(['Time', 'Amount'], axis=1, inplace=True)\n",
        "\n",
        "# ver as primeiras entradas\n",
        "test_clean.head()"
      ],
      "metadata": {
        "colab": {
          "base_uri": "https://localhost:8080/",
          "height": 236
        },
        "id": "pTm3vhugkEZ2",
        "outputId": "9e3c4215-6818-442f-9d9b-a447ca74ce44"
      },
      "execution_count": 22,
      "outputs": [
        {
          "output_type": "execute_result",
          "data": {
            "text/plain": [
              "              V1        V2        V3        V4        V5        V6        V7  \\\n",
              "183484 -0.323334  1.057455 -0.048341 -0.607204  1.259821 -0.091761  1.159101   \n",
              "255448 -0.349718  0.932619  0.142992 -0.657071  1.169784 -0.733369  1.009985   \n",
              "244749 -1.614711 -2.406570  0.326194  0.665520  2.369268 -1.775367 -1.139049   \n",
              "63919  -2.477184  0.860613  1.441850  1.051019 -1.856621  2.078384  0.510828   \n",
              "11475   1.338831 -0.547264  0.737389 -0.212383 -1.110039 -0.525744 -0.801403   \n",
              "\n",
              "              V8        V9       V10  ...       V22       V23       V24  \\\n",
              "183484 -0.124335 -0.174640 -1.644401  ... -0.433890 -0.261613 -0.046651   \n",
              "255448 -0.071069 -0.302083 -1.192404  ... -0.833209 -0.030360  0.490035   \n",
              "244749  0.329904  0.903813 -0.219013  ...  1.134489  0.965054  0.640981   \n",
              "63919  -0.243399 -0.260691  0.133040  ...  0.692245  0.150121 -0.260777   \n",
              "11475  -0.063672  0.997276  0.113386  ... -0.074719  0.067055  0.333122   \n",
              "\n",
              "             V25       V26       V27       V28  Class  AmountNorm  TimeNorm  \n",
              "183484  0.211512  0.008297  0.108494  0.161139      0   -0.177738  0.658372  \n",
              "255448 -0.404816  0.134350  0.076830  0.175562      0   -0.321945  1.320094  \n",
              "244749 -1.801998 -1.041114  0.286285  0.437322      0    0.034666  1.219742  \n",
              "63919   0.005183 -0.177847 -0.510060 -0.660533      0    0.838765 -0.919236  \n",
              "11475   0.379087 -0.268706 -0.002769  0.003272      0   -0.310490 -1.572827  \n",
              "\n",
              "[5 rows x 31 columns]"
            ],
            "text/html": [
              "\n",
              "  <div id=\"df-6e52a839-c628-43c6-a466-8865f2f1f74c\">\n",
              "    <div class=\"colab-df-container\">\n",
              "      <div>\n",
              "<style scoped>\n",
              "    .dataframe tbody tr th:only-of-type {\n",
              "        vertical-align: middle;\n",
              "    }\n",
              "\n",
              "    .dataframe tbody tr th {\n",
              "        vertical-align: top;\n",
              "    }\n",
              "\n",
              "    .dataframe thead th {\n",
              "        text-align: right;\n",
              "    }\n",
              "</style>\n",
              "<table border=\"1\" class=\"dataframe\">\n",
              "  <thead>\n",
              "    <tr style=\"text-align: right;\">\n",
              "      <th></th>\n",
              "      <th>V1</th>\n",
              "      <th>V2</th>\n",
              "      <th>V3</th>\n",
              "      <th>V4</th>\n",
              "      <th>V5</th>\n",
              "      <th>V6</th>\n",
              "      <th>V7</th>\n",
              "      <th>V8</th>\n",
              "      <th>V9</th>\n",
              "      <th>V10</th>\n",
              "      <th>...</th>\n",
              "      <th>V22</th>\n",
              "      <th>V23</th>\n",
              "      <th>V24</th>\n",
              "      <th>V25</th>\n",
              "      <th>V26</th>\n",
              "      <th>V27</th>\n",
              "      <th>V28</th>\n",
              "      <th>Class</th>\n",
              "      <th>AmountNorm</th>\n",
              "      <th>TimeNorm</th>\n",
              "    </tr>\n",
              "  </thead>\n",
              "  <tbody>\n",
              "    <tr>\n",
              "      <th>183484</th>\n",
              "      <td>-0.323334</td>\n",
              "      <td>1.057455</td>\n",
              "      <td>-0.048341</td>\n",
              "      <td>-0.607204</td>\n",
              "      <td>1.259821</td>\n",
              "      <td>-0.091761</td>\n",
              "      <td>1.159101</td>\n",
              "      <td>-0.124335</td>\n",
              "      <td>-0.174640</td>\n",
              "      <td>-1.644401</td>\n",
              "      <td>...</td>\n",
              "      <td>-0.433890</td>\n",
              "      <td>-0.261613</td>\n",
              "      <td>-0.046651</td>\n",
              "      <td>0.211512</td>\n",
              "      <td>0.008297</td>\n",
              "      <td>0.108494</td>\n",
              "      <td>0.161139</td>\n",
              "      <td>0</td>\n",
              "      <td>-0.177738</td>\n",
              "      <td>0.658372</td>\n",
              "    </tr>\n",
              "    <tr>\n",
              "      <th>255448</th>\n",
              "      <td>-0.349718</td>\n",
              "      <td>0.932619</td>\n",
              "      <td>0.142992</td>\n",
              "      <td>-0.657071</td>\n",
              "      <td>1.169784</td>\n",
              "      <td>-0.733369</td>\n",
              "      <td>1.009985</td>\n",
              "      <td>-0.071069</td>\n",
              "      <td>-0.302083</td>\n",
              "      <td>-1.192404</td>\n",
              "      <td>...</td>\n",
              "      <td>-0.833209</td>\n",
              "      <td>-0.030360</td>\n",
              "      <td>0.490035</td>\n",
              "      <td>-0.404816</td>\n",
              "      <td>0.134350</td>\n",
              "      <td>0.076830</td>\n",
              "      <td>0.175562</td>\n",
              "      <td>0</td>\n",
              "      <td>-0.321945</td>\n",
              "      <td>1.320094</td>\n",
              "    </tr>\n",
              "    <tr>\n",
              "      <th>244749</th>\n",
              "      <td>-1.614711</td>\n",
              "      <td>-2.406570</td>\n",
              "      <td>0.326194</td>\n",
              "      <td>0.665520</td>\n",
              "      <td>2.369268</td>\n",
              "      <td>-1.775367</td>\n",
              "      <td>-1.139049</td>\n",
              "      <td>0.329904</td>\n",
              "      <td>0.903813</td>\n",
              "      <td>-0.219013</td>\n",
              "      <td>...</td>\n",
              "      <td>1.134489</td>\n",
              "      <td>0.965054</td>\n",
              "      <td>0.640981</td>\n",
              "      <td>-1.801998</td>\n",
              "      <td>-1.041114</td>\n",
              "      <td>0.286285</td>\n",
              "      <td>0.437322</td>\n",
              "      <td>0</td>\n",
              "      <td>0.034666</td>\n",
              "      <td>1.219742</td>\n",
              "    </tr>\n",
              "    <tr>\n",
              "      <th>63919</th>\n",
              "      <td>-2.477184</td>\n",
              "      <td>0.860613</td>\n",
              "      <td>1.441850</td>\n",
              "      <td>1.051019</td>\n",
              "      <td>-1.856621</td>\n",
              "      <td>2.078384</td>\n",
              "      <td>0.510828</td>\n",
              "      <td>-0.243399</td>\n",
              "      <td>-0.260691</td>\n",
              "      <td>0.133040</td>\n",
              "      <td>...</td>\n",
              "      <td>0.692245</td>\n",
              "      <td>0.150121</td>\n",
              "      <td>-0.260777</td>\n",
              "      <td>0.005183</td>\n",
              "      <td>-0.177847</td>\n",
              "      <td>-0.510060</td>\n",
              "      <td>-0.660533</td>\n",
              "      <td>0</td>\n",
              "      <td>0.838765</td>\n",
              "      <td>-0.919236</td>\n",
              "    </tr>\n",
              "    <tr>\n",
              "      <th>11475</th>\n",
              "      <td>1.338831</td>\n",
              "      <td>-0.547264</td>\n",
              "      <td>0.737389</td>\n",
              "      <td>-0.212383</td>\n",
              "      <td>-1.110039</td>\n",
              "      <td>-0.525744</td>\n",
              "      <td>-0.801403</td>\n",
              "      <td>-0.063672</td>\n",
              "      <td>0.997276</td>\n",
              "      <td>0.113386</td>\n",
              "      <td>...</td>\n",
              "      <td>-0.074719</td>\n",
              "      <td>0.067055</td>\n",
              "      <td>0.333122</td>\n",
              "      <td>0.379087</td>\n",
              "      <td>-0.268706</td>\n",
              "      <td>-0.002769</td>\n",
              "      <td>0.003272</td>\n",
              "      <td>0</td>\n",
              "      <td>-0.310490</td>\n",
              "      <td>-1.572827</td>\n",
              "    </tr>\n",
              "  </tbody>\n",
              "</table>\n",
              "<p>5 rows × 31 columns</p>\n",
              "</div>\n",
              "      <button class=\"colab-df-convert\" onclick=\"convertToInteractive('df-6e52a839-c628-43c6-a466-8865f2f1f74c')\"\n",
              "              title=\"Convert this dataframe to an interactive table.\"\n",
              "              style=\"display:none;\">\n",
              "        \n",
              "  <svg xmlns=\"http://www.w3.org/2000/svg\" height=\"24px\"viewBox=\"0 0 24 24\"\n",
              "       width=\"24px\">\n",
              "    <path d=\"M0 0h24v24H0V0z\" fill=\"none\"/>\n",
              "    <path d=\"M18.56 5.44l.94 2.06.94-2.06 2.06-.94-2.06-.94-.94-2.06-.94 2.06-2.06.94zm-11 1L8.5 8.5l.94-2.06 2.06-.94-2.06-.94L8.5 2.5l-.94 2.06-2.06.94zm10 10l.94 2.06.94-2.06 2.06-.94-2.06-.94-.94-2.06-.94 2.06-2.06.94z\"/><path d=\"M17.41 7.96l-1.37-1.37c-.4-.4-.92-.59-1.43-.59-.52 0-1.04.2-1.43.59L10.3 9.45l-7.72 7.72c-.78.78-.78 2.05 0 2.83L4 21.41c.39.39.9.59 1.41.59.51 0 1.02-.2 1.41-.59l7.78-7.78 2.81-2.81c.8-.78.8-2.07 0-2.86zM5.41 20L4 18.59l7.72-7.72 1.47 1.35L5.41 20z\"/>\n",
              "  </svg>\n",
              "      </button>\n",
              "      \n",
              "  <style>\n",
              "    .colab-df-container {\n",
              "      display:flex;\n",
              "      flex-wrap:wrap;\n",
              "      gap: 12px;\n",
              "    }\n",
              "\n",
              "    .colab-df-convert {\n",
              "      background-color: #E8F0FE;\n",
              "      border: none;\n",
              "      border-radius: 50%;\n",
              "      cursor: pointer;\n",
              "      display: none;\n",
              "      fill: #1967D2;\n",
              "      height: 32px;\n",
              "      padding: 0 0 0 0;\n",
              "      width: 32px;\n",
              "    }\n",
              "\n",
              "    .colab-df-convert:hover {\n",
              "      background-color: #E2EBFA;\n",
              "      box-shadow: 0px 1px 2px rgba(60, 64, 67, 0.3), 0px 1px 3px 1px rgba(60, 64, 67, 0.15);\n",
              "      fill: #174EA6;\n",
              "    }\n",
              "\n",
              "    [theme=dark] .colab-df-convert {\n",
              "      background-color: #3B4455;\n",
              "      fill: #D2E3FC;\n",
              "    }\n",
              "\n",
              "    [theme=dark] .colab-df-convert:hover {\n",
              "      background-color: #434B5C;\n",
              "      box-shadow: 0px 1px 3px 1px rgba(0, 0, 0, 0.15);\n",
              "      filter: drop-shadow(0px 1px 2px rgba(0, 0, 0, 0.3));\n",
              "      fill: #FFFFFF;\n",
              "    }\n",
              "  </style>\n",
              "\n",
              "      <script>\n",
              "        const buttonEl =\n",
              "          document.querySelector('#df-6e52a839-c628-43c6-a466-8865f2f1f74c button.colab-df-convert');\n",
              "        buttonEl.style.display =\n",
              "          google.colab.kernel.accessAllowed ? 'block' : 'none';\n",
              "\n",
              "        async function convertToInteractive(key) {\n",
              "          const element = document.querySelector('#df-6e52a839-c628-43c6-a466-8865f2f1f74c');\n",
              "          const dataTable =\n",
              "            await google.colab.kernel.invokeFunction('convertToInteractive',\n",
              "                                                     [key], {});\n",
              "          if (!dataTable) return;\n",
              "\n",
              "          const docLinkHtml = 'Like what you see? Visit the ' +\n",
              "            '<a target=\"_blank\" href=https://colab.research.google.com/notebooks/data_table.ipynb>data table notebook</a>'\n",
              "            + ' to learn more about interactive tables.';\n",
              "          element.innerHTML = '';\n",
              "          dataTable['output_type'] = 'display_data';\n",
              "          await google.colab.output.renderOutput(dataTable, element);\n",
              "          const docLink = document.createElement('div');\n",
              "          docLink.innerHTML = docLinkHtml;\n",
              "          element.appendChild(docLink);\n",
              "        }\n",
              "      </script>\n",
              "    </div>\n",
              "  </div>\n",
              "  "
            ]
          },
          "metadata": {},
          "execution_count": 22
        }
      ]
    },
    {
      "cell_type": "markdown",
      "source": [
        "Agora vamos dividir entre X e y, e depois fazer as previsões utilizando o método escolhido, que nesse caso foi a Floresta Aleatória (**Random Forest**)"
      ],
      "metadata": {
        "id": "UuPOmde3kbsU"
      }
    },
    {
      "cell_type": "code",
      "source": [
        "# separar variáveis entre X e y\n",
        "X_test = test_clean.drop('Class', axis=1)\n",
        "y_test = test['Class']"
      ],
      "metadata": {
        "id": "wNphDsvVkjab"
      },
      "execution_count": 23,
      "outputs": []
    },
    {
      "cell_type": "code",
      "source": [
        "# fazer as previsões em cima dos dados de teste\n",
        "y_pred = forest_model.predict(X_test)\n",
        "y_proba = forest_model.predict_proba(X_test)"
      ],
      "metadata": {
        "id": "LQnt4A6ilzgV"
      },
      "execution_count": 28,
      "outputs": []
    },
    {
      "cell_type": "markdown",
      "source": [
        "Pronto! Com nossas previsões feitas, é hora de visualizar os resultados."
      ],
      "metadata": {
        "id": "Ka5-uxb_lLon"
      }
    },
    {
      "cell_type": "code",
      "source": [
        "print(\"---------------AVALIANDO O MODELO DE FLORESTA ALEATÓRIA---------------\")\n",
        "print(\"\\nRelatório de Classificação\\n\")\n",
        "# Imprimindo o classification report\n",
        "print(classification_report(y_test, y_pred))\n",
        "\n",
        "print(\"\\n--Métricas do modelo--\\n\")\n",
        "# Imprimindo as métricas\n",
        "print(\"Acurácia: {:.2%}\".format(accuracy_score(y_test, y_pred)))\n",
        "print(\"AUC: {:.2f}\".format(roc_auc_score(y_test, y_pred)))\n",
        "print(\"Recall: {:.2%}\".format(recall_score(y_test, y_pred)))\n",
        "plt.tight_layout()\n",
        "\n",
        "print(\"\\nMatriz de Confusão\\n\")\n",
        "# Criando a figura\n",
        "fig, ax = plt.subplots(figsize=(5,5))\n",
        "\n",
        "# Plotando a matriz\n",
        "skplt.metrics.plot_confusion_matrix(y_test, y_pred, ax=ax, normalize=True, cmap=\"Blues\")\n",
        "ax.set_ylabel(\"Verdadeiro\")\n",
        "ax.set_xlabel(\"Previsto\")\n",
        "ax.set_title(\"Matriz de confusão - Floresta Aleatória\", size=\"14\")\n",
        "\n",
        "# Exibindo\n",
        "plt.tight_layout()"
      ],
      "metadata": {
        "colab": {
          "base_uri": "https://localhost:8080/",
          "height": 808
        },
        "id": "RIrmbt-1lHvq",
        "outputId": "e2ffbef3-e04c-4c6c-dbb8-4a68b2412f17"
      },
      "execution_count": 29,
      "outputs": [
        {
          "output_type": "stream",
          "name": "stdout",
          "text": [
            "---------------AVALIANDO O MODELO DE FLORESTA ALEATÓRIA---------------\n",
            "\n",
            "Relatório de Classificação\n",
            "\n",
            "              precision    recall  f1-score   support\n",
            "\n",
            "           0       1.00      0.98      0.99     42647\n",
            "           1       0.09      0.89      0.16        74\n",
            "\n",
            "    accuracy                           0.98     42721\n",
            "   macro avg       0.54      0.94      0.58     42721\n",
            "weighted avg       1.00      0.98      0.99     42721\n",
            "\n",
            "\n",
            "--Métricas do modelo--\n",
            "\n",
            "Acurácia: 98.37%\n",
            "AUC: 0.94\n",
            "Recall: 89.19%\n",
            "\n",
            "Matriz de Confusão\n",
            "\n"
          ]
        },
        {
          "output_type": "display_data",
          "data": {
            "text/plain": [
              "<Figure size 432x288 with 0 Axes>"
            ]
          },
          "metadata": {}
        },
        {
          "output_type": "display_data",
          "data": {
            "text/plain": [
              "<Figure size 360x360 with 2 Axes>"
            ],
            "image/png": "[encoded data removed]"
          },
          "metadata": {}
        }
      ]
    },
    {
      "cell_type": "markdown",
      "source": [
        "Podemos ver que nossos resultados foram um pouco inferiores ao do conjunto de validação, mas ainda considero um excelente resultado.\n",
        "\n",
        "O que podemos fazer posteriormente é fazer testes com ajustes de hiperparametros, e verificar qual ficaria com melhor desempenho."
      ],
      "metadata": {
        "id": "0aDReIgVnEWy"
      }
    },
    {
      "cell_type": "markdown",
      "metadata": {
        "id": "0Bj7zRZMSfO7"
      },
      "source": [
        "## **Conclusão**\n",
        "\n",
        "Modelos de aprendizado de máquina são ferramentas valiosas para a maioria das empresas e podem ser utilizados para resolver uma variedade de tarefas diferentes. \n",
        "\n",
        "Aplicar um algoritmo de aprendizado de máquina para detectar transações fraudulentas em cartões de crédito pode resultar em economias significativas em um único dia. No entanto, é crucial prestar atenção aos passos de análise e tratamento dos dados antes de construir o modelo. \n",
        "\n",
        "Sem uma análise e tratamento adequados, o modelo terá um desempenho insatisfatório e não será capaz de cumprir sua tarefa de maneira eficiente.\n",
        "\n",
        "Neste estudo, os modelos construídos apresentaram um ótimo desempenho após o tratamento adequado dos dados, mesmo sem realizarmos ajustes nos hiperparâmetros."
      ]
    }
  ]
}