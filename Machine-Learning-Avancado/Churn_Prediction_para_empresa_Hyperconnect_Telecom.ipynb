{
  "nbformat": 4,
  "nbformat_minor": 0,
  "metadata": {
    "colab": {
      "provenance": []
    },
    "kernelspec": {
      "name": "python3",
      "display_name": "Python 3"
    }
  },
  "cells": [
    {
      "cell_type": "markdown",
      "metadata": {
        "id": "sC2BFMOKN1M7"
      },
      "source": [
        "<p align=center>\n",
        "<img src=\"https://raw.githubusercontent.com/oemeferreira/sigmoidal-projetos/main/images/Capa-Emerson.png\" width=\"100%\"></p>\n",
        "---\n",
        "<img alt=\"Colaboratory logo\" width=\"15%\" src=\"https://raw.githubusercontent.com/carlosfab/escola-data-science/master/img/novo_logo_bg_claro.png\">\n",
        "\n",
        "#### **Data Science na Prática 3.0**\n",
        "*by [sigmoidal.ai](https://sigmoidal.ai)*  \n",
        "\n",
        "---"
      ]
    },
    {
      "cell_type": "markdown",
      "source": [
        "# **HyperConnect Telecom**\n",
        "\n",
        "<p align=left>\n",
        "<img src=\"https://raw.githubusercontent.com/oemeferreira/sigmoidal-projetos/main/images/Hyperconnect%20Telecom.jpg\" width=\"30%\"></p>\n",
        "\n",
        "**HyperConnect Telecom** é uma empresa **fictícia de telecomunicações** que oferece serviços de voz, dados e internet para empresas e residências. A empresa é conhecida por seu alto nível de qualidade e confiabilidade em seus serviços. \n",
        "\n",
        "A HyperConnect Telecom **investe constantemente em tecnologia de ponta** para garantir a satisfação de seus clientes e se destaca pela oferta de soluções personalizadas para atender às necessidades específicas de cada um deles.\n",
        "\n",
        "Recentemente a empresa tem enfrentado **um problema crescente de cancelamentos de contratos** por parte de seus clientes. Para enfrentar esse problema, a empresa decidiu implementar uma **solução de previsão de churn baseada em algoritmos de machine learning**.\n",
        "\n",
        "O objetivo deste projeto é analisar os dados de clientes da HyperConnect Telecom e utilizar técnicas de mineração de dados para criar um **modelo de machine learning capaz de prever a probabilidade de um cliente cancelar** seu contrato com a empresa. Dessa forma, a HyperConnect Telecom poderá **tomar medidas estratégicas** para evitar o cancelamento de contratos e garantir a satisfação de seus clientes.\n",
        "\n",
        "A seguir vamos apresentar a **metodologia adotada para o projeto, os resultados obtidos e as conclusões a que chegamos ao final do processo**. Além disso, discutiremos as implicações desses resultados para a HyperConnect Telecom e sugestões de como a empresa pode aplicar os **insights adquiridos para minimizar o churn de seus clientes.**"
      ],
      "metadata": {
        "id": "cycYgTjbl115"
      }
    },
    {
      "cell_type": "markdown",
      "metadata": {
        "id": "IR56trFcPcC1"
      },
      "source": [
        "# **Churn Prediction**\n",
        "\n",
        "***Churn rate***, ou simplesmente ***churn***, representa a taxa de evasão da sua base de clientes. Em serviços como **Spotify ou Netflix**, ela representaria a **taxa de cancelamento de assinaturas**.\n",
        "\n",
        "<p align=center>\n",
        "<img src=\"https://raw.githubusercontent.com/carlosfab/dsnp2/master/img/churnrate.jpg\" width=\"60%\"></p>\n",
        "\n",
        "Ela é de extrema importância para a administração e sua análise ao longo do tempo pode mostrar que existe algum problema que deve ser atacado.\n",
        "\n",
        "*Churn* também pode ser usado para **identificar potenciais cancelamentos**, com um tempo de antecedência, e promover ações direcionadas para tentar reter tais clientes. Essa métrica deve receber atenção pelo fato de que o **Custo de Aquisição de Cliente (CAC)** é normalmente mais alto que o custo para mantê-los. Ou seja, um alto valor para o *churn rate* é o que não desejamos.\n",
        "\n",
        "A **taxa de churn** é um indicador muito importante para qualquer empresa que oferece serviços de assinatura ou produtos de uso contínuo. Isso porque **perder clientes é sempre custoso**, tanto em termos financeiros quanto em termos de tempo e esforço. \n",
        "\n",
        "Além disso, é muito mais **fácil e rentável manter um cliente atual** do que tentar atrair um novo. Por isso, é fundamental **monitorar a taxa de churn** e tomar medidas para reduzi-la o quanto possível.\n",
        "\n",
        "Uma das principais vantagens de se ter uma baixa taxa de churn é a possibilidade de **aumentar o faturamento da empresa de forma consistente**, sem a necessidade de investir grandes quantias em campanhas de marketing ou em novas aquisições de clientes. \n",
        "\n",
        "Além disso, clientes satisfeitos tendem a falar bem da empresa para outras pessoas e, assim, **gerar novas oportunidades de negócio** de forma orgânica.\n",
        "\n",
        "Para diminuir a taxa de churn, é preciso entender as principais razões pelas quais os clientes estão deixando a empresa.\n",
        "\n",
        "Alguns fatores comuns incluem problemas com o produto ou serviço, falta de atendimento adequado ou falta de novas funcionalidades e atualizações. \n",
        "\n",
        "Identificar esses problemas e tratá-los de forma eficaz é essencial para manter os **clientes satisfeitos e reduzir a taxa de churn**. \n",
        "\n",
        "Com as decisões empresariais cada vez mais influenciadas por algoritmos de Machine Learning, temos como **utilizar a métrica *Churn*** para prever a chance de um cliente abandonar o serviço, ou produto, e obter insights das variáveis que mais impactam para a decisão deste cliente, e então tomar medidas estratégicas para evitar seu cancelamento no fim do contrato.\n",
        "\n",
        "Este método é chamado de ***Churn Prediction*** e será o objetivo deste projeto, em que analisaremos os dados da empresa ***HyperConnect Telecom***, uma empresa fictícia de Telecomunicações."
      ]
    },
    {
      "cell_type": "markdown",
      "source": [
        "### **CRISP-DM**\n",
        "\n",
        "Neste projeto vamos utilizar o método **CRISP-DM** que é um modelo de processo para o planejamento e a execução de projetos de mineração de dados.\n",
        "\n",
        "<p align=center>\n",
        "<img src=\"https://effortech.com.br/wp-content/uploads/2021/06/IMAG1.jpg\" width=\"30%\"></p>\n",
        "\n",
        "Ele é composto por seis etapas: **entender o negócio, entender os dados, preparação dos dados, modelagem, avaliação e implantação.**\n",
        "\n",
        "**Entender o Negócio:** o objetivo é compreender o objetivo do projeto a partir de uma perspectiva de negócio, definindo um plano preliminar para atingir os objetivos. \n",
        "\n",
        "**Entender os dados:** os dados são coletados e os especialistas em mineração de dados começam a familiarizar-se com os dados, identificando problemas ou conjuntos de dados interessantes. \n",
        "\n",
        "**Preparação dos dados:** o conjunto de dados final é construído a partir dos dados iniciais, que pode ser um processo iterativo. \n",
        "\n",
        "**Modelagem** várias técnicas de modelagem são aplicadas e seus parâmetros calibrados para otimização. \n",
        "\n",
        "**Avaliação:** o modelo é avaliado para verificar se ele atinge os objetivos do negócio. \n",
        "\n",
        "**Implantação:** o conhecimento adquirido pelo modelo é organizado e apresentado de uma maneira que o cliente possa utilizá-lo."
      ],
      "metadata": {
        "id": "uoWShSca0Abl"
      }
    },
    {
      "cell_type": "markdown",
      "source": [
        "### **CRISP-DM neste Projeto**\n",
        "**Fase 1 — Entendendo o negócio**\n",
        "Neste projeto, buscaremos prever se determinado cliente da empresa irá cancelar a contratação dos serviços da empresa. Tal previsão irá levar em considerações aspectos do cliente, como classe etária (idoso ou não), se possui companheiro(a), entre outros fatores.\n",
        "\n",
        "**Fase 2 — Entendendo os dados**\n",
        "O entendimento dos dados será realizado através dos tópicos de “Aquisição dos Dados” e “Dicionário de Variáveis”\n",
        "\n",
        "**Fase 3 — Preparação dos Dados**\n",
        "Os dados serão preparados por meio do split de dados, análise exploratória à fim de verificar possíveis irregularidades no dataset, e por fim a criação do pipeline.\n",
        "\n",
        "**Fase 4 — Modelagem**\n",
        "Criação dos seguintes modelos:\n",
        "* Decision Tree\n",
        "* XGBoost\n",
        "* Regressão Logística\n",
        "* LightGBM\n",
        "* KNN\n",
        "* Random Forest\n",
        "* Support Vector Classifier — SVC\n",
        "\n",
        "**Fase 5 — Avaliação**\n",
        "Será realizada através da comparação do desempenho entre os modelos acima. Por se tratar de uma aplicação cuja abordagem é a aprendizagem supervisionada, a fase de avaliação não incorrerá em grandes problemas. A medida adotada será o “Recall”.\n",
        "\n",
        "**Fase 6 — Implantanção**\n",
        "Não será feito o deploy do modelo, pois este não se trata de um projeto com fins comerciais."
      ],
      "metadata": {
        "id": "5894M6aoCbor"
      }
    },
    {
      "cell_type": "markdown",
      "source": [
        "#### **Como selecionar as métricas de avaliação?** \n",
        "\n",
        "A escolha das **métricas de avaliação** é importante para **medir o desempenho de um modelo de machine learning** e identificar possíveis áreas de melhoria. \n",
        "\n",
        "No caso de problemas de classificação usando a abordagem de aprendizagem supervisionada, as métricas mais comuns são a **acurácia, precisão, recall e f1-score.** \n",
        "\n",
        "* A ***acurácia*** mede a porcentagem de predições corretas do modelo. \n",
        "* A ***precisão*** mede a porcentagem de predições positivas corretas do modelo. \n",
        "* O ***recall*** mede a porcentagem de verdadeiros positivos identificados pelo modelo. \n",
        "* E a ***f1-score*** é uma média harmônica da precisão e do recall.\n",
        "\n",
        "#### **E qual o motivo de escolhermos o Recall?**\n",
        "\n",
        "No caso específico deste projeto, o **Recall foi escolhido como a métrica de avaliação**, pois o objetivo é maximizar o número de **verdadeiros positivos** identificados pelo modelo, ou seja, a capacidade do modelo de identificar corretamente os **clientes que realmente cancelarão** a contratação dos serviços da empresa. \n",
        "\n",
        "É importante lembrar que a **escolha da métrica de avaliação depende dos objetivos do projeto** e da natureza dos dados. Portanto, é importante selecionar a métrica adequada para cada caso específico."
      ],
      "metadata": {
        "id": "Kd8v3gLT2szl"
      }
    },
    {
      "cell_type": "markdown",
      "metadata": {
        "id": "0HVmpIxQWT4Y"
      },
      "source": [
        "## **Coleta dos Dados**\n",
        "\n",
        "<p align=left>\n",
        "<img src=\"https://images.ctfassets.net/3viuren4us1n/288E0SWjmRgYQScyJeXpwt/19e6700ccf4f32dd638d73adad8279cc/data-collection---resized-3.jpg\" width=\"30%\"></p>\n",
        "\n",
        "Os dados utilizados neste projeto foram originalmente disponibilizados na [plataforma de ensino da IBM Developer](https://developer.ibm.com/technologies/data-science/patterns/predict-customer-churn-using-watson-studio-and-jupyter-notebooks/#), Eles representam um conjunto de informações coletadas de clientes de uma empresa de telecomunicações e incluem detalhes sobre o uso do serviço, o perfil demográfico dos clientes e outras informações relevantes. \n",
        "\n",
        "Utilizando técnicas de análise de dados, esses dados serão explorados e utilizados para criar modelos de previsão de cancelamento de serviço.. O *dataset* completo pode ser encontrado [neste link](https://raw.githubusercontent.com/carlosfab/dsnp2/master/datasets/WA_Fn-UseC_-Telco-Customer-Churn.csv)."
      ]
    },
    {
      "cell_type": "code",
      "metadata": {
        "id": "oQ4bNy7udtEE"
      },
      "source": [
        "# importar os pacotes necessários\n",
        "import pandas as pd\n",
        "import matplotlib.pyplot as plt\n",
        "import seaborn as sns\n",
        "import numpy as np\n",
        "\n",
        "# Importando os pacotes de modelos de Machine learning\n",
        "from sklearn.linear_model import LogisticRegression\n",
        "from sklearn.tree import DecisionTreeClassifier\n",
        "from sklearn.ensemble import RandomForestClassifier\n",
        "from sklearn.svm import SVC\n",
        "from sklearn.neighbors import KNeighborsClassifier\n",
        "from xgboost import XGBClassifier\n",
        "import lightgbm as lgb\n",
        "\n",
        "# Importando os pacotes de avaliação dos modelos\n",
        "from sklearn.model_selection import train_test_split, GridSearchCV, KFold, cross_val_score\n",
        "from sklearn.metrics import roc_auc_score, confusion_matrix, classification_report, plot_confusion_matrix\n",
        "\n",
        "# Importando os pacotes auxiliares de Machine Learning para tratamento dos dados\n",
        "from sklearn.preprocessing import StandardScaler, LabelEncoder\n",
        "from imblearn.under_sampling import RandomUnderSampler\n",
        "from sklearn.pipeline import make_pipeline\n",
        "from sklearn.compose import ColumnTransformer\n",
        "\n",
        "import warnings\n",
        "warnings.filterwarnings('ignore')"
      ],
      "execution_count": 1,
      "outputs": []
    },
    {
      "cell_type": "code",
      "source": [
        "# importar os dados\n",
        "DATA_PATH = \"https://raw.githubusercontent.com/carlosfab/dsnp2/master/datasets/WA_Fn-UseC_-Telco-Customer-Churn.csv\"\n",
        "df = pd.read_csv(DATA_PATH)\n",
        "\n",
        "# ver as 5 primeiras entradas\n",
        "df.head()"
      ],
      "metadata": {
        "colab": {
          "base_uri": "https://localhost:8080/",
          "height": 386
        },
        "id": "m003WGtll912",
        "outputId": "cc571184-918a-4150-9030-3181161cf5a1"
      },
      "execution_count": 2,
      "outputs": [
        {
          "output_type": "execute_result",
          "data": {
            "text/plain": [
              "   customerID  gender  SeniorCitizen Partner Dependents  tenure PhoneService  \\\n",
              "0  7590-VHVEG  Female              0     Yes         No       1           No   \n",
              "1  5575-GNVDE    Male              0      No         No      34          Yes   \n",
              "2  3668-QPYBK    Male              0      No         No       2          Yes   \n",
              "3  7795-CFOCW    Male              0      No         No      45           No   \n",
              "4  9237-HQITU  Female              0      No         No       2          Yes   \n",
              "\n",
              "      MultipleLines InternetService OnlineSecurity  ... DeviceProtection  \\\n",
              "0  No phone service             DSL             No  ...               No   \n",
              "1                No             DSL            Yes  ...              Yes   \n",
              "2                No             DSL            Yes  ...               No   \n",
              "3  No phone service             DSL            Yes  ...              Yes   \n",
              "4                No     Fiber optic             No  ...               No   \n",
              "\n",
              "  TechSupport StreamingTV StreamingMovies        Contract PaperlessBilling  \\\n",
              "0          No          No              No  Month-to-month              Yes   \n",
              "1          No          No              No        One year               No   \n",
              "2          No          No              No  Month-to-month              Yes   \n",
              "3         Yes          No              No        One year               No   \n",
              "4          No          No              No  Month-to-month              Yes   \n",
              "\n",
              "               PaymentMethod MonthlyCharges  TotalCharges Churn  \n",
              "0           Electronic check          29.85         29.85    No  \n",
              "1               Mailed check          56.95        1889.5    No  \n",
              "2               Mailed check          53.85        108.15   Yes  \n",
              "3  Bank transfer (automatic)          42.30       1840.75    No  \n",
              "4           Electronic check          70.70        151.65   Yes  \n",
              "\n",
              "[5 rows x 21 columns]"
            ],
            "text/html": [
              "\n",
              "  <div id=\"df-4a68fd83-cc98-4e9b-8caf-6bb89f63c8ce\">\n",
              "    <div class=\"colab-df-container\">\n",
              "      <div>\n",
              "<style scoped>\n",
              "    .dataframe tbody tr th:only-of-type {\n",
              "        vertical-align: middle;\n",
              "    }\n",
              "\n",
              "    .dataframe tbody tr th {\n",
              "        vertical-align: top;\n",
              "    }\n",
              "\n",
              "    .dataframe thead th {\n",
              "        text-align: right;\n",
              "    }\n",
              "</style>\n",
              "<table border=\"1\" class=\"dataframe\">\n",
              "  <thead>\n",
              "    <tr style=\"text-align: right;\">\n",
              "      <th></th>\n",
              "      <th>customerID</th>\n",
              "      <th>gender</th>\n",
              "      <th>SeniorCitizen</th>\n",
              "      <th>Partner</th>\n",
              "      <th>Dependents</th>\n",
              "      <th>tenure</th>\n",
              "      <th>PhoneService</th>\n",
              "      <th>MultipleLines</th>\n",
              "      <th>InternetService</th>\n",
              "      <th>OnlineSecurity</th>\n",
              "      <th>...</th>\n",
              "      <th>DeviceProtection</th>\n",
              "      <th>TechSupport</th>\n",
              "      <th>StreamingTV</th>\n",
              "      <th>StreamingMovies</th>\n",
              "      <th>Contract</th>\n",
              "      <th>PaperlessBilling</th>\n",
              "      <th>PaymentMethod</th>\n",
              "      <th>MonthlyCharges</th>\n",
              "      <th>TotalCharges</th>\n",
              "      <th>Churn</th>\n",
              "    </tr>\n",
              "  </thead>\n",
              "  <tbody>\n",
              "    <tr>\n",
              "      <th>0</th>\n",
              "      <td>7590-VHVEG</td>\n",
              "      <td>Female</td>\n",
              "      <td>0</td>\n",
              "      <td>Yes</td>\n",
              "      <td>No</td>\n",
              "      <td>1</td>\n",
              "      <td>No</td>\n",
              "      <td>No phone service</td>\n",
              "      <td>DSL</td>\n",
              "      <td>No</td>\n",
              "      <td>...</td>\n",
              "      <td>No</td>\n",
              "      <td>No</td>\n",
              "      <td>No</td>\n",
              "      <td>No</td>\n",
              "      <td>Month-to-month</td>\n",
              "      <td>Yes</td>\n",
              "      <td>Electronic check</td>\n",
              "      <td>29.85</td>\n",
              "      <td>29.85</td>\n",
              "      <td>No</td>\n",
              "    </tr>\n",
              "    <tr>\n",
              "      <th>1</th>\n",
              "      <td>5575-GNVDE</td>\n",
              "      <td>Male</td>\n",
              "      <td>0</td>\n",
              "      <td>No</td>\n",
              "      <td>No</td>\n",
              "      <td>34</td>\n",
              "      <td>Yes</td>\n",
              "      <td>No</td>\n",
              "      <td>DSL</td>\n",
              "      <td>Yes</td>\n",
              "      <td>...</td>\n",
              "      <td>Yes</td>\n",
              "      <td>No</td>\n",
              "      <td>No</td>\n",
              "      <td>No</td>\n",
              "      <td>One year</td>\n",
              "      <td>No</td>\n",
              "      <td>Mailed check</td>\n",
              "      <td>56.95</td>\n",
              "      <td>1889.5</td>\n",
              "      <td>No</td>\n",
              "    </tr>\n",
              "    <tr>\n",
              "      <th>2</th>\n",
              "      <td>3668-QPYBK</td>\n",
              "      <td>Male</td>\n",
              "      <td>0</td>\n",
              "      <td>No</td>\n",
              "      <td>No</td>\n",
              "      <td>2</td>\n",
              "      <td>Yes</td>\n",
              "      <td>No</td>\n",
              "      <td>DSL</td>\n",
              "      <td>Yes</td>\n",
              "      <td>...</td>\n",
              "      <td>No</td>\n",
              "      <td>No</td>\n",
              "      <td>No</td>\n",
              "      <td>No</td>\n",
              "      <td>Month-to-month</td>\n",
              "      <td>Yes</td>\n",
              "      <td>Mailed check</td>\n",
              "      <td>53.85</td>\n",
              "      <td>108.15</td>\n",
              "      <td>Yes</td>\n",
              "    </tr>\n",
              "    <tr>\n",
              "      <th>3</th>\n",
              "      <td>7795-CFOCW</td>\n",
              "      <td>Male</td>\n",
              "      <td>0</td>\n",
              "      <td>No</td>\n",
              "      <td>No</td>\n",
              "      <td>45</td>\n",
              "      <td>No</td>\n",
              "      <td>No phone service</td>\n",
              "      <td>DSL</td>\n",
              "      <td>Yes</td>\n",
              "      <td>...</td>\n",
              "      <td>Yes</td>\n",
              "      <td>Yes</td>\n",
              "      <td>No</td>\n",
              "      <td>No</td>\n",
              "      <td>One year</td>\n",
              "      <td>No</td>\n",
              "      <td>Bank transfer (automatic)</td>\n",
              "      <td>42.30</td>\n",
              "      <td>1840.75</td>\n",
              "      <td>No</td>\n",
              "    </tr>\n",
              "    <tr>\n",
              "      <th>4</th>\n",
              "      <td>9237-HQITU</td>\n",
              "      <td>Female</td>\n",
              "      <td>0</td>\n",
              "      <td>No</td>\n",
              "      <td>No</td>\n",
              "      <td>2</td>\n",
              "      <td>Yes</td>\n",
              "      <td>No</td>\n",
              "      <td>Fiber optic</td>\n",
              "      <td>No</td>\n",
              "      <td>...</td>\n",
              "      <td>No</td>\n",
              "      <td>No</td>\n",
              "      <td>No</td>\n",
              "      <td>No</td>\n",
              "      <td>Month-to-month</td>\n",
              "      <td>Yes</td>\n",
              "      <td>Electronic check</td>\n",
              "      <td>70.70</td>\n",
              "      <td>151.65</td>\n",
              "      <td>Yes</td>\n",
              "    </tr>\n",
              "  </tbody>\n",
              "</table>\n",
              "<p>5 rows × 21 columns</p>\n",
              "</div>\n",
              "      <button class=\"colab-df-convert\" onclick=\"convertToInteractive('df-4a68fd83-cc98-4e9b-8caf-6bb89f63c8ce')\"\n",
              "              title=\"Convert this dataframe to an interactive table.\"\n",
              "              style=\"display:none;\">\n",
              "        \n",
              "  <svg xmlns=\"http://www.w3.org/2000/svg\" height=\"24px\"viewBox=\"0 0 24 24\"\n",
              "       width=\"24px\">\n",
              "    <path d=\"M0 0h24v24H0V0z\" fill=\"none\"/>\n",
              "    <path d=\"M18.56 5.44l.94 2.06.94-2.06 2.06-.94-2.06-.94-.94-2.06-.94 2.06-2.06.94zm-11 1L8.5 8.5l.94-2.06 2.06-.94-2.06-.94L8.5 2.5l-.94 2.06-2.06.94zm10 10l.94 2.06.94-2.06 2.06-.94-2.06-.94-.94-2.06-.94 2.06-2.06.94z\"/><path d=\"M17.41 7.96l-1.37-1.37c-.4-.4-.92-.59-1.43-.59-.52 0-1.04.2-1.43.59L10.3 9.45l-7.72 7.72c-.78.78-.78 2.05 0 2.83L4 21.41c.39.39.9.59 1.41.59.51 0 1.02-.2 1.41-.59l7.78-7.78 2.81-2.81c.8-.78.8-2.07 0-2.86zM5.41 20L4 18.59l7.72-7.72 1.47 1.35L5.41 20z\"/>\n",
              "  </svg>\n",
              "      </button>\n",
              "      \n",
              "  <style>\n",
              "    .colab-df-container {\n",
              "      display:flex;\n",
              "      flex-wrap:wrap;\n",
              "      gap: 12px;\n",
              "    }\n",
              "\n",
              "    .colab-df-convert {\n",
              "      background-color: #E8F0FE;\n",
              "      border: none;\n",
              "      border-radius: 50%;\n",
              "      cursor: pointer;\n",
              "      display: none;\n",
              "      fill: #1967D2;\n",
              "      height: 32px;\n",
              "      padding: 0 0 0 0;\n",
              "      width: 32px;\n",
              "    }\n",
              "\n",
              "    .colab-df-convert:hover {\n",
              "      background-color: #E2EBFA;\n",
              "      box-shadow: 0px 1px 2px rgba(60, 64, 67, 0.3), 0px 1px 3px 1px rgba(60, 64, 67, 0.15);\n",
              "      fill: #174EA6;\n",
              "    }\n",
              "\n",
              "    [theme=dark] .colab-df-convert {\n",
              "      background-color: #3B4455;\n",
              "      fill: #D2E3FC;\n",
              "    }\n",
              "\n",
              "    [theme=dark] .colab-df-convert:hover {\n",
              "      background-color: #434B5C;\n",
              "      box-shadow: 0px 1px 3px 1px rgba(0, 0, 0, 0.15);\n",
              "      filter: drop-shadow(0px 1px 2px rgba(0, 0, 0, 0.3));\n",
              "      fill: #FFFFFF;\n",
              "    }\n",
              "  </style>\n",
              "\n",
              "      <script>\n",
              "        const buttonEl =\n",
              "          document.querySelector('#df-4a68fd83-cc98-4e9b-8caf-6bb89f63c8ce button.colab-df-convert');\n",
              "        buttonEl.style.display =\n",
              "          google.colab.kernel.accessAllowed ? 'block' : 'none';\n",
              "\n",
              "        async function convertToInteractive(key) {\n",
              "          const element = document.querySelector('#df-4a68fd83-cc98-4e9b-8caf-6bb89f63c8ce');\n",
              "          const dataTable =\n",
              "            await google.colab.kernel.invokeFunction('convertToInteractive',\n",
              "                                                     [key], {});\n",
              "          if (!dataTable) return;\n",
              "\n",
              "          const docLinkHtml = 'Like what you see? Visit the ' +\n",
              "            '<a target=\"_blank\" href=https://colab.research.google.com/notebooks/data_table.ipynb>data table notebook</a>'\n",
              "            + ' to learn more about interactive tables.';\n",
              "          element.innerHTML = '';\n",
              "          dataTable['output_type'] = 'display_data';\n",
              "          await google.colab.output.renderOutput(dataTable, element);\n",
              "          const docLink = document.createElement('div');\n",
              "          docLink.innerHTML = docLinkHtml;\n",
              "          element.appendChild(docLink);\n",
              "        }\n",
              "      </script>\n",
              "    </div>\n",
              "  </div>\n",
              "  "
            ]
          },
          "metadata": {},
          "execution_count": 2
        }
      ]
    },
    {
      "cell_type": "markdown",
      "source": [
        "## **Análise dos Dados**\n",
        "\n",
        "<p align=left>\n",
        "<img src=\"https://learn.g2.com/hubfs/Imported%20sitepage%20images/1ZB5giUShe0gw9a6L69qAgsd7wKTQ60ZRoJC5Xq3BIXS517sL6i6mnkAN9khqnaIGzE6FASAusRr7w=w1439-h786.png\" width=\"30%\"></p>\n",
        "\n",
        "A **análise exploratória** é um processo importante que visa conhecer os dados e identificar possíveis problemas ou oportunidades no conjunto de dados. Ela é realizada logo após o processo de coleta de dados e é um **primeiro contato com o conjunto de dados.**\n",
        "\n",
        "Além disso, a análise exploratória pode **ajudar a identificar padrões, relações e tendências nos dados** que podem ser úteis para o objetivo do projeto.\n",
        "\n",
        "Apesar de não haver informações explícitas disponíveis, a análise dos nomes das colunas pode nos ajudar a **entender o contexto e o problema a ser resolvido**, uma vez que a natureza das empresas de telecomunicações são parecidas.\n",
        "\n",
        "Abaixo segue a lista e a descrição de cada uma das **21 variáveis** presentes neste conjunto de dados:\n",
        "\n",
        "&nbsp;\n",
        "\n",
        "| **Variáveis** | **Definição** |\n",
        "|---|---|\n",
        "|* **customerID:**|Identificador único de cada cliente|\n",
        "|* **gender:**|Gênero do cliente|\n",
        "|* **SeniorCitizen:**|Indica se o cliente é idoso (1) ou não (0)|\n",
        "|* **Partner:**|Indica se o cliente tem um parceiro|\n",
        "|* **Dependents:**|Indica se o cliente tem dependentes|\n",
        "|* **tenure:**|Tempo de permanência do cliente na empresa (em meses)|\n",
        "|* **PhoneService:**|Indica se o cliente possui o serviço de telefonia|\n",
        "|* **MultipleLines:**|Indica se o cliente possui múltiplas linhas de telefone|\n",
        "|* **InternetService:**|Tipo de serviço de internet contratado pelo cliente (fibra óptica, DSL, sem conexão)|\n",
        "|* **OnlineSecurity:**|Indica se o cliente possui o serviço de segurança online|\n",
        "|* **OnlineBackup:**|Indica se o cliente possui o serviço de backup online|\n",
        "|* **DeviceProtection:**|Indica se o cliente possui o serviço de proteção de dispositivos|\n",
        "|* **TechSupport:**|Indica se o cliente possui o serviço de suporte técnico|\n",
        "|* **StreamingTV:**|Indica se o cliente possui o serviço de TV por streaming|\n",
        "|* **StreamingMovies:**|Indica se o cliente possui o serviço de filmes por streaming|\n",
        "|* **Contract:**|Tipo de contrato do cliente (mês a mês, um ano, dois anos)|\n",
        "|* **PaperlessBilling:**|Indica se o cliente possui faturamento eletrônico|\n",
        "|* **PaymentMethod:**|Método de pagamento utilizado pelo cliente|\n",
        "|* **MonthlyCharges:**|Valor pago pelo cliente mensalmente em dólares|\n",
        "|* **TotalCharges:**|Valor total pago pelo cliente até o momento em dólares|\n",
        "|* **Churn:**|Indica se o cliente cancelou seu plano ou não|\n",
        "\n",
        "&nbsp;"
      ],
      "metadata": {
        "id": "qY8FlR7Nl0Cg"
      }
    },
    {
      "cell_type": "markdown",
      "source": [
        "### Tamanho do Conjunto de Dados\n",
        "\n",
        "Como se verifica abaixo, o dataset é composto de 7043 entradas e 21 variáveis."
      ],
      "metadata": {
        "id": "YGDm7YVEeWnK"
      }
    },
    {
      "cell_type": "code",
      "source": [
        "print(\"Entradas:\\t{}\".format(df.shape[0]))\n",
        "print(\"Variáveis:\\t{}\".format(df.shape[1]))"
      ],
      "metadata": {
        "colab": {
          "base_uri": "https://localhost:8080/"
        },
        "id": "FrPAS4bjeXDC",
        "outputId": "5938b403-ea8b-427c-9747-d2730d5b3a40"
      },
      "execution_count": 3,
      "outputs": [
        {
          "output_type": "stream",
          "name": "stdout",
          "text": [
            "Entradas:\t7043\n",
            "Variáveis:\t21\n"
          ]
        }
      ]
    },
    {
      "cell_type": "markdown",
      "source": [
        "### Integridade e Usabilidade do Conjunto de Dados\n",
        "\n",
        "Antes de iniciar o projeto, é importante verificar a integridade e usabilidade do conjunto de dados. Para isso, podemos imprimir informações sobre o conjunto de dados, como a **quantidade de dados ausentes**, os **nomes das colunas**, os **tipos de variáveis por coluna** e os **valores únicos por coluna**. \n",
        "\n",
        "Isso pode ajudar a identificar possíveis problemas no conjunto de dados e a decidir como proceder. Além disso, a verificação dos valores únicos por coluna pode ser útil para **identificar variáveis potencialmente categóricas**, o que pode ser importante para a *preparação dos dados e a criação dos modelos.*"
      ],
      "metadata": {
        "id": "PN8irFS7f3VE"
      }
    },
    {
      "cell_type": "code",
      "source": [
        "print(\"Dados ausentes (total):\\t{}\\n\".format(df.isnull().sum().values.sum()))\n",
        "print(df.isnull().sum() / df.shape[0])\n",
        "print(\"\\nNomes das features:\\n{}\\n\".format(df.columns.values))"
      ],
      "metadata": {
        "colab": {
          "base_uri": "https://localhost:8080/"
        },
        "id": "olUBnilYf3uD",
        "outputId": "87c4ee90-d27a-426d-81dd-8d20faccf536"
      },
      "execution_count": 4,
      "outputs": [
        {
          "output_type": "stream",
          "name": "stdout",
          "text": [
            "Dados ausentes (total):\t0\n",
            "\n",
            "customerID          0.0\n",
            "gender              0.0\n",
            "SeniorCitizen       0.0\n",
            "Partner             0.0\n",
            "Dependents          0.0\n",
            "tenure              0.0\n",
            "PhoneService        0.0\n",
            "MultipleLines       0.0\n",
            "InternetService     0.0\n",
            "OnlineSecurity      0.0\n",
            "OnlineBackup        0.0\n",
            "DeviceProtection    0.0\n",
            "TechSupport         0.0\n",
            "StreamingTV         0.0\n",
            "StreamingMovies     0.0\n",
            "Contract            0.0\n",
            "PaperlessBilling    0.0\n",
            "PaymentMethod       0.0\n",
            "MonthlyCharges      0.0\n",
            "TotalCharges        0.0\n",
            "Churn               0.0\n",
            "dtype: float64\n",
            "\n",
            "Nomes das features:\n",
            "['customerID' 'gender' 'SeniorCitizen' 'Partner' 'Dependents' 'tenure'\n",
            " 'PhoneService' 'MultipleLines' 'InternetService' 'OnlineSecurity'\n",
            " 'OnlineBackup' 'DeviceProtection' 'TechSupport' 'StreamingTV'\n",
            " 'StreamingMovies' 'Contract' 'PaperlessBilling' 'PaymentMethod'\n",
            " 'MonthlyCharges' 'TotalCharges' 'Churn']\n",
            "\n"
          ]
        }
      ]
    },
    {
      "cell_type": "code",
      "source": [
        "print(\"Valores únicos (por coluna):\\n{}\\n\".format(df.nunique()))"
      ],
      "metadata": {
        "colab": {
          "base_uri": "https://localhost:8080/"
        },
        "id": "XkkD4Ubsgg9J",
        "outputId": "da7c3aba-de4a-4738-d066-9d2476c57c6e"
      },
      "execution_count": 5,
      "outputs": [
        {
          "output_type": "stream",
          "name": "stdout",
          "text": [
            "Valores únicos (por coluna):\n",
            "customerID          7043\n",
            "gender                 2\n",
            "SeniorCitizen          2\n",
            "Partner                2\n",
            "Dependents             2\n",
            "tenure                73\n",
            "PhoneService           2\n",
            "MultipleLines          3\n",
            "InternetService        3\n",
            "OnlineSecurity         3\n",
            "OnlineBackup           3\n",
            "DeviceProtection       3\n",
            "TechSupport            3\n",
            "StreamingTV            3\n",
            "StreamingMovies        3\n",
            "Contract               3\n",
            "PaperlessBilling       2\n",
            "PaymentMethod          4\n",
            "MonthlyCharges      1585\n",
            "TotalCharges        6531\n",
            "Churn                  2\n",
            "dtype: int64\n",
            "\n"
          ]
        }
      ]
    },
    {
      "cell_type": "code",
      "source": [
        "print(\"Tipos de Variáveis (por coluna)\\n{}\".format(df.dtypes))"
      ],
      "metadata": {
        "colab": {
          "base_uri": "https://localhost:8080/"
        },
        "id": "g6fYHUPIgiv_",
        "outputId": "ae3d1787-d2f5-480f-c4dc-58ecb1af56fa"
      },
      "execution_count": 6,
      "outputs": [
        {
          "output_type": "stream",
          "name": "stdout",
          "text": [
            "Tipos de Variáveis (por coluna)\n",
            "customerID           object\n",
            "gender               object\n",
            "SeniorCitizen         int64\n",
            "Partner              object\n",
            "Dependents           object\n",
            "tenure                int64\n",
            "PhoneService         object\n",
            "MultipleLines        object\n",
            "InternetService      object\n",
            "OnlineSecurity       object\n",
            "OnlineBackup         object\n",
            "DeviceProtection     object\n",
            "TechSupport          object\n",
            "StreamingTV          object\n",
            "StreamingMovies      object\n",
            "Contract             object\n",
            "PaperlessBilling     object\n",
            "PaymentMethod        object\n",
            "MonthlyCharges      float64\n",
            "TotalCharges         object\n",
            "Churn                object\n",
            "dtype: object\n"
          ]
        }
      ]
    },
    {
      "cell_type": "markdown",
      "source": [
        "Vejamos algumas observações que merecem destaque, observadas nessa fase inicial.\n",
        "\n",
        "* A coluna `clientID` não é necessária para a análise, pois ela simplesmente fornece um identificador para cada cliente. \n",
        "* A variável alvo é mostrado na coluna `Churn`, que indica se o cliente descontinuou ou não o serviço. \n",
        "* A coluna `TotalCharges`, semelhante à coluna `MonthlyCharges`, contém números flutuantes, mas atualmente está listada como `object`, que deve ser ajustada para `float`. \n",
        "* Além disso, há algumas colunas que precisam ser codificadas em valores numéricos. \n",
        "* Apesar dos dados não apresentarem valores ausentes, algumas cadeias de caracteres podem estar representando valores em branco."
      ],
      "metadata": {
        "id": "vAmcZlqxP1LD"
      }
    },
    {
      "cell_type": "markdown",
      "source": [
        "Como foi dito anteriormente, a coluna `TotalCharges` deveria ser apresentada como `float`, mas estava exibindo como uma `string`. Utilizamos a função `df[TotalCharges].astype(float32)`, porém retornou um erro. (*ValueError: could not convert string to float: ''*)\n",
        "\n",
        "Portanto, uma técnica mais intrincada foi necessária para mudar a coluna. \n",
        "\n",
        "O erro em questão acontece porque os dados ausentes foram preenchidos com \"\", e quando tentamos mudar \"\" para flutuar o intérprete retorna um erro.\n",
        "\n",
        "Para contornar o erro e convertê-lo com precisão, criei uma função para lidar com o erro. Como resultado, era possível reconhecer os valores em falta, que foram logo substituídos pelo valor mediano da coluna.\n",
        "\n",
        "A função converte um objeto string em float, porém caso não seja possível realizar tal operação o objeto string será convertido em um valor NaN.\n",
        "\n",
        "Além disso, removi a coluna `clienteID`, uma vez que ela não oferecia nada ao projeto."
      ],
      "metadata": {
        "id": "_IJynoc9SzYl"
      }
    },
    {
      "cell_type": "code",
      "source": [
        "def convert_str_float(entrada):\n",
        "    \"\"\"\n",
        "    Converte um objeto do tipo string em float.\n",
        "\n",
        "    # Arguments\n",
        "        entrada: string, string da coluna TotalCharges.\n",
        "\n",
        "    # Returns\n",
        "        Valor convertido em float, caso permita a conversão.\n",
        "        NaN, caso o valor não seja apropriado.\n",
        "    \"\"\"\n",
        "\n",
        "    try:\n",
        "        return float(entrada)\n",
        "    except ValueError:\n",
        "        return np.nan\n",
        "\n",
        "# criar cópia do dataframe\n",
        "df_clean = df.copy()\n",
        "\n",
        "# remover coluna costumerID\n",
        "df_clean.drop(\"customerID\", axis=1, inplace=True)\n",
        "\n",
        "# converter as strings de TotalCharges para float\n",
        "df_clean[\"TotalCharges\"] = df_clean[\"TotalCharges\"].apply(convert_str_float)\n",
        "\n",
        "# verificar entradas ausentes\n",
        "print(\"Dados ausentes em 'TotalCharges' (antes):\\t{}\\n\".format(df_clean[\"TotalCharges\"].isnull().sum()))\n",
        "\n",
        "# substituir os dados ausentes pelo valor da mediana\n",
        "TotalChargesMedian = df_clean.TotalCharges.median()\n",
        "df_clean[\"TotalCharges\"].fillna(TotalChargesMedian, inplace=True)"
      ],
      "metadata": {
        "colab": {
          "base_uri": "https://localhost:8080/"
        },
        "id": "26fsVcvxTtiC",
        "outputId": "e6c80567-ad46-43e1-f392-d34aa0367b1a"
      },
      "execution_count": 7,
      "outputs": [
        {
          "output_type": "stream",
          "name": "stdout",
          "text": [
            "Dados ausentes em 'TotalCharges' (antes):\t11\n",
            "\n"
          ]
        }
      ]
    },
    {
      "cell_type": "markdown",
      "source": [
        "* **Resumo Estastístico**\n",
        "\n",
        "O exame dos dados através do método de `describe` revela que a maioria das entradas no conjunto de dados são variáveis binárias ou categóricas, sem indicações de *outliers*."
      ],
      "metadata": {
        "id": "FJ4JI-S-U78E"
      }
    },
    {
      "cell_type": "code",
      "source": [
        "# verificando dados estatisticos\n",
        "df_clean.describe()"
      ],
      "metadata": {
        "colab": {
          "base_uri": "https://localhost:8080/",
          "height": 300
        },
        "id": "zsArFhWSVOEu",
        "outputId": "08ff5e83-c1bf-485a-f48d-2cd00e3a4953"
      },
      "execution_count": 8,
      "outputs": [
        {
          "output_type": "execute_result",
          "data": {
            "text/plain": [
              "       SeniorCitizen       tenure  MonthlyCharges  TotalCharges\n",
              "count    7043.000000  7043.000000     7043.000000   7043.000000\n",
              "mean        0.162147    32.371149       64.761692   2281.916928\n",
              "std         0.368612    24.559481       30.090047   2265.270398\n",
              "min         0.000000     0.000000       18.250000     18.800000\n",
              "25%         0.000000     9.000000       35.500000    402.225000\n",
              "50%         0.000000    29.000000       70.350000   1397.475000\n",
              "75%         0.000000    55.000000       89.850000   3786.600000\n",
              "max         1.000000    72.000000      118.750000   8684.800000"
            ],
            "text/html": [
              "\n",
              "  <div id=\"df-8aa351bf-bf3a-4eab-896c-f1f650fa26d7\">\n",
              "    <div class=\"colab-df-container\">\n",
              "      <div>\n",
              "<style scoped>\n",
              "    .dataframe tbody tr th:only-of-type {\n",
              "        vertical-align: middle;\n",
              "    }\n",
              "\n",
              "    .dataframe tbody tr th {\n",
              "        vertical-align: top;\n",
              "    }\n",
              "\n",
              "    .dataframe thead th {\n",
              "        text-align: right;\n",
              "    }\n",
              "</style>\n",
              "<table border=\"1\" class=\"dataframe\">\n",
              "  <thead>\n",
              "    <tr style=\"text-align: right;\">\n",
              "      <th></th>\n",
              "      <th>SeniorCitizen</th>\n",
              "      <th>tenure</th>\n",
              "      <th>MonthlyCharges</th>\n",
              "      <th>TotalCharges</th>\n",
              "    </tr>\n",
              "  </thead>\n",
              "  <tbody>\n",
              "    <tr>\n",
              "      <th>count</th>\n",
              "      <td>7043.000000</td>\n",
              "      <td>7043.000000</td>\n",
              "      <td>7043.000000</td>\n",
              "      <td>7043.000000</td>\n",
              "    </tr>\n",
              "    <tr>\n",
              "      <th>mean</th>\n",
              "      <td>0.162147</td>\n",
              "      <td>32.371149</td>\n",
              "      <td>64.761692</td>\n",
              "      <td>2281.916928</td>\n",
              "    </tr>\n",
              "    <tr>\n",
              "      <th>std</th>\n",
              "      <td>0.368612</td>\n",
              "      <td>24.559481</td>\n",
              "      <td>30.090047</td>\n",
              "      <td>2265.270398</td>\n",
              "    </tr>\n",
              "    <tr>\n",
              "      <th>min</th>\n",
              "      <td>0.000000</td>\n",
              "      <td>0.000000</td>\n",
              "      <td>18.250000</td>\n",
              "      <td>18.800000</td>\n",
              "    </tr>\n",
              "    <tr>\n",
              "      <th>25%</th>\n",
              "      <td>0.000000</td>\n",
              "      <td>9.000000</td>\n",
              "      <td>35.500000</td>\n",
              "      <td>402.225000</td>\n",
              "    </tr>\n",
              "    <tr>\n",
              "      <th>50%</th>\n",
              "      <td>0.000000</td>\n",
              "      <td>29.000000</td>\n",
              "      <td>70.350000</td>\n",
              "      <td>1397.475000</td>\n",
              "    </tr>\n",
              "    <tr>\n",
              "      <th>75%</th>\n",
              "      <td>0.000000</td>\n",
              "      <td>55.000000</td>\n",
              "      <td>89.850000</td>\n",
              "      <td>3786.600000</td>\n",
              "    </tr>\n",
              "    <tr>\n",
              "      <th>max</th>\n",
              "      <td>1.000000</td>\n",
              "      <td>72.000000</td>\n",
              "      <td>118.750000</td>\n",
              "      <td>8684.800000</td>\n",
              "    </tr>\n",
              "  </tbody>\n",
              "</table>\n",
              "</div>\n",
              "      <button class=\"colab-df-convert\" onclick=\"convertToInteractive('df-8aa351bf-bf3a-4eab-896c-f1f650fa26d7')\"\n",
              "              title=\"Convert this dataframe to an interactive table.\"\n",
              "              style=\"display:none;\">\n",
              "        \n",
              "  <svg xmlns=\"http://www.w3.org/2000/svg\" height=\"24px\"viewBox=\"0 0 24 24\"\n",
              "       width=\"24px\">\n",
              "    <path d=\"M0 0h24v24H0V0z\" fill=\"none\"/>\n",
              "    <path d=\"M18.56 5.44l.94 2.06.94-2.06 2.06-.94-2.06-.94-.94-2.06-.94 2.06-2.06.94zm-11 1L8.5 8.5l.94-2.06 2.06-.94-2.06-.94L8.5 2.5l-.94 2.06-2.06.94zm10 10l.94 2.06.94-2.06 2.06-.94-2.06-.94-.94-2.06-.94 2.06-2.06.94z\"/><path d=\"M17.41 7.96l-1.37-1.37c-.4-.4-.92-.59-1.43-.59-.52 0-1.04.2-1.43.59L10.3 9.45l-7.72 7.72c-.78.78-.78 2.05 0 2.83L4 21.41c.39.39.9.59 1.41.59.51 0 1.02-.2 1.41-.59l7.78-7.78 2.81-2.81c.8-.78.8-2.07 0-2.86zM5.41 20L4 18.59l7.72-7.72 1.47 1.35L5.41 20z\"/>\n",
              "  </svg>\n",
              "      </button>\n",
              "      \n",
              "  <style>\n",
              "    .colab-df-container {\n",
              "      display:flex;\n",
              "      flex-wrap:wrap;\n",
              "      gap: 12px;\n",
              "    }\n",
              "\n",
              "    .colab-df-convert {\n",
              "      background-color: #E8F0FE;\n",
              "      border: none;\n",
              "      border-radius: 50%;\n",
              "      cursor: pointer;\n",
              "      display: none;\n",
              "      fill: #1967D2;\n",
              "      height: 32px;\n",
              "      padding: 0 0 0 0;\n",
              "      width: 32px;\n",
              "    }\n",
              "\n",
              "    .colab-df-convert:hover {\n",
              "      background-color: #E2EBFA;\n",
              "      box-shadow: 0px 1px 2px rgba(60, 64, 67, 0.3), 0px 1px 3px 1px rgba(60, 64, 67, 0.15);\n",
              "      fill: #174EA6;\n",
              "    }\n",
              "\n",
              "    [theme=dark] .colab-df-convert {\n",
              "      background-color: #3B4455;\n",
              "      fill: #D2E3FC;\n",
              "    }\n",
              "\n",
              "    [theme=dark] .colab-df-convert:hover {\n",
              "      background-color: #434B5C;\n",
              "      box-shadow: 0px 1px 3px 1px rgba(0, 0, 0, 0.15);\n",
              "      filter: drop-shadow(0px 1px 2px rgba(0, 0, 0, 0.3));\n",
              "      fill: #FFFFFF;\n",
              "    }\n",
              "  </style>\n",
              "\n",
              "      <script>\n",
              "        const buttonEl =\n",
              "          document.querySelector('#df-8aa351bf-bf3a-4eab-896c-f1f650fa26d7 button.colab-df-convert');\n",
              "        buttonEl.style.display =\n",
              "          google.colab.kernel.accessAllowed ? 'block' : 'none';\n",
              "\n",
              "        async function convertToInteractive(key) {\n",
              "          const element = document.querySelector('#df-8aa351bf-bf3a-4eab-896c-f1f650fa26d7');\n",
              "          const dataTable =\n",
              "            await google.colab.kernel.invokeFunction('convertToInteractive',\n",
              "                                                     [key], {});\n",
              "          if (!dataTable) return;\n",
              "\n",
              "          const docLinkHtml = 'Like what you see? Visit the ' +\n",
              "            '<a target=\"_blank\" href=https://colab.research.google.com/notebooks/data_table.ipynb>data table notebook</a>'\n",
              "            + ' to learn more about interactive tables.';\n",
              "          element.innerHTML = '';\n",
              "          dataTable['output_type'] = 'display_data';\n",
              "          await google.colab.output.renderOutput(dataTable, element);\n",
              "          const docLink = document.createElement('div');\n",
              "          docLink.innerHTML = docLinkHtml;\n",
              "          element.appendChild(docLink);\n",
              "        }\n",
              "      </script>\n",
              "    </div>\n",
              "  </div>\n",
              "  "
            ]
          },
          "metadata": {},
          "execution_count": 8
        }
      ]
    },
    {
      "cell_type": "markdown",
      "source": [
        "É possível confirmar a falta de outliers quando analisamos os boxplots das colunas `MonthlyCharges` e `TotalCharges`, uma vez que mesmo sem definirmos limites não foi encontrado nenhum plot fora dos limites."
      ],
      "metadata": {
        "id": "hutqxLHrXHJJ"
      }
    },
    {
      "cell_type": "code",
      "source": [
        "# Plotar gráficos boxplot para verificar a presença de outliers\n",
        "fig , ax = plt.subplots(nrows=1, ncols=2, figsize=(9,3))\n",
        "sns.boxplot(df_clean['MonthlyCharges'], ax=ax[0])\n",
        "sns.boxplot(df_clean['TotalCharges'], ax=ax[1])\n",
        "\n",
        "plt.tight_layout()"
      ],
      "metadata": {
        "colab": {
          "base_uri": "https://localhost:8080/",
          "height": 225
        },
        "id": "t1eSD8AbXHhY",
        "outputId": "b7ee1744-579e-46f1-d27c-ddeb3df2fea0"
      },
      "execution_count": 9,
      "outputs": [
        {
          "output_type": "display_data",
          "data": {
            "text/plain": [
              "<Figure size 648x216 with 2 Axes>"
            ],
            "image/png": "[encoded data removed]"
          },
          "metadata": {
            "needs_background": "light"
          }
        }
      ]
    },
    {
      "cell_type": "markdown",
      "source": [
        "### Dados Vs Churn\n",
        "\n",
        "Vamos verificar algumas variáveis em relação ao Churn para ver se existe alguma relação e se podemos tirar algum insigth disso."
      ],
      "metadata": {
        "id": "C4LMRrJORLJ-"
      }
    },
    {
      "cell_type": "markdown",
      "source": [
        "### Gender — Count e Gender versus Churn"
      ],
      "metadata": {
        "id": "bbxbpTyhKiI_"
      }
    },
    {
      "cell_type": "code",
      "source": [
        "# gráfico 1\n",
        "plt.figure(figsize=(8,4))\n",
        "ax1 = sns.countplot(x=\"gender\", data=df_clean);\n",
        "ax1.set_ylabel('Count')\n",
        "ax1.set_xlabel('Gender')\n",
        "ax1.set_title('Quantidade de Gender', fontsize = 20);\n",
        "\n",
        "# gráfico 2\n",
        "agg = df_clean.replace('Yes', 1).replace('No', 0).groupby('gender', as_index=False)[['Churn']].sum()\n",
        "agg.iloc[0,1] = round(agg.iloc[0,1]/df_clean[df_clean.gender=='Male'].shape[0], 2) * 100\n",
        "agg.iloc[1,1] = round(agg.iloc[1,1]/df_clean[df_clean.gender=='Female'].shape[0], 2) * 100\n",
        "plt.figure(figsize=(8,4))\n",
        "ax2 = sns.barplot(x='gender', y ='Churn', data = agg)\n",
        "ax2.set_ylabel('Churn')\n",
        "ax2.set_xlabel('Gender')\n",
        "\n",
        "ax2.set_title('Gender vs Churn', fontsize = 20);"
      ],
      "metadata": {
        "colab": {
          "base_uri": "https://localhost:8080/",
          "height": 583
        },
        "id": "WGVtBciyKh42",
        "outputId": "85f6f7d9-5e15-47ba-efa0-158259e41f58"
      },
      "execution_count": 10,
      "outputs": [
        {
          "output_type": "display_data",
          "data": {
            "text/plain": [
              "<Figure size 576x288 with 1 Axes>"
            ],
            "image/png": "[encoded data removed]"
          },
          "metadata": {
            "needs_background": "light"
          }
        },
        {
          "output_type": "display_data",
          "data": {
            "text/plain": [
              "<Figure size 576x288 with 1 Axes>"
            ],
            "image/png": "[encoded data removed]"
          },
          "metadata": {
            "needs_background": "light"
          }
        }
      ]
    },
    {
      "cell_type": "markdown",
      "source": [
        "Para a feature `Gender`, os dados estão relativamente balanceados. Não há, portanto, um ganho de informação relevante."
      ],
      "metadata": {
        "id": "fCJne1yTKhtl"
      }
    },
    {
      "cell_type": "markdown",
      "source": [
        "### SeniorCitizen — Count e SeniorCitizen versus Churn"
      ],
      "metadata": {
        "id": "KJs2_mEaKLRb"
      }
    },
    {
      "cell_type": "code",
      "source": [
        "# gráfico 1\n",
        "plt.figure(figsize=(8,4))\n",
        "ax1 = sns.countplot(x=\"SeniorCitizen\", data=df_clean);\n",
        "ax1.set_ylabel('Count')\n",
        "ax1.set_xlabel('SeniorCitizen')\n",
        "ax1.set_title('Quantidade de SeniorCitizen', fontsize = 20);\n",
        "\n",
        "# gráfico 2\n",
        "agg = df_clean.replace('Yes', 1).replace('No', 0).groupby('SeniorCitizen', as_index=False)[['Churn']].sum()\n",
        "agg.iloc[0,1] = round(agg.iloc[0,1]/df_clean[df_clean.SeniorCitizen==0].shape[0], 2) * 100\n",
        "agg.iloc[1,1] = round(agg.iloc[1,1]/df_clean[df_clean.SeniorCitizen==1].shape[0], 2) * 100\n",
        "plt.figure(figsize=(8,4))\n",
        "ax2 = sns.barplot(x='SeniorCitizen', y ='Churn', data = agg)\n",
        "ax2.set_ylabel('Churn')\n",
        "ax2.set_xlabel('Senior Citizen')\n",
        "\n",
        "ax2.set_title('Senior Citizens vs Churn', fontsize = 20);"
      ],
      "metadata": {
        "colab": {
          "base_uri": "https://localhost:8080/",
          "height": 583
        },
        "id": "eaAKArk_Ecl0",
        "outputId": "dfd8222d-3fdf-461a-94a5-9c367c7aba9f"
      },
      "execution_count": 11,
      "outputs": [
        {
          "output_type": "display_data",
          "data": {
            "text/plain": [
              "<Figure size 576x288 with 1 Axes>"
            ],
            "image/png": "[encoded data removed]"
          },
          "metadata": {
            "needs_background": "light"
          }
        },
        {
          "output_type": "display_data",
          "data": {
            "text/plain": [
              "<Figure size 576x288 with 1 Axes>"
            ],
            "image/png": "[encoded data removed]"
          },
          "metadata": {
            "needs_background": "light"
          }
        }
      ]
    },
    {
      "cell_type": "markdown",
      "source": [
        "A feature `SeniorCitizen` apresenta um comportamento interessante: apesar de haver um menor número de cidadãos idosos, eles são os que mais cancelam a contratação dos serviços. Isso sugere que seria importante realizar ações de marketing direcionadas a esse público para tentar reduzir a taxa de churn (cancelamento dos serviços)."
      ],
      "metadata": {
        "id": "oK8dwxhHNnv4"
      }
    },
    {
      "cell_type": "markdown",
      "source": [
        "### Contract — Count e Contract versus Churn"
      ],
      "metadata": {
        "id": "A3IG2M1WNQNT"
      }
    },
    {
      "cell_type": "code",
      "source": [
        "# gráfico 1\n",
        "plt.figure(figsize=(8,4))\n",
        "ax1 = sns.countplot(x=\"Contract\", data=df_clean);\n",
        "ax1.set_ylabel('Count')\n",
        "ax1.set_xlabel('Contract')\n",
        "ax1.set_title('Quantidade de Contratos', fontsize = 20);\n",
        "\n",
        "# gráfico 2\n",
        "agg = df_clean.replace('Yes', 1).replace('No', 0).groupby('Contract', as_index=False)[['Churn']].sum()\n",
        "agg.iloc[0,1] = round(agg.iloc[0,1]/df_clean[df_clean.Contract=='Month-to-month'].shape[0], 2) * 100\n",
        "agg.iloc[1,1] = round(agg.iloc[1,1]/df_clean[df_clean.Contract=='One year'].shape[0], 2) * 100\n",
        "agg.iloc[2,1] = round(agg.iloc[2,1]/df_clean[df_clean.Contract=='Two year'].shape[0], 2) * 100\n",
        "plt.figure(figsize=(8,4))\n",
        "ax2 = sns.barplot(x='Contract', y ='Churn', data = agg)\n",
        "ax2.set_ylabel('Churn')\n",
        "ax2.set_xlabel('Contract')\n",
        "\n",
        "ax2.set_title('Contratos vs Churn', fontsize = 20);"
      ],
      "metadata": {
        "colab": {
          "base_uri": "https://localhost:8080/",
          "height": 583
        },
        "id": "7N8rpKifNQfJ",
        "outputId": "ea915868-fac4-4a92-f4bc-3a8b4cb17500"
      },
      "execution_count": 12,
      "outputs": [
        {
          "output_type": "display_data",
          "data": {
            "text/plain": [
              "<Figure size 576x288 with 1 Axes>"
            ],
            "image/png": "[encoded data removed]"
          },
          "metadata": {
            "needs_background": "light"
          }
        },
        {
          "output_type": "display_data",
          "data": {
            "text/plain": [
              "<Figure size 576x288 with 1 Axes>"
            ],
            "image/png": "[encoded data removed]"
          },
          "metadata": {
            "needs_background": "light"
          }
        }
      ]
    },
    {
      "cell_type": "markdown",
      "source": [
        "Observamos que os usuários que contratam o serviço por dois anos têm um número ligeiramente superior aos que contratam por um ano. \n",
        "\n",
        "No entanto, representam cerca de três vezes menos os que cancelam a contratação dos serviços. \n",
        "\n",
        "Isso pode ser explicado pelo fato de que aqueles que contratam por mais tempo, por exemplo, dois anos, tendem a ter maior confiança na empresa e, consequentemente, um índice de satisfação mais alto. Portanto, é um comportamento natural."
      ],
      "metadata": {
        "id": "I5EED7QCNQz1"
      }
    },
    {
      "cell_type": "markdown",
      "source": [
        "#### Substituindo \"No phone service\" e \"No internet service\" por \"No\"\n",
        "Ao manipular variáveis categóricas, é essencial inspecionar os valores distintos. Isto permite detectar condições tais como vários labels com a mesma interpretação.\n",
        "\n",
        "Ao inspecionar os valores impressos na célula abaixo, entendo que um cientista de dados pode querer ver valores como `No`, `No phone service` e `No internet service` como sendo os mesmos."
      ],
      "metadata": {
        "id": "Af9_-rP8XwU-"
      }
    },
    {
      "cell_type": "code",
      "source": [
        "# verificar valores únicos das variáveis categóricas\n",
        "np.unique(df_clean.select_dtypes('object').values)"
      ],
      "metadata": {
        "colab": {
          "base_uri": "https://localhost:8080/"
        },
        "id": "deE0I3KGXwyS",
        "outputId": "2358edab-2b4a-407a-82fd-863f0da07651"
      },
      "execution_count": 13,
      "outputs": [
        {
          "output_type": "execute_result",
          "data": {
            "text/plain": [
              "array(['Bank transfer (automatic)', 'Credit card (automatic)', 'DSL',\n",
              "       'Electronic check', 'Female', 'Fiber optic', 'Mailed check',\n",
              "       'Male', 'Month-to-month', 'No', 'No internet service',\n",
              "       'No phone service', 'One year', 'Two year', 'Yes'], dtype=object)"
            ]
          },
          "metadata": {},
          "execution_count": 13
        }
      ]
    },
    {
      "cell_type": "code",
      "source": [
        "# Substituindo \"No phone service\" e \"No internet service\" por \"No\"\n",
        "df_clean.replace({'No internet service': 'No'}, regex=True, inplace=True)\n",
        "df_clean.replace({'No phone service': 'No'}, regex=True, inplace=True)"
      ],
      "metadata": {
        "id": "fjjJhnsGYjCw"
      },
      "execution_count": 14,
      "outputs": []
    },
    {
      "cell_type": "code",
      "source": [
        "# Checando a mudança nos valores únicos\n",
        "np.unique(df_clean.select_dtypes('object').values)\n",
        "     "
      ],
      "metadata": {
        "colab": {
          "base_uri": "https://localhost:8080/"
        },
        "id": "dWQZtrrdYvJ5",
        "outputId": "efd55752-fbd9-45cf-ec85-5619925fa899"
      },
      "execution_count": 15,
      "outputs": [
        {
          "output_type": "execute_result",
          "data": {
            "text/plain": [
              "array(['Bank transfer (automatic)', 'Credit card (automatic)', 'DSL',\n",
              "       'Electronic check', 'Female', 'Fiber optic', 'Mailed check',\n",
              "       'Male', 'Month-to-month', 'No', 'One year', 'Two year', 'Yes'],\n",
              "      dtype=object)"
            ]
          },
          "metadata": {},
          "execution_count": 15
        }
      ]
    },
    {
      "cell_type": "markdown",
      "source": [
        "Através da observação do gráfico do balanceamento da feature Churn, podemos observar que há um desbalanceamento em nosso conjunto de dados, portanto pode interferir no desempenho do nosso modelo de Machine Learning.\n",
        "\n",
        "Então é necessário fazer o balanceamento das classes, e isso será feito ao decorrer do projeto."
      ],
      "metadata": {
        "id": "q8U28EJBZETD"
      }
    },
    {
      "cell_type": "code",
      "source": [
        "# Plotar gráfico das classes\n",
        "print(df_clean.Churn.value_counts())\n",
        "print('\\nYes {:.3f}% do dataset.'.format((df_clean[df_clean.Churn == \"Yes\"].shape[0] / df.shape[0]) * 100))\n",
        "print('No {:.3f}% do dataset.\\n'.format((df_clean[df_clean.Churn == \"No\"].shape[0] / df.shape[0]) * 100))\n",
        "\n",
        "sns.countplot(df_clean.Churn)\n",
        "plt.tight_layout()"
      ],
      "metadata": {
        "colab": {
          "base_uri": "https://localhost:8080/",
          "height": 418
        },
        "id": "wpuhjCNoZE1K",
        "outputId": "b949c9e8-78c9-4432-c7fe-22d8e4f0128f"
      },
      "execution_count": 16,
      "outputs": [
        {
          "output_type": "stream",
          "name": "stdout",
          "text": [
            "No     5174\n",
            "Yes    1869\n",
            "Name: Churn, dtype: int64\n",
            "\n",
            "Yes 26.537% do dataset.\n",
            "No 73.463% do dataset.\n",
            "\n"
          ]
        },
        {
          "output_type": "display_data",
          "data": {
            "text/plain": [
              "<Figure size 432x288 with 1 Axes>"
            ],
            "image/png": "[encoded data removed]"
          },
          "metadata": {
            "needs_background": "light"
          }
        }
      ]
    },
    {
      "cell_type": "markdown",
      "source": [
        "## **Modelo de Machine Learning**\n",
        "Antes de iniciar o processo de seleção do melhor Modelo de Aprendizado de Máquina possível para a tarefa de previsão de atrito, devemos começar com a preparação dos dados.\n",
        "\n",
        "### **Preparação de dados**\n",
        "\n",
        "Nesta etapa, prepararemos os dados para nos permitir aplicar numerosos modelos de aprendizagem de máquinas. O passo inicial é transformar as variáveis categóricas em valores numéricos.\n",
        "\n",
        "Para isso, empregaremos o `LabelEncoder` da biblioteca `Scikit-Learn` para converter as variáveis binárias em 0 e 1. Para as variáveis não-binárias e categóricas, utilizaremos a abordagem `get_dummies` de `Pandas` que funciona de forma semelhante ao `OneHotEncoder` da `Scikit-Learn`, mas com alguns processos para acelerar o processo."
      ],
      "metadata": {
        "id": "7B364VGmeQY9"
      }
    },
    {
      "cell_type": "code",
      "source": [
        "variaveis_binarias = df_clean.nunique()[df_clean.nunique() == 2].keys().tolist()\n",
        "variaveis_numericas = [col for col in df_clean.select_dtypes(['int', 'float']).columns.tolist() if col not in variaveis_binarias]\n",
        "variaveis_categoricas = [col for col in df_clean.columns.tolist() if col not in variaveis_binarias + variaveis_numericas]\n",
        "\n",
        "df_clean_proc = df_clean.copy()\n",
        "\n",
        "# Processando os dados com o Label Encoder\n",
        "le = LabelEncoder()\n",
        "for i in variaveis_binarias:\n",
        "  df_clean_proc[i] = le.fit_transform(df_clean_proc[i])\n",
        "\n",
        "# Processandos os dados com o Get Dummies\n",
        "df_clean_proc = pd.get_dummies(df_clean_proc, columns=variaveis_categoricas)"
      ],
      "metadata": {
        "id": "SIOo--tTeSEM"
      },
      "execution_count": 17,
      "outputs": []
    },
    {
      "cell_type": "markdown",
      "source": [
        "Vamos avaliar como ficou o dataset tratado, imprimindo as 5 primeiras linhas."
      ],
      "metadata": {
        "id": "B5xCcWiIgZUm"
      }
    },
    {
      "cell_type": "code",
      "source": [
        "#Imprimindo as 5 primeiras linhas\n",
        "df_clean_proc.head()"
      ],
      "metadata": {
        "colab": {
          "base_uri": "https://localhost:8080/",
          "height": 334
        },
        "id": "llbzO4orgZuO",
        "outputId": "d7caf873-b798-4ac8-f2c3-6390f3d765c8"
      },
      "execution_count": 18,
      "outputs": [
        {
          "output_type": "execute_result",
          "data": {
            "text/plain": [
              "   gender  SeniorCitizen  Partner  Dependents  tenure  PhoneService  \\\n",
              "0       0              0        1           0       1             0   \n",
              "1       1              0        0           0      34             1   \n",
              "2       1              0        0           0       2             1   \n",
              "3       1              0        0           0      45             0   \n",
              "4       0              0        0           0       2             1   \n",
              "\n",
              "   MultipleLines  OnlineSecurity  OnlineBackup  DeviceProtection  ...  \\\n",
              "0              0               0             1                 0  ...   \n",
              "1              0               1             0                 1  ...   \n",
              "2              0               1             1                 0  ...   \n",
              "3              0               1             0                 1  ...   \n",
              "4              0               0             0                 0  ...   \n",
              "\n",
              "   InternetService_DSL  InternetService_Fiber optic  InternetService_No  \\\n",
              "0                    1                            0                   0   \n",
              "1                    1                            0                   0   \n",
              "2                    1                            0                   0   \n",
              "3                    1                            0                   0   \n",
              "4                    0                            1                   0   \n",
              "\n",
              "   Contract_Month-to-month  Contract_One year  Contract_Two year  \\\n",
              "0                        1                  0                  0   \n",
              "1                        0                  1                  0   \n",
              "2                        1                  0                  0   \n",
              "3                        0                  1                  0   \n",
              "4                        1                  0                  0   \n",
              "\n",
              "   PaymentMethod_Bank transfer (automatic)  \\\n",
              "0                                        0   \n",
              "1                                        0   \n",
              "2                                        0   \n",
              "3                                        1   \n",
              "4                                        0   \n",
              "\n",
              "   PaymentMethod_Credit card (automatic)  PaymentMethod_Electronic check  \\\n",
              "0                                      0                               1   \n",
              "1                                      0                               0   \n",
              "2                                      0                               0   \n",
              "3                                      0                               0   \n",
              "4                                      0                               1   \n",
              "\n",
              "   PaymentMethod_Mailed check  \n",
              "0                           0  \n",
              "1                           1  \n",
              "2                           1  \n",
              "3                           0  \n",
              "4                           0  \n",
              "\n",
              "[5 rows x 27 columns]"
            ],
            "text/html": [
              "\n",
              "  <div id=\"df-971020cd-6689-4eb7-b4cc-4c849aa0b4d9\">\n",
              "    <div class=\"colab-df-container\">\n",
              "      <div>\n",
              "<style scoped>\n",
              "    .dataframe tbody tr th:only-of-type {\n",
              "        vertical-align: middle;\n",
              "    }\n",
              "\n",
              "    .dataframe tbody tr th {\n",
              "        vertical-align: top;\n",
              "    }\n",
              "\n",
              "    .dataframe thead th {\n",
              "        text-align: right;\n",
              "    }\n",
              "</style>\n",
              "<table border=\"1\" class=\"dataframe\">\n",
              "  <thead>\n",
              "    <tr style=\"text-align: right;\">\n",
              "      <th></th>\n",
              "      <th>gender</th>\n",
              "      <th>SeniorCitizen</th>\n",
              "      <th>Partner</th>\n",
              "      <th>Dependents</th>\n",
              "      <th>tenure</th>\n",
              "      <th>PhoneService</th>\n",
              "      <th>MultipleLines</th>\n",
              "      <th>OnlineSecurity</th>\n",
              "      <th>OnlineBackup</th>\n",
              "      <th>DeviceProtection</th>\n",
              "      <th>...</th>\n",
              "      <th>InternetService_DSL</th>\n",
              "      <th>InternetService_Fiber optic</th>\n",
              "      <th>InternetService_No</th>\n",
              "      <th>Contract_Month-to-month</th>\n",
              "      <th>Contract_One year</th>\n",
              "      <th>Contract_Two year</th>\n",
              "      <th>PaymentMethod_Bank transfer (automatic)</th>\n",
              "      <th>PaymentMethod_Credit card (automatic)</th>\n",
              "      <th>PaymentMethod_Electronic check</th>\n",
              "      <th>PaymentMethod_Mailed check</th>\n",
              "    </tr>\n",
              "  </thead>\n",
              "  <tbody>\n",
              "    <tr>\n",
              "      <th>0</th>\n",
              "      <td>0</td>\n",
              "      <td>0</td>\n",
              "      <td>1</td>\n",
              "      <td>0</td>\n",
              "      <td>1</td>\n",
              "      <td>0</td>\n",
              "      <td>0</td>\n",
              "      <td>0</td>\n",
              "      <td>1</td>\n",
              "      <td>0</td>\n",
              "      <td>...</td>\n",
              "      <td>1</td>\n",
              "      <td>0</td>\n",
              "      <td>0</td>\n",
              "      <td>1</td>\n",
              "      <td>0</td>\n",
              "      <td>0</td>\n",
              "      <td>0</td>\n",
              "      <td>0</td>\n",
              "      <td>1</td>\n",
              "      <td>0</td>\n",
              "    </tr>\n",
              "    <tr>\n",
              "      <th>1</th>\n",
              "      <td>1</td>\n",
              "      <td>0</td>\n",
              "      <td>0</td>\n",
              "      <td>0</td>\n",
              "      <td>34</td>\n",
              "      <td>1</td>\n",
              "      <td>0</td>\n",
              "      <td>1</td>\n",
              "      <td>0</td>\n",
              "      <td>1</td>\n",
              "      <td>...</td>\n",
              "      <td>1</td>\n",
              "      <td>0</td>\n",
              "      <td>0</td>\n",
              "      <td>0</td>\n",
              "      <td>1</td>\n",
              "      <td>0</td>\n",
              "      <td>0</td>\n",
              "      <td>0</td>\n",
              "      <td>0</td>\n",
              "      <td>1</td>\n",
              "    </tr>\n",
              "    <tr>\n",
              "      <th>2</th>\n",
              "      <td>1</td>\n",
              "      <td>0</td>\n",
              "      <td>0</td>\n",
              "      <td>0</td>\n",
              "      <td>2</td>\n",
              "      <td>1</td>\n",
              "      <td>0</td>\n",
              "      <td>1</td>\n",
              "      <td>1</td>\n",
              "      <td>0</td>\n",
              "      <td>...</td>\n",
              "      <td>1</td>\n",
              "      <td>0</td>\n",
              "      <td>0</td>\n",
              "      <td>1</td>\n",
              "      <td>0</td>\n",
              "      <td>0</td>\n",
              "      <td>0</td>\n",
              "      <td>0</td>\n",
              "      <td>0</td>\n",
              "      <td>1</td>\n",
              "    </tr>\n",
              "    <tr>\n",
              "      <th>3</th>\n",
              "      <td>1</td>\n",
              "      <td>0</td>\n",
              "      <td>0</td>\n",
              "      <td>0</td>\n",
              "      <td>45</td>\n",
              "      <td>0</td>\n",
              "      <td>0</td>\n",
              "      <td>1</td>\n",
              "      <td>0</td>\n",
              "      <td>1</td>\n",
              "      <td>...</td>\n",
              "      <td>1</td>\n",
              "      <td>0</td>\n",
              "      <td>0</td>\n",
              "      <td>0</td>\n",
              "      <td>1</td>\n",
              "      <td>0</td>\n",
              "      <td>1</td>\n",
              "      <td>0</td>\n",
              "      <td>0</td>\n",
              "      <td>0</td>\n",
              "    </tr>\n",
              "    <tr>\n",
              "      <th>4</th>\n",
              "      <td>0</td>\n",
              "      <td>0</td>\n",
              "      <td>0</td>\n",
              "      <td>0</td>\n",
              "      <td>2</td>\n",
              "      <td>1</td>\n",
              "      <td>0</td>\n",
              "      <td>0</td>\n",
              "      <td>0</td>\n",
              "      <td>0</td>\n",
              "      <td>...</td>\n",
              "      <td>0</td>\n",
              "      <td>1</td>\n",
              "      <td>0</td>\n",
              "      <td>1</td>\n",
              "      <td>0</td>\n",
              "      <td>0</td>\n",
              "      <td>0</td>\n",
              "      <td>0</td>\n",
              "      <td>1</td>\n",
              "      <td>0</td>\n",
              "    </tr>\n",
              "  </tbody>\n",
              "</table>\n",
              "<p>5 rows × 27 columns</p>\n",
              "</div>\n",
              "      <button class=\"colab-df-convert\" onclick=\"convertToInteractive('df-971020cd-6689-4eb7-b4cc-4c849aa0b4d9')\"\n",
              "              title=\"Convert this dataframe to an interactive table.\"\n",
              "              style=\"display:none;\">\n",
              "        \n",
              "  <svg xmlns=\"http://www.w3.org/2000/svg\" height=\"24px\"viewBox=\"0 0 24 24\"\n",
              "       width=\"24px\">\n",
              "    <path d=\"M0 0h24v24H0V0z\" fill=\"none\"/>\n",
              "    <path d=\"M18.56 5.44l.94 2.06.94-2.06 2.06-.94-2.06-.94-.94-2.06-.94 2.06-2.06.94zm-11 1L8.5 8.5l.94-2.06 2.06-.94-2.06-.94L8.5 2.5l-.94 2.06-2.06.94zm10 10l.94 2.06.94-2.06 2.06-.94-2.06-.94-.94-2.06-.94 2.06-2.06.94z\"/><path d=\"M17.41 7.96l-1.37-1.37c-.4-.4-.92-.59-1.43-.59-.52 0-1.04.2-1.43.59L10.3 9.45l-7.72 7.72c-.78.78-.78 2.05 0 2.83L4 21.41c.39.39.9.59 1.41.59.51 0 1.02-.2 1.41-.59l7.78-7.78 2.81-2.81c.8-.78.8-2.07 0-2.86zM5.41 20L4 18.59l7.72-7.72 1.47 1.35L5.41 20z\"/>\n",
              "  </svg>\n",
              "      </button>\n",
              "      \n",
              "  <style>\n",
              "    .colab-df-container {\n",
              "      display:flex;\n",
              "      flex-wrap:wrap;\n",
              "      gap: 12px;\n",
              "    }\n",
              "\n",
              "    .colab-df-convert {\n",
              "      background-color: #E8F0FE;\n",
              "      border: none;\n",
              "      border-radius: 50%;\n",
              "      cursor: pointer;\n",
              "      display: none;\n",
              "      fill: #1967D2;\n",
              "      height: 32px;\n",
              "      padding: 0 0 0 0;\n",
              "      width: 32px;\n",
              "    }\n",
              "\n",
              "    .colab-df-convert:hover {\n",
              "      background-color: #E2EBFA;\n",
              "      box-shadow: 0px 1px 2px rgba(60, 64, 67, 0.3), 0px 1px 3px 1px rgba(60, 64, 67, 0.15);\n",
              "      fill: #174EA6;\n",
              "    }\n",
              "\n",
              "    [theme=dark] .colab-df-convert {\n",
              "      background-color: #3B4455;\n",
              "      fill: #D2E3FC;\n",
              "    }\n",
              "\n",
              "    [theme=dark] .colab-df-convert:hover {\n",
              "      background-color: #434B5C;\n",
              "      box-shadow: 0px 1px 3px 1px rgba(0, 0, 0, 0.15);\n",
              "      filter: drop-shadow(0px 1px 2px rgba(0, 0, 0, 0.3));\n",
              "      fill: #FFFFFF;\n",
              "    }\n",
              "  </style>\n",
              "\n",
              "      <script>\n",
              "        const buttonEl =\n",
              "          document.querySelector('#df-971020cd-6689-4eb7-b4cc-4c849aa0b4d9 button.colab-df-convert');\n",
              "        buttonEl.style.display =\n",
              "          google.colab.kernel.accessAllowed ? 'block' : 'none';\n",
              "\n",
              "        async function convertToInteractive(key) {\n",
              "          const element = document.querySelector('#df-971020cd-6689-4eb7-b4cc-4c849aa0b4d9');\n",
              "          const dataTable =\n",
              "            await google.colab.kernel.invokeFunction('convertToInteractive',\n",
              "                                                     [key], {});\n",
              "          if (!dataTable) return;\n",
              "\n",
              "          const docLinkHtml = 'Like what you see? Visit the ' +\n",
              "            '<a target=\"_blank\" href=https://colab.research.google.com/notebooks/data_table.ipynb>data table notebook</a>'\n",
              "            + ' to learn more about interactive tables.';\n",
              "          element.innerHTML = '';\n",
              "          dataTable['output_type'] = 'display_data';\n",
              "          await google.colab.output.renderOutput(dataTable, element);\n",
              "          const docLink = document.createElement('div');\n",
              "          docLink.innerHTML = docLinkHtml;\n",
              "          element.appendChild(docLink);\n",
              "        }\n",
              "      </script>\n",
              "    </div>\n",
              "  </div>\n",
              "  "
            ]
          },
          "metadata": {},
          "execution_count": 18
        }
      ]
    },
    {
      "cell_type": "markdown",
      "source": [
        "Devemos então separar o banco de dados entre treinamento e testes. Esta etapa é essencial para que possamos melhorar os modelos de aprendizagem da máquina com base no conjunto de dados de treinamento, realizar todos os ajustes necessários, selecionar o melhor modelo com base em seus resultados para que, no final, possamos validar a capacidade de generalização do modelo em relação aos dados não familiares (testes).\n",
        "\n",
        "Além disso, para poder dividir os dados em treinamento e testes, precisamos atribuir valores a X (variáveis independentes) e y (Churn - variável alvo)."
      ],
      "metadata": {
        "id": "cTL6riOJg9on"
      }
    },
    {
      "cell_type": "code",
      "source": [
        "#Definindo os valores de X e y\n",
        "X = df_clean_proc.drop(['Churn'], axis = 1)\n",
        "y = df_clean_proc['Churn']\n",
        "\n",
        "#Dividindo o dataset em treino e test\n",
        "X_train, X_test, y_train, y_test = train_test_split(X, \n",
        "                                                    y, \n",
        "                                                    shuffle = True, \n",
        "                                                    stratify = y,\n",
        "                                                    random_state = 42)"
      ],
      "metadata": {
        "id": "YjXoR9xgg9-5"
      },
      "execution_count": 19,
      "outputs": []
    },
    {
      "cell_type": "markdown",
      "source": [
        "A fim de evitar qualquer viés na previsão e para impedir que o modelo seja excessivamente específico, utilizaremos a estratégia de **under-sampling**, pois ela nos permite manter todos os dados de rotatividade associados ao churn."
      ],
      "metadata": {
        "id": "0o0jVeOvhn5T"
      }
    },
    {
      "cell_type": "code",
      "source": [
        "#  padronizar os  dados,\n",
        "scaler = StandardScaler().fit(X_train)\n",
        "X_train = scaler.transform(X_train)"
      ],
      "metadata": {
        "id": "hvto0_xn_Lk5"
      },
      "execution_count": 20,
      "outputs": []
    },
    {
      "cell_type": "code",
      "source": [
        "#Instanciando o objeto RandomUnderSampler()\n",
        "rus = RandomUnderSampler()\n",
        "\n",
        "#Balanceando a amostra\n",
        "X_train_rus, y_train_rus = rus.fit_resample(X_train, y_train)\n",
        "\n",
        "# verificar se os dados foram balanceados\n",
        "print(y_train_rus.value_counts())\n",
        "print('\\nYes {:.3f}% do dataset.'.format((y_train_rus[y_train_rus == \"Yes\"].shape[0] / df.shape[0]) * 100))\n",
        "print('No {:.3f}% do dataset.\\n'.format((y_train_rus[y_train_rus == \"No\"].shape[0] / df.shape[0]) * 100))\n",
        "\n",
        "sns.countplot(y_train_rus)\n",
        "plt.tight_layout()"
      ],
      "metadata": {
        "colab": {
          "base_uri": "https://localhost:8080/",
          "height": 418
        },
        "id": "0PgQ7mfAhoPP",
        "outputId": "91522699-88ba-4bd8-e89d-00584a6ba534"
      },
      "execution_count": 21,
      "outputs": [
        {
          "output_type": "stream",
          "name": "stdout",
          "text": [
            "0    1402\n",
            "1    1402\n",
            "Name: Churn, dtype: int64\n",
            "\n",
            "Yes 0.000% do dataset.\n",
            "No 0.000% do dataset.\n",
            "\n"
          ]
        },
        {
          "output_type": "display_data",
          "data": {
            "text/plain": [
              "<Figure size 432x288 with 1 Axes>"
            ],
            "image/png": "[encoded data removed]"
          },
          "metadata": {
            "needs_background": "light"
          }
        }
      ]
    },
    {
      "cell_type": "markdown",
      "source": [
        "### **Treinando os Modelos**\n",
        "Com as preparações dos dados, é possível aplicar os variados modelos de machine learning em busca daquele que atende a melhor métrica de avaliação para este problema.\n",
        "\n",
        "Portanto, a métrica de avaliação escolhida para definir a melhor modelo de acordo com a performance no dataset de validação é o `Recall`, porque para este problema queremos que o modelo seja capaz de maximizar os acertos de usuários possíveis de Churn, independente do erro.\n",
        "\n",
        "Utilizaremos os seguintes modelos para ajuste e análise:\n",
        "\n",
        "- Decision Tree\n",
        "- Regressão Logística\n",
        "- Random Forest\n",
        "- Support Vector Classifier (SVC)\n",
        "- k-nearest neighbors (KNN)\n",
        "- XGBoost\n",
        "- LightGBM"
      ],
      "metadata": {
        "id": "PrkrWnbSjR92"
      }
    },
    {
      "cell_type": "code",
      "source": [
        "#Instanciando os parâmetros do Kfold para Validação Cruzada\n",
        "k_fold = KFold(n_splits = 5, shuffle = True, random_state = 42)"
      ],
      "metadata": {
        "id": "jtxduTvnla8M"
      },
      "execution_count": 22,
      "outputs": []
    },
    {
      "cell_type": "code",
      "source": [
        "#Criando uma lista vazia para armazenar os valores das métricas e o nome do modelo\n",
        "name_model = []\n",
        "recall = []\n",
        "\n",
        "#Instanaciando os modelos\n",
        "model_dt = DecisionTreeClassifier()\n",
        "\n",
        "model_rl = LogisticRegression()\n",
        "\n",
        "model_rf = RandomForestClassifier()\n",
        "\n",
        "model_svc = SVC()\n",
        "\n",
        "model_knn = KNeighborsClassifier()\n",
        "\n",
        "model_xgb = XGBClassifier()\n",
        "\n",
        "model_lgb = lgb.LGBMClassifier()\n",
        "\n",
        "#Criando um loop para aplicar o cross_validation em cada modelo e armazenar o resultado\n",
        "for model in [model_dt, model_rl, model_rf, model_svc, model_knn, model_xgb, model_lgb]:\n",
        "\n",
        "  #Aplicando o cross_validation para calcular o score\n",
        "  score = cross_val_score(estimator = model,\n",
        "                          X = X_train_rus,\n",
        "                          y = y_train_rus,\n",
        "                          scoring = 'recall',\n",
        "                          cv = k_fold)\n",
        "  \n",
        "  #Armazenando o nome do modelo\n",
        "  name_model.append(model.__class__.__name__)\n",
        "\n",
        "  #Armazenando o score do modelo\n",
        "  recall.append(score.mean())\n",
        "\n",
        "#Convertendo a estrutura de lista para um dataframe\n",
        "df_model = pd.DataFrame(data = recall, \n",
        "                        index = name_model, \n",
        "                        columns = ['Recall'])\n",
        "\n",
        "#Imprmindo a tabela de resultado\n",
        "df_model"
      ],
      "metadata": {
        "colab": {
          "base_uri": "https://localhost:8080/",
          "height": 269
        },
        "id": "RpKAK3MBjSP9",
        "outputId": "e5e3b1dc-f3b9-4bca-dc7d-672b4b861c71"
      },
      "execution_count": 23,
      "outputs": [
        {
          "output_type": "execute_result",
          "data": {
            "text/plain": [
              "                          Recall\n",
              "DecisionTreeClassifier  0.665344\n",
              "LogisticRegression      0.785150\n",
              "RandomForestClassifier  0.750485\n",
              "SVC                     0.777333\n",
              "KNeighborsClassifier    0.774323\n",
              "XGBClassifier           0.794163\n",
              "LGBMClassifier          0.757901"
            ],
            "text/html": [
              "\n",
              "  <div id=\"df-cfce264f-3c13-480e-bd4c-1ba0dfb159a6\">\n",
              "    <div class=\"colab-df-container\">\n",
              "      <div>\n",
              "<style scoped>\n",
              "    .dataframe tbody tr th:only-of-type {\n",
              "        vertical-align: middle;\n",
              "    }\n",
              "\n",
              "    .dataframe tbody tr th {\n",
              "        vertical-align: top;\n",
              "    }\n",
              "\n",
              "    .dataframe thead th {\n",
              "        text-align: right;\n",
              "    }\n",
              "</style>\n",
              "<table border=\"1\" class=\"dataframe\">\n",
              "  <thead>\n",
              "    <tr style=\"text-align: right;\">\n",
              "      <th></th>\n",
              "      <th>Recall</th>\n",
              "    </tr>\n",
              "  </thead>\n",
              "  <tbody>\n",
              "    <tr>\n",
              "      <th>DecisionTreeClassifier</th>\n",
              "      <td>0.665344</td>\n",
              "    </tr>\n",
              "    <tr>\n",
              "      <th>LogisticRegression</th>\n",
              "      <td>0.785150</td>\n",
              "    </tr>\n",
              "    <tr>\n",
              "      <th>RandomForestClassifier</th>\n",
              "      <td>0.750485</td>\n",
              "    </tr>\n",
              "    <tr>\n",
              "      <th>SVC</th>\n",
              "      <td>0.777333</td>\n",
              "    </tr>\n",
              "    <tr>\n",
              "      <th>KNeighborsClassifier</th>\n",
              "      <td>0.774323</td>\n",
              "    </tr>\n",
              "    <tr>\n",
              "      <th>XGBClassifier</th>\n",
              "      <td>0.794163</td>\n",
              "    </tr>\n",
              "    <tr>\n",
              "      <th>LGBMClassifier</th>\n",
              "      <td>0.757901</td>\n",
              "    </tr>\n",
              "  </tbody>\n",
              "</table>\n",
              "</div>\n",
              "      <button class=\"colab-df-convert\" onclick=\"convertToInteractive('df-cfce264f-3c13-480e-bd4c-1ba0dfb159a6')\"\n",
              "              title=\"Convert this dataframe to an interactive table.\"\n",
              "              style=\"display:none;\">\n",
              "        \n",
              "  <svg xmlns=\"http://www.w3.org/2000/svg\" height=\"24px\"viewBox=\"0 0 24 24\"\n",
              "       width=\"24px\">\n",
              "    <path d=\"M0 0h24v24H0V0z\" fill=\"none\"/>\n",
              "    <path d=\"M18.56 5.44l.94 2.06.94-2.06 2.06-.94-2.06-.94-.94-2.06-.94 2.06-2.06.94zm-11 1L8.5 8.5l.94-2.06 2.06-.94-2.06-.94L8.5 2.5l-.94 2.06-2.06.94zm10 10l.94 2.06.94-2.06 2.06-.94-2.06-.94-.94-2.06-.94 2.06-2.06.94z\"/><path d=\"M17.41 7.96l-1.37-1.37c-.4-.4-.92-.59-1.43-.59-.52 0-1.04.2-1.43.59L10.3 9.45l-7.72 7.72c-.78.78-.78 2.05 0 2.83L4 21.41c.39.39.9.59 1.41.59.51 0 1.02-.2 1.41-.59l7.78-7.78 2.81-2.81c.8-.78.8-2.07 0-2.86zM5.41 20L4 18.59l7.72-7.72 1.47 1.35L5.41 20z\"/>\n",
              "  </svg>\n",
              "      </button>\n",
              "      \n",
              "  <style>\n",
              "    .colab-df-container {\n",
              "      display:flex;\n",
              "      flex-wrap:wrap;\n",
              "      gap: 12px;\n",
              "    }\n",
              "\n",
              "    .colab-df-convert {\n",
              "      background-color: #E8F0FE;\n",
              "      border: none;\n",
              "      border-radius: 50%;\n",
              "      cursor: pointer;\n",
              "      display: none;\n",
              "      fill: #1967D2;\n",
              "      height: 32px;\n",
              "      padding: 0 0 0 0;\n",
              "      width: 32px;\n",
              "    }\n",
              "\n",
              "    .colab-df-convert:hover {\n",
              "      background-color: #E2EBFA;\n",
              "      box-shadow: 0px 1px 2px rgba(60, 64, 67, 0.3), 0px 1px 3px 1px rgba(60, 64, 67, 0.15);\n",
              "      fill: #174EA6;\n",
              "    }\n",
              "\n",
              "    [theme=dark] .colab-df-convert {\n",
              "      background-color: #3B4455;\n",
              "      fill: #D2E3FC;\n",
              "    }\n",
              "\n",
              "    [theme=dark] .colab-df-convert:hover {\n",
              "      background-color: #434B5C;\n",
              "      box-shadow: 0px 1px 3px 1px rgba(0, 0, 0, 0.15);\n",
              "      filter: drop-shadow(0px 1px 2px rgba(0, 0, 0, 0.3));\n",
              "      fill: #FFFFFF;\n",
              "    }\n",
              "  </style>\n",
              "\n",
              "      <script>\n",
              "        const buttonEl =\n",
              "          document.querySelector('#df-cfce264f-3c13-480e-bd4c-1ba0dfb159a6 button.colab-df-convert');\n",
              "        buttonEl.style.display =\n",
              "          google.colab.kernel.accessAllowed ? 'block' : 'none';\n",
              "\n",
              "        async function convertToInteractive(key) {\n",
              "          const element = document.querySelector('#df-cfce264f-3c13-480e-bd4c-1ba0dfb159a6');\n",
              "          const dataTable =\n",
              "            await google.colab.kernel.invokeFunction('convertToInteractive',\n",
              "                                                     [key], {});\n",
              "          if (!dataTable) return;\n",
              "\n",
              "          const docLinkHtml = 'Like what you see? Visit the ' +\n",
              "            '<a target=\"_blank\" href=https://colab.research.google.com/notebooks/data_table.ipynb>data table notebook</a>'\n",
              "            + ' to learn more about interactive tables.';\n",
              "          element.innerHTML = '';\n",
              "          dataTable['output_type'] = 'display_data';\n",
              "          await google.colab.output.renderOutput(dataTable, element);\n",
              "          const docLink = document.createElement('div');\n",
              "          docLink.innerHTML = docLinkHtml;\n",
              "          element.appendChild(docLink);\n",
              "        }\n",
              "      </script>\n",
              "    </div>\n",
              "  </div>\n",
              "  "
            ]
          },
          "metadata": {},
          "execution_count": 23
        }
      ]
    },
    {
      "cell_type": "markdown",
      "source": [
        "### **Otimização Hiperparâmetros**\n",
        "Como pudemos perceber acima, o modelo que melhor performou foi `XGBClassifier` seguido bem de perto pelo `LogisticRegression`.\n",
        "\n",
        "Então o próximo passo é otimizar os hiperparâmetros de cada um modelo desses dois, por isso, utilizaremos o algoritmo `GridSearchCV` do `Scikit-Learn` que visa escolher o melhor conjunto de hiperparâmetros a partir de uma validação cruzada.\n",
        "\n",
        "**Para Regressão Logística.** Iremos focar em três hiperparâmetros:\n",
        "* Penalidade;\n",
        "* Grau da penalidade (C);\n",
        "* Solver mais adequado para otimização do modelo para este problema.\n",
        "\n",
        "**Para XGBoost.** Iremos focar em quatro hiperparâmetros:\n",
        "* Número de árvores (n_estimators);\n",
        "* Taxa de aprendizagem (learning_rate);\n",
        "* % do subconjunto de dados a serem considerados em cada árvore (subsample);\n",
        "* Profundidade de cada árvore (max_depth)."
      ],
      "metadata": {
        "id": "FJe05fFjrS07"
      }
    },
    {
      "cell_type": "code",
      "source": [
        "#Definindo os parâmetros para simulação do GridSearch\n",
        "param_gridl = {\"penalty\": ['l1', 'l2', 'elasticnet', 'none'],\n",
        "              \"C\": [0.001, 0.01, 0.1, 1, 10, 100],\n",
        "              \"solver\": ['newton-cg', 'lbfgs', 'liblinear', 'sag', 'saga']}\n",
        "\n",
        "#Instanciando o GridSearch\n",
        "clfl = GridSearchCV(estimator = LogisticRegression(),\n",
        "                   param_grid = param_gridl,\n",
        "                   scoring = 'recall',\n",
        "                   n_jobs = -1,\n",
        "                   cv = k_fold)\n",
        "\n",
        "#Ajustando com base no X_train e y_train balanceado\n",
        "clfl.fit(X = X_train_rus, \n",
        "        y = y_train_rus)\n",
        "\n",
        "#Imprimindo o melhor parâmetro\n",
        "clfl.best_params_"
      ],
      "metadata": {
        "id": "_xrX1d05rTRr",
        "colab": {
          "base_uri": "https://localhost:8080/"
        },
        "outputId": "283c0066-2f02-4fd3-cdad-5b7d6bba8276"
      },
      "execution_count": 24,
      "outputs": [
        {
          "output_type": "execute_result",
          "data": {
            "text/plain": [
              "{'C': 0.01, 'penalty': 'l1', 'solver': 'liblinear'}"
            ]
          },
          "metadata": {},
          "execution_count": 24
        }
      ]
    },
    {
      "cell_type": "markdown",
      "source": [
        "De acordo com `GridSearchCV`, os parâmetros que mais se adequam ao modelo de Regressão Logística, levando em consideração as particularidades do problema, são:\n",
        "* Penalidade = 'l1';\n",
        "* C = 0.01;\n",
        "* Solver = 'liblinear'."
      ],
      "metadata": {
        "id": "Cx8Brs6L8c9a"
      }
    },
    {
      "cell_type": "code",
      "source": [
        "#Definindo os parâmetros para simulação do GridSearch\n",
        "param_gridx = {\"n_estimators\": [10, 100, 1000],\n",
        "              \"learning_rate\": [0.001, 0.01, 0.1],\n",
        "              \"subsample\": [0.5, 0.7, 1],\n",
        "              \"max_depth\": [3, 7, 9]}\n",
        "\n",
        "#Instanciando o GridSearch\n",
        "clfx = GridSearchCV(estimator = XGBClassifier(),\n",
        "                   param_grid = param_gridx,\n",
        "                   scoring = 'recall',\n",
        "                   n_jobs = -1,\n",
        "                   cv = k_fold)\n",
        "\n",
        "#Ajustando com base no X_train e y_train balanceado\n",
        "clfx.fit(X = X_train_rus, \n",
        "        y = y_train_rus)\n",
        "\n",
        "#Imprimindo o melhor parâmetro\n",
        "clfx.best_params_"
      ],
      "metadata": {
        "id": "yf4mM829wR1g",
        "colab": {
          "base_uri": "https://localhost:8080/"
        },
        "outputId": "67ca5dd8-13a0-4458-a554-06e8018ee975"
      },
      "execution_count": 25,
      "outputs": [
        {
          "output_type": "execute_result",
          "data": {
            "text/plain": [
              "{'learning_rate': 0.1, 'max_depth': 3, 'n_estimators': 10, 'subsample': 0.7}"
            ]
          },
          "metadata": {},
          "execution_count": 25
        }
      ]
    },
    {
      "cell_type": "markdown",
      "source": [
        "De acordo com `GridSearchCV`, os parâmetros que mais se adequam ao modelo de XGBoost, levando em consideração as particularidades do problema, são:\n",
        "* learning_rate = 0.1;\n",
        "* max_depth = 3;\n",
        "* n_estimators = 10;\n",
        "* subsample = 0.7."
      ],
      "metadata": {
        "id": "RF2NfeEN8qe1"
      }
    },
    {
      "cell_type": "markdown",
      "source": [
        "### **Definindo o melhor modelo**\n",
        "Após a otimização dos hiperparâmetros dos modelos escolhidos, vamos avaliar o melhor modelo com base na métrica recall obtida a partir do algoritmo de `cross-validation` do `Scikit-learn`."
      ],
      "metadata": {
        "id": "WaI88J1m9PJY"
      }
    },
    {
      "cell_type": "code",
      "source": [
        "#Criando uma lista vazia para armazenar os valores das métricas e o nome do modelo\n",
        "name_model = []\n",
        "recall = []\n",
        "\n",
        "#Instanaciando os modelos com os hiperparâmetros otimizados\n",
        "model_rl = LogisticRegression(C = 0.01, \n",
        "                              penalty = 'l1', \n",
        "                              solver = 'liblinear')\n",
        "\n",
        "model_xgb = XGBClassifier(learning_rate = 0.1,\n",
        "                          max_depth = 3,\n",
        "                          n_estimators = 10,\n",
        "                          subsample = 0.7)\n",
        "\n",
        "#Criando um loop para aplicar o cross_validation em cada modelo e armazenar o resultado\n",
        "for model in [model_rl, model_xgb]:\n",
        "\n",
        "  #Aplicando o cross_validation para calcular o score\n",
        "  score = cross_val_score(estimator = model,\n",
        "                          X = X_train_rus,\n",
        "                          y = y_train_rus,\n",
        "                          scoring = 'recall',\n",
        "                          cv = k_fold)\n",
        "  \n",
        "  #Armazenando o nome do modelo\n",
        "  name_model.append(model.__class__.__name__)\n",
        "\n",
        "  #Armazenando o score do modelo\n",
        "  recall.append(score.mean())\n",
        "\n",
        "#Convertendo a estrutura de lista para um dataframe\n",
        "df_model = pd.DataFrame(data = recall, \n",
        "                        index = name_model, \n",
        "                        columns = ['Recall'])\n",
        "\n",
        "#Imprmindo a tabela de resultado\n",
        "df_model"
      ],
      "metadata": {
        "colab": {
          "base_uri": "https://localhost:8080/",
          "height": 112
        },
        "id": "ea6IR61y7cHH",
        "outputId": "a2e26647-6a4b-4120-979b-8a4dc850e695"
      },
      "execution_count": 26,
      "outputs": [
        {
          "output_type": "execute_result",
          "data": {
            "text/plain": [
              "                      Recall\n",
              "LogisticRegression  0.867014\n",
              "XGBClassifier       0.828033"
            ],
            "text/html": [
              "\n",
              "  <div id=\"df-f06887fc-b39e-4e07-9bf5-db27cbb23c9b\">\n",
              "    <div class=\"colab-df-container\">\n",
              "      <div>\n",
              "<style scoped>\n",
              "    .dataframe tbody tr th:only-of-type {\n",
              "        vertical-align: middle;\n",
              "    }\n",
              "\n",
              "    .dataframe tbody tr th {\n",
              "        vertical-align: top;\n",
              "    }\n",
              "\n",
              "    .dataframe thead th {\n",
              "        text-align: right;\n",
              "    }\n",
              "</style>\n",
              "<table border=\"1\" class=\"dataframe\">\n",
              "  <thead>\n",
              "    <tr style=\"text-align: right;\">\n",
              "      <th></th>\n",
              "      <th>Recall</th>\n",
              "    </tr>\n",
              "  </thead>\n",
              "  <tbody>\n",
              "    <tr>\n",
              "      <th>LogisticRegression</th>\n",
              "      <td>0.867014</td>\n",
              "    </tr>\n",
              "    <tr>\n",
              "      <th>XGBClassifier</th>\n",
              "      <td>0.828033</td>\n",
              "    </tr>\n",
              "  </tbody>\n",
              "</table>\n",
              "</div>\n",
              "      <button class=\"colab-df-convert\" onclick=\"convertToInteractive('df-f06887fc-b39e-4e07-9bf5-db27cbb23c9b')\"\n",
              "              title=\"Convert this dataframe to an interactive table.\"\n",
              "              style=\"display:none;\">\n",
              "        \n",
              "  <svg xmlns=\"http://www.w3.org/2000/svg\" height=\"24px\"viewBox=\"0 0 24 24\"\n",
              "       width=\"24px\">\n",
              "    <path d=\"M0 0h24v24H0V0z\" fill=\"none\"/>\n",
              "    <path d=\"M18.56 5.44l.94 2.06.94-2.06 2.06-.94-2.06-.94-.94-2.06-.94 2.06-2.06.94zm-11 1L8.5 8.5l.94-2.06 2.06-.94-2.06-.94L8.5 2.5l-.94 2.06-2.06.94zm10 10l.94 2.06.94-2.06 2.06-.94-2.06-.94-.94-2.06-.94 2.06-2.06.94z\"/><path d=\"M17.41 7.96l-1.37-1.37c-.4-.4-.92-.59-1.43-.59-.52 0-1.04.2-1.43.59L10.3 9.45l-7.72 7.72c-.78.78-.78 2.05 0 2.83L4 21.41c.39.39.9.59 1.41.59.51 0 1.02-.2 1.41-.59l7.78-7.78 2.81-2.81c.8-.78.8-2.07 0-2.86zM5.41 20L4 18.59l7.72-7.72 1.47 1.35L5.41 20z\"/>\n",
              "  </svg>\n",
              "      </button>\n",
              "      \n",
              "  <style>\n",
              "    .colab-df-container {\n",
              "      display:flex;\n",
              "      flex-wrap:wrap;\n",
              "      gap: 12px;\n",
              "    }\n",
              "\n",
              "    .colab-df-convert {\n",
              "      background-color: #E8F0FE;\n",
              "      border: none;\n",
              "      border-radius: 50%;\n",
              "      cursor: pointer;\n",
              "      display: none;\n",
              "      fill: #1967D2;\n",
              "      height: 32px;\n",
              "      padding: 0 0 0 0;\n",
              "      width: 32px;\n",
              "    }\n",
              "\n",
              "    .colab-df-convert:hover {\n",
              "      background-color: #E2EBFA;\n",
              "      box-shadow: 0px 1px 2px rgba(60, 64, 67, 0.3), 0px 1px 3px 1px rgba(60, 64, 67, 0.15);\n",
              "      fill: #174EA6;\n",
              "    }\n",
              "\n",
              "    [theme=dark] .colab-df-convert {\n",
              "      background-color: #3B4455;\n",
              "      fill: #D2E3FC;\n",
              "    }\n",
              "\n",
              "    [theme=dark] .colab-df-convert:hover {\n",
              "      background-color: #434B5C;\n",
              "      box-shadow: 0px 1px 3px 1px rgba(0, 0, 0, 0.15);\n",
              "      filter: drop-shadow(0px 1px 2px rgba(0, 0, 0, 0.3));\n",
              "      fill: #FFFFFF;\n",
              "    }\n",
              "  </style>\n",
              "\n",
              "      <script>\n",
              "        const buttonEl =\n",
              "          document.querySelector('#df-f06887fc-b39e-4e07-9bf5-db27cbb23c9b button.colab-df-convert');\n",
              "        buttonEl.style.display =\n",
              "          google.colab.kernel.accessAllowed ? 'block' : 'none';\n",
              "\n",
              "        async function convertToInteractive(key) {\n",
              "          const element = document.querySelector('#df-f06887fc-b39e-4e07-9bf5-db27cbb23c9b');\n",
              "          const dataTable =\n",
              "            await google.colab.kernel.invokeFunction('convertToInteractive',\n",
              "                                                     [key], {});\n",
              "          if (!dataTable) return;\n",
              "\n",
              "          const docLinkHtml = 'Like what you see? Visit the ' +\n",
              "            '<a target=\"_blank\" href=https://colab.research.google.com/notebooks/data_table.ipynb>data table notebook</a>'\n",
              "            + ' to learn more about interactive tables.';\n",
              "          element.innerHTML = '';\n",
              "          dataTable['output_type'] = 'display_data';\n",
              "          await google.colab.output.renderOutput(dataTable, element);\n",
              "          const docLink = document.createElement('div');\n",
              "          docLink.innerHTML = docLinkHtml;\n",
              "          element.appendChild(docLink);\n",
              "        }\n",
              "      </script>\n",
              "    </div>\n",
              "  </div>\n",
              "  "
            ]
          },
          "metadata": {},
          "execution_count": 26
        }
      ]
    },
    {
      "cell_type": "markdown",
      "source": [
        "## **Avaliação do Modelo Escolhido nos Dados de Teste**\n",
        "O modelo final escolhifo foi `Logistic Regression` pois performou melhor que `XGBoost`.\n",
        "\n",
        "O próximo passo é avaliarmos a performance do modelo escolhido em relação aos dados de teste."
      ],
      "metadata": {
        "id": "WZ3Dlmrz91Em"
      }
    },
    {
      "cell_type": "code",
      "source": [
        "#Instanciando novamente o modelo escolhido\n",
        "model_rl = LogisticRegression(C = 0.01, \n",
        "                              penalty = 'l1', \n",
        "                              solver = 'liblinear')\n",
        "\n",
        "#Aplicando o modelo escolhido\n",
        "model_rl.fit(X = X_train_rus,\n",
        "              y = y_train_rus)\n",
        "\n",
        "# fazer a previsão\n",
        "# X_test = scaler.transform(X_test)\n",
        "y_pred = model_rl.predict(X_test)\n",
        "\n",
        "# Classification Report\n",
        "print(classification_report(y_test, y_pred))\n",
        "\n",
        "\n",
        "print(\"--------------------------------------------------------------------\")\n",
        "\n",
        "#Instanciando a figure e axes\n",
        "fig, ax = plt.subplots()\n",
        "\n",
        "#Plotando a matriz de confusão em um heatmap\n",
        "sns.heatmap(confusion_matrix(y_test, y_pred, normalize = 'true'), \n",
        "            square=True, \n",
        "            annot=True, \n",
        "            cbar=False,\n",
        "            ax = ax)\n",
        "\n",
        "#Definindo o nome do eixo x\n",
        "ax.set_xlabel(\"Previsão do Modelo\")\n",
        "\n",
        "#Definindo o nome do eixo y\n",
        "ax.set_ylabel(\"Valor Verdadeiro\")\n",
        "\n",
        "#Definindo o título\n",
        "ax.set_title(\"Matriz Confusão SVC\")\n",
        "\n",
        "#Exibindo a matriz de confusão\n",
        "plt.show()"
      ],
      "metadata": {
        "colab": {
          "base_uri": "https://localhost:8080/",
          "height": 469
        },
        "id": "mgG_YiZcZjbw",
        "outputId": "d81e4874-f794-43fa-859c-6f2e012b6142"
      },
      "execution_count": 28,
      "outputs": [
        {
          "output_type": "stream",
          "name": "stdout",
          "text": [
            "              precision    recall  f1-score   support\n",
            "\n",
            "           0       0.93      0.65      0.77      1294\n",
            "           1       0.47      0.87      0.61       467\n",
            "\n",
            "    accuracy                           0.71      1761\n",
            "   macro avg       0.70      0.76      0.69      1761\n",
            "weighted avg       0.81      0.71      0.72      1761\n",
            "\n",
            "--------------------------------------------------------------------\n"
          ]
        },
        {
          "output_type": "display_data",
          "data": {
            "text/plain": [
              "<Figure size 432x288 with 1 Axes>"
            ],
            "image/png": "[encoded data removed]"
          },
          "metadata": {
            "needs_background": "light"
          }
        }
      ]
    },
    {
      "cell_type": "markdown",
      "source": [
        "## **Conclusão**\n",
        "\n",
        "O modelo de machine learning escolhido se baseou na métrica recall com o intuito de acertar o máximo de Churn em clientes que realmente cancelaram o serviço com a empresa de telecomunicações.\n",
        "\n",
        "Diante disto, o modelo que melhor se adequou foi o `Logistic Regression`, alcançando um `recall` na validação cruzada de 87%. Vale destacar também que seu resultado no dataset de teste (87%) foi próximo ao de validação.\n",
        "\n",
        "É importante ressaltar que o projeto tem margem para melhoria com feature engineering, feature selection e aplicações de outros modelos preditivos.\n",
        "\n",
        "Com estas informações, é possível a empresa prever dentre aos novos dados de consumidores quais podem cancelar o serviço e buscar estratégias que antecipem e contribuam para reter e fidelizar o cliente."
      ],
      "metadata": {
        "id": "KOeLavzdBwSA"
      }
    }
  ]
}